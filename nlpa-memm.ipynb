{
 "metadata": {
  "name": "nlpa-memm"
 },
 "nbformat": 3,
 "nbformat_minor": 0,
 "worksheets": [
  {
   "cells": [
    {
     "cell_type": "code",
     "collapsed": false,
     "input": [
      "from pylab import *\n",
      "import bisect\n",
      "def unit(i,n):\n",
      "    result = zeros(n)\n",
      "    result[i] = 1.0\n",
      "    return result"
     ],
     "language": "python",
     "metadata": {},
     "outputs": [],
     "prompt_number": 52
    },
    {
     "cell_type": "heading",
     "level": 1,
     "metadata": {},
     "source": [
      "Generating a Dataset"
     ]
    },
    {
     "cell_type": "code",
     "collapsed": false,
     "input": [
      "M = roll(diag(ones(4)) + 0.1*rand(4,4),-1,1)\n",
      "M /= sum(M,axis=0)[newaxis,:]"
     ],
     "language": "python",
     "metadata": {},
     "outputs": [],
     "prompt_number": 10
    },
    {
     "cell_type": "code",
     "collapsed": false,
     "input": [
      "def generate(M,s=0,n=10):\n",
      "    result = []\n",
      "    for i in range(n):\n",
      "        result.append(s)\n",
      "        x = unit(s,len(M))\n",
      "        x = dot(M,x)\n",
      "        s = bisect.bisect_left(add.accumulate(x),rand())\n",
      "    return result"
     ],
     "language": "python",
     "metadata": {},
     "outputs": [],
     "prompt_number": 55
    },
    {
     "cell_type": "code",
     "collapsed": false,
     "input": [
      "def glabel(s):\n",
      "    result = [0]\n",
      "    for i in range(1,len(s)):\n",
      "        if s[i]==s[i-1]+1 and result[-1]:\n",
      "            result.append(s[i])\n",
      "        else:\n",
      "            result.append(0)\n",
      "    return result"
     ],
     "language": "python",
     "metadata": {},
     "outputs": [],
     "prompt_number": 63
    },
    {
     "cell_type": "code",
     "collapsed": false,
     "input": [
      "xs = generate(M,0,10000)\n",
      "ys = glabel(xs)"
     ],
     "language": "python",
     "metadata": {},
     "outputs": [],
     "prompt_number": 78
    },
    {
     "cell_type": "code",
     "collapsed": false,
     "input": [
      "print xs[:20]\n",
      "print ys[:20]"
     ],
     "language": "python",
     "metadata": {},
     "outputs": [
      {
       "output_type": "stream",
       "stream": "stdout",
       "text": [
        "[0, 1, 2, 3, 1, 2, 3, 0, 1, 2, 2, 3, 0, 1, 2, 3, 0, 1, 2, 3]\n",
        "[0, 1, 2, 3, 0, 2, 3, 0, 1, 2, 0, 3, 0, 1, 2, 3, 0, 1, 2, 3]\n"
       ]
      }
     ],
     "prompt_number": 110
    },
    {
     "cell_type": "heading",
     "level": 1,
     "metadata": {},
     "source": [
      "Learning the Transitions"
     ]
    },
    {
     "cell_type": "code",
     "collapsed": false,
     "input": [
      "cs = []\n",
      "ps = []\n",
      "for i in range(1,len(xs)):\n",
      "    c = concatenate([unit(ys[i-1],4),unit(xs[i],4)])\n",
      "    p = unit(xs[i],4)\n",
      "    cs.append(c)\n",
      "    ps.append(p)"
     ],
     "language": "python",
     "metadata": {},
     "outputs": [],
     "prompt_number": 87
    },
    {
     "cell_type": "code",
     "collapsed": false,
     "input": [
      "from sklearn.linear_model import LogisticRegression"
     ],
     "language": "python",
     "metadata": {},
     "outputs": [],
     "prompt_number": 88
    },
    {
     "cell_type": "code",
     "collapsed": false,
     "input": [
      "lr = LogisticRegression()\n",
      "lr.fit(cs,ys[1:])"
     ],
     "language": "python",
     "metadata": {},
     "outputs": [
      {
       "output_type": "pyout",
       "prompt_number": 89,
       "text": [
        "LogisticRegression(C=1.0, class_weight=None, dual=False, fit_intercept=True,\n",
        "          intercept_scaling=1, penalty='l2', tol=0.0001)"
       ]
      }
     ],
     "prompt_number": 89
    },
    {
     "cell_type": "code",
     "collapsed": false,
     "input": [
      "sum(array(lr.predict(cs),'i')!=array(ys[1:],'i'))"
     ],
     "language": "python",
     "metadata": {},
     "outputs": [
      {
       "output_type": "pyout",
       "prompt_number": 103,
       "text": [
        "442"
       ]
      }
     ],
     "prompt_number": 103
    },
    {
     "cell_type": "heading",
     "level": 1,
     "metadata": {},
     "source": [
      "Forward Algorithm"
     ]
    },
    {
     "cell_type": "code",
     "collapsed": false,
     "input": [
      "pys = [0]\n",
      "for i in range(1,len(xs)):\n",
      "    c = concatenate([unit(pys[i-1],4),unit(xs[i],4)])\n",
      "    y = lr.predict([c])\n",
      "    pys.append(y)"
     ],
     "language": "python",
     "metadata": {},
     "outputs": [],
     "prompt_number": 105
    },
    {
     "cell_type": "code",
     "collapsed": false,
     "input": [
      "sum(array(ys)!=array(pys))"
     ],
     "language": "python",
     "metadata": {},
     "outputs": [
      {
       "output_type": "pyout",
       "prompt_number": 108,
       "text": [
        "382"
       ]
      }
     ],
     "prompt_number": 108
    },
    {
     "cell_type": "code",
     "collapsed": false,
     "input": [
      "array(lr.coef_*10,'i')"
     ],
     "language": "python",
     "metadata": {},
     "outputs": [
      {
       "output_type": "pyout",
       "prompt_number": 91,
       "text": [
        "array([[-11, -18, -10,  48,  49, -15,  -8, -17],\n",
        "       [ 36, -31, -28, -30, -31,  47, -34, -34],\n",
        "       [ -2,  41, -44, -37, -28, -35,  51, -31],\n",
        "       [ -2, -40,  40, -40, -21, -34, -37,  51]], dtype=int32)"
       ]
      }
     ],
     "prompt_number": 91
    },
    {
     "cell_type": "code",
     "collapsed": false,
     "input": [
      "lprobs = zeros((100,4))"
     ],
     "language": "python",
     "metadata": {},
     "outputs": [],
     "prompt_number": 111
    },
    {
     "cell_type": "code",
     "collapsed": false,
     "input": [
      "lprobs[0,:] = log(1.0/4)"
     ],
     "language": "python",
     "metadata": {},
     "outputs": [],
     "prompt_number": 112
    },
    {
     "cell_type": "code",
     "collapsed": false,
     "input": [],
     "language": "python",
     "metadata": {},
     "outputs": []
    }
   ],
   "metadata": {}
  }
 ]
}