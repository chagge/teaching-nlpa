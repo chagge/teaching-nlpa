{
 "metadata": {
  "name": "nlpa-regular-expressions"
 },
 "nbformat": 3,
 "nbformat_minor": 0,
 "worksheets": [
  {
   "cells": [
    {
     "cell_type": "code",
     "collapsed": false,
     "input": [
      "import codecs\n",
      "import unicodedata\n",
      "with codecs.open(\"faust.txt\",\"r\",\"utf-8\") as stream: text = stream.read()"
     ],
     "language": "python",
     "metadata": {},
     "outputs": [],
     "prompt_number": 6
    },
    {
     "cell_type": "code",
     "collapsed": false,
     "input": [
      "# !sudo locale-gen de_DE.UTF-8"
     ],
     "language": "python",
     "metadata": {},
     "outputs": [],
     "prompt_number": 7
    },
    {
     "cell_type": "code",
     "collapsed": false,
     "input": [
      "import locale\n",
      "locale.setlocale(locale.LC_ALL,'de_DE.utf8')\n",
      "# C, en_US.utf8, ..."
     ],
     "language": "python",
     "metadata": {},
     "outputs": [
      {
       "output_type": "pyout",
       "prompt_number": 8,
       "text": [
        "'de_DE.utf8'"
       ]
      }
     ],
     "prompt_number": 8
    },
    {
     "cell_type": "heading",
     "level": 1,
     "metadata": {},
     "source": [
      "Basic Searching and Matching"
     ]
    },
    {
     "cell_type": "markdown",
     "metadata": {},
     "source": [
      "The `re` (regular expression) module contains all the functions we are talking about here.\n",
      "\n",
      "Regular expressions are powerful tools for searching for strings and patterns.\n",
      "\n",
      "They are the basis of the command line `fgrep`, `grep`, and `egrep` tools (the `re` in those names stands for \"regular expression\").\n",
      "\n",
      "Internally, the query is converted into a finite state automaton, and that automaton is then matched."
     ]
    },
    {
     "cell_type": "code",
     "collapsed": false,
     "input": [
      "import re"
     ],
     "language": "python",
     "metadata": {},
     "outputs": [],
     "prompt_number": 9
    },
    {
     "cell_type": "markdown",
     "metadata": {},
     "source": [
      "There are two basic operations, `search` and `match`.\n",
      "The first searches for a regular expression anywhere,\n",
      "the second requires the match to start at the beginning.\n",
      "\n",
      "A *match* is indicated by returning a regular expression object\n",
      "(this behaves like a boolean `True`), and a failed match\n",
      "is indicated by returning None."
     ]
    },
    {
     "cell_type": "code",
     "collapsed": false,
     "input": [
      "re.search('cheese','the cheese and the bread')"
     ],
     "language": "python",
     "metadata": {},
     "outputs": [
      {
       "output_type": "pyout",
       "prompt_number": 10,
       "text": [
        "<_sre.SRE_Match at 0x3b67f38>"
       ]
      }
     ],
     "prompt_number": 10
    },
    {
     "cell_type": "code",
     "collapsed": false,
     "input": [
      "re.search('butter','the cheese and the bread')"
     ],
     "language": "python",
     "metadata": {},
     "outputs": [],
     "prompt_number": 11
    },
    {
     "cell_type": "code",
     "collapsed": false,
     "input": [
      "re.match('cheese','the cheese and the bread')"
     ],
     "language": "python",
     "metadata": {},
     "outputs": [],
     "prompt_number": 12
    },
    {
     "cell_type": "code",
     "collapsed": false,
     "input": [
      "re.match('the','the cheese and the bread')"
     ],
     "language": "python",
     "metadata": {},
     "outputs": [
      {
       "output_type": "pyout",
       "prompt_number": 13,
       "text": [
        "<_sre.SRE_Match at 0x3b8e030>"
       ]
      }
     ],
     "prompt_number": 13
    },
    {
     "cell_type": "markdown",
     "metadata": {},
     "source": [
      "Matches are case-sensitive by default."
     ]
    },
    {
     "cell_type": "code",
     "collapsed": false,
     "input": [
      "re.search('THE','the cheese and the bread')"
     ],
     "language": "python",
     "metadata": {},
     "outputs": [],
     "prompt_number": 14
    },
    {
     "cell_type": "markdown",
     "metadata": {},
     "source": [
      "A third important operation is `sub` and its variant `subn`."
     ]
    },
    {
     "cell_type": "code",
     "collapsed": false,
     "input": [
      "re.sub('cheese','butter','bread and cheese')"
     ],
     "language": "python",
     "metadata": {},
     "outputs": [
      {
       "output_type": "pyout",
       "prompt_number": 15,
       "text": [
        "'bread and butter'"
       ]
      }
     ],
     "prompt_number": 15
    },
    {
     "cell_type": "code",
     "collapsed": false,
     "input": [
      "re.subn('cheese','butter','bread and cheese')"
     ],
     "language": "python",
     "metadata": {},
     "outputs": [
      {
       "output_type": "pyout",
       "prompt_number": 16,
       "text": [
        "('bread and butter', 1)"
       ]
      }
     ],
     "prompt_number": 16
    },
    {
     "cell_type": "markdown",
     "metadata": {},
     "source": [
      "Also, we can find multiple matches with `findall`."
     ]
    },
    {
     "cell_type": "code",
     "collapsed": false,
     "input": [
      "re.findall('spam','spam, spam, ham, and spam')"
     ],
     "language": "python",
     "metadata": {},
     "outputs": [
      {
       "output_type": "pyout",
       "prompt_number": 17,
       "text": [
        "['spam', 'spam', 'spam']"
       ]
      }
     ],
     "prompt_number": 17
    },
    {
     "cell_type": "markdown",
     "metadata": {},
     "source": [
      "Finally, we can also split."
     ]
    },
    {
     "cell_type": "code",
     "collapsed": false,
     "input": [
      "re.split(' ','the quick brown fox')"
     ],
     "language": "python",
     "metadata": {},
     "outputs": [
      {
       "output_type": "pyout",
       "prompt_number": 18,
       "text": [
        "['the', 'quick', 'brown', 'fox']"
       ]
      }
     ],
     "prompt_number": 18
    },
    {
     "cell_type": "heading",
     "level": 1,
     "metadata": {},
     "source": [
      "Flags"
     ]
    },
    {
     "cell_type": "markdown",
     "metadata": {},
     "source": [
      "Regular expression operations also take a number of flags that affect the operation:\n",
      "\n",
      "- `re.I` - ignore case\n",
      "- `re.L` - locale-dependent matches\n",
      "- `re.M` - multiline (changes meaning of `$` and `^`)\n",
      "- `re.S` - dot matches all characters (usually doesn't match `\\n`)\n",
      "- `re.X` - verbose regular expressions (whitespace is ignored and allows comments)\n",
      "- `re.U` - unicode-dependent matches (changes interpretation of digits etc)\n",
      "\n",
      "You can also specify these with syntax like `(?iu)` inside the expression."
     ]
    },
    {
     "cell_type": "code",
     "collapsed": false,
     "input": [
      "re.findall(r'THE','the cat in the hat',re.I)"
     ],
     "language": "python",
     "metadata": {},
     "outputs": [
      {
       "output_type": "pyout",
       "prompt_number": 19,
       "text": [
        "['the', 'the']"
       ]
      }
     ],
     "prompt_number": 19
    },
    {
     "cell_type": "code",
     "collapsed": false,
     "input": [
      "re.findall(r'THE(?i)','the cat in the hat')"
     ],
     "language": "python",
     "metadata": {},
     "outputs": [
      {
       "output_type": "pyout",
       "prompt_number": 20,
       "text": [
        "['the', 'the']"
       ]
      }
     ],
     "prompt_number": 20
    },
    {
     "cell_type": "heading",
     "level": 1,
     "metadata": {},
     "source": [
      "Match Objects"
     ]
    },
    {
     "cell_type": "markdown",
     "metadata": {},
     "source": [
      "The match object gives additional information about the match.\n",
      "It contains \"groups\"; group 0 refers to the entire match\n",
      "(we'll see how to define other groups later)."
     ]
    },
    {
     "cell_type": "code",
     "collapsed": false,
     "input": [
      "g = re.search('cheese','the cheese and the bread')\n",
      "g"
     ],
     "language": "python",
     "metadata": {},
     "outputs": [
      {
       "output_type": "pyout",
       "prompt_number": 21,
       "text": [
        "<_sre.SRE_Match at 0x3b8e098>"
       ]
      }
     ],
     "prompt_number": 21
    },
    {
     "cell_type": "code",
     "collapsed": false,
     "input": [
      "g.group(0)"
     ],
     "language": "python",
     "metadata": {},
     "outputs": [
      {
       "output_type": "pyout",
       "prompt_number": 22,
       "text": [
        "'cheese'"
       ]
      }
     ],
     "prompt_number": 22
    },
    {
     "cell_type": "code",
     "collapsed": false,
     "input": [
      "g.start(0),g.end(0)"
     ],
     "language": "python",
     "metadata": {},
     "outputs": [
      {
       "output_type": "pyout",
       "prompt_number": 23,
       "text": [
        "(4, 10)"
       ]
      }
     ],
     "prompt_number": 23
    },
    {
     "cell_type": "heading",
     "level": 1,
     "metadata": {},
     "source": [
      "Precompiled Regular Expressions"
     ]
    },
    {
     "cell_type": "markdown",
     "metadata": {},
     "source": [
      "Regular expression matching is a two step process:\n",
      "\n",
      "- the expression string is compiled (into a finite automaton)\n",
      "- the automaton is executed\n",
      "\n",
      "Compilation can be costly, so you can separate it from matching\n",
      "and substitution."
     ]
    },
    {
     "cell_type": "code",
     "collapsed": false,
     "input": [
      "obj = re.compile('cheese')\n",
      "obj"
     ],
     "language": "python",
     "metadata": {},
     "outputs": [
      {
       "output_type": "pyout",
       "prompt_number": 24,
       "text": [
        "re.compile(r'cheese')"
       ]
      }
     ],
     "prompt_number": 24
    },
    {
     "cell_type": "code",
     "collapsed": false,
     "input": [
      "obj.search('bread and cheese')"
     ],
     "language": "python",
     "metadata": {},
     "outputs": [
      {
       "output_type": "pyout",
       "prompt_number": 25,
       "text": [
        "<_sre.SRE_Match at 0x3b8e100>"
       ]
      }
     ],
     "prompt_number": 25
    },
    {
     "cell_type": "code",
     "collapsed": false,
     "input": [
      "obj.match('bread and cheese')"
     ],
     "language": "python",
     "metadata": {},
     "outputs": [],
     "prompt_number": 26
    },
    {
     "cell_type": "code",
     "collapsed": false,
     "input": [
      "obj.sub('butter','bread and cheese')"
     ],
     "language": "python",
     "metadata": {},
     "outputs": [
      {
       "output_type": "pyout",
       "prompt_number": 27,
       "text": [
        "'bread and butter'"
       ]
      }
     ],
     "prompt_number": 27
    },
    {
     "cell_type": "heading",
     "level": 1,
     "metadata": {},
     "source": [
      "Raw Strings"
     ]
    },
    {
     "cell_type": "markdown",
     "metadata": {},
     "source": [
      "Regular expressions frequently involve backslash characters (`\\`),\n",
      "and sometimes also single or double quotes.\n",
      "For this, there are several convenient quoting conventions:\n",
      "\n",
      "- `r\"abc\"` - raw string\n",
      "- `\"\"\"a\"bc\"\"\"` - triple quoted\n",
      "- `r\"\"\"a\"bc\"\"\"` - triple quoted raw\n",
      "- `ur\"\"\"a\"bc\"\"\"` - triple quoted raw unicode string"
     ]
    },
    {
     "cell_type": "code",
     "collapsed": false,
     "input": [
      "print 'a\\bc'\n",
      "print r'a\\bc'\n",
      "print \"a\\\"b\\\"c\"\n",
      "print r\"\"\"a\\\"b\\\"c\"\"\"\n",
      "print ur\"\"\"a\\\"b\\\"c\"\"\""
     ],
     "language": "python",
     "metadata": {},
     "outputs": [
      {
       "output_type": "stream",
       "stream": "stdout",
       "text": [
        "a\bc\n",
        "a\\bc\n",
        "a\"b\"c\n",
        "a\\\"b\\\"c\n",
        "a\\\"b\\\"c\n"
       ]
      }
     ],
     "prompt_number": 28
    },
    {
     "cell_type": "code",
     "collapsed": false,
     "input": [
      "re.search(r'\\w+','the bread and the cheese').group(0)"
     ],
     "language": "python",
     "metadata": {},
     "outputs": [
      {
       "output_type": "pyout",
       "prompt_number": 29,
       "text": [
        "'the'"
       ]
      }
     ],
     "prompt_number": 29
    },
    {
     "cell_type": "code",
     "collapsed": false,
     "input": [
      "re.search(ur'\\w+',u'Brot und K\u00e4se').group(0)"
     ],
     "language": "python",
     "metadata": {},
     "outputs": [
      {
       "output_type": "pyout",
       "prompt_number": 30,
       "text": [
        "u'Brot'"
       ]
      }
     ],
     "prompt_number": 30
    },
    {
     "cell_type": "heading",
     "level": 1,
     "metadata": {},
     "source": [
      "Unicode Matching"
     ]
    },
    {
     "cell_type": "markdown",
     "metadata": {},
     "source": [
      "Be careful when matching Unicode in Python 2.x, since you can write\n",
      "either or both the regular expression and the target as `str` or `unicode`.\n",
      "If you aren't consistent, the matches will just fail.\n",
      "\n",
      "Furthermore, matching UTF-8 encodings stored in `str` won't work right."
     ]
    },
    {
     "cell_type": "code",
     "collapsed": false,
     "input": [
      "re.search(ur'K\u00e4se',u'Der K\u00e4se und das Brot.')"
     ],
     "language": "python",
     "metadata": {},
     "outputs": [
      {
       "output_type": "pyout",
       "prompt_number": 31,
       "text": [
        "<_sre.SRE_Match at 0x3b8e2a0>"
       ]
      }
     ],
     "prompt_number": 31
    },
    {
     "cell_type": "code",
     "collapsed": false,
     "input": [
      "re.search('K\u00e4se',u'Der K\u00e4se und das Brot.')"
     ],
     "language": "python",
     "metadata": {},
     "outputs": [],
     "prompt_number": 32
    },
    {
     "cell_type": "code",
     "collapsed": false,
     "input": [
      "re.search(ur'K\u00e4se','Der K\u00e4se und das Brot.')"
     ],
     "language": "python",
     "metadata": {},
     "outputs": [],
     "prompt_number": 33
    },
    {
     "cell_type": "code",
     "collapsed": false,
     "input": [
      "re.search('K\u00e4se','Der K\u00e4se und das Brot.')"
     ],
     "language": "python",
     "metadata": {},
     "outputs": [
      {
       "output_type": "pyout",
       "prompt_number": 34,
       "text": [
        "<_sre.SRE_Match at 0x3b8e308>"
       ]
      }
     ],
     "prompt_number": 34
    },
    {
     "cell_type": "markdown",
     "metadata": {},
     "source": [
      "Even if both strings are Unicode, you still have to worry\n",
      "about normalization."
     ]
    },
    {
     "cell_type": "code",
     "collapsed": false,
     "input": [
      "s = unicodedata.normalize('NFD',u'K\u00e4se')\n",
      "print \"(%s)\"%s\n",
      "re.search(s,'Der K\u00e4se und das Brot')"
     ],
     "language": "python",
     "metadata": {},
     "outputs": [
      {
       "output_type": "stream",
       "stream": "stdout",
       "text": [
        "(K\u00e4se)\n"
       ]
      }
     ],
     "prompt_number": 35
    },
    {
     "cell_type": "code",
     "collapsed": false,
     "input": [
      "def normalizing_search(regex,s):\n",
      "    regex = unicodedata.normalize('NFC',regex)\n",
      "    s = unicodedata.normalize('NFC',s)\n",
      "    return re.search(regex,s)"
     ],
     "language": "python",
     "metadata": {},
     "outputs": [],
     "prompt_number": 36
    },
    {
     "cell_type": "code",
     "collapsed": false,
     "input": [
      "normalizing_search(s,u'Der K\u00e4se und das Brot')"
     ],
     "language": "python",
     "metadata": {},
     "outputs": [
      {
       "output_type": "pyout",
       "prompt_number": 37,
       "text": [
        "<_sre.SRE_Match at 0x3b8e370>"
       ]
      }
     ],
     "prompt_number": 37
    },
    {
     "cell_type": "heading",
     "level": 1,
     "metadata": {},
     "source": [
      "Basic Regular Expression Syntax"
     ]
    },
    {
     "cell_type": "markdown",
     "metadata": {},
     "source": [
      "There are a number of standard syntactic elements:\n",
      "\n",
      "- `.` matches a single character (any character)\n",
      "- `x*` matches 0 or more `x`\n",
      "- `x+` matches 1 or more `x`\n",
      "- `x?` matches 0 or 1 `x`\n",
      "- `^` and `$` match at the beginning and end of a line, respectively\n",
      "- `\\x` suppresses the special meaning of character `x`\n",
      "- `(xyz)` matches `xyz` and treats it as a unit for the purpose of operators (it also defines a group)\n",
      "- `x|y` matches `x` or `y`\n",
      "- `[abcA-Z]` matches any one character in the set `a`, `b`, `c`, or in the range `A` through `Z`\n",
      "- `[^abc]` matches any character other than `a`, `b`, or `c`"
     ]
    },
    {
     "cell_type": "code",
     "collapsed": false,
     "input": [
      "re.findall('c.t','the cat on the cot')"
     ],
     "language": "python",
     "metadata": {},
     "outputs": [
      {
       "output_type": "pyout",
       "prompt_number": 38,
       "text": [
        "['cat', 'cot']"
       ]
      }
     ],
     "prompt_number": 38
    },
    {
     "cell_type": "code",
     "collapsed": false,
     "input": [
      "re.findall('we*t','wet cowtippers tweet frequently')"
     ],
     "language": "python",
     "metadata": {},
     "outputs": [
      {
       "output_type": "pyout",
       "prompt_number": 39,
       "text": [
        "['wet', 'wt', 'weet']"
       ]
      }
     ],
     "prompt_number": 39
    },
    {
     "cell_type": "code",
     "collapsed": false,
     "input": [
      "re.findall('we+t','wet cowtippers tweet frequently')"
     ],
     "language": "python",
     "metadata": {},
     "outputs": [
      {
       "output_type": "pyout",
       "prompt_number": 40,
       "text": [
        "['wet', 'weet']"
       ]
      }
     ],
     "prompt_number": 40
    },
    {
     "cell_type": "code",
     "collapsed": false,
     "input": [
      "re.findall('we?t','wet cowtippers tweet frequently')"
     ],
     "language": "python",
     "metadata": {},
     "outputs": [
      {
       "output_type": "pyout",
       "prompt_number": 41,
       "text": [
        "['wet', 'wt']"
       ]
      }
     ],
     "prompt_number": 41
    },
    {
     "cell_type": "markdown",
     "metadata": {},
     "source": [
      "There is actually a generalization of the `*`-like operators, where you can\n",
      "specify the exact number of repetitions with syntax like `{3,7}`."
     ]
    },
    {
     "cell_type": "code",
     "collapsed": false,
     "input": [
      "re.findall('[ew]t','wet cowtippers tweet frequently')"
     ],
     "language": "python",
     "metadata": {},
     "outputs": [
      {
       "output_type": "pyout",
       "prompt_number": 42,
       "text": [
        "['et', 'wt', 'et']"
       ]
      }
     ],
     "prompt_number": 42
    },
    {
     "cell_type": "code",
     "collapsed": false,
     "input": [
      "print re.findall(r'\\^\\.\\^','this ^.^ is a Japanese smiley, ^_^')\n",
      "print re.findall(r'\\^.\\^','this ^.^ is a Japanese smiley, ^_^')"
     ],
     "language": "python",
     "metadata": {},
     "outputs": [
      {
       "output_type": "stream",
       "stream": "stdout",
       "text": [
        "['^.^']\n",
        "['^.^', '^_^']\n"
       ]
      }
     ],
     "prompt_number": 43
    },
    {
     "cell_type": "code",
     "collapsed": false,
     "input": [
      "print re.findall(r'w','wet cowtippers tweet frequently')\n",
      "print re.findall(r'^w','wet cowtippers tweet frequently')"
     ],
     "language": "python",
     "metadata": {},
     "outputs": [
      {
       "output_type": "stream",
       "stream": "stdout",
       "text": [
        "['w', 'w', 'w']\n",
        "['w']\n"
       ]
      }
     ],
     "prompt_number": 44
    },
    {
     "cell_type": "code",
     "collapsed": false,
     "input": [
      "print re.findall(r'(tweet|twit)','wet cowtippers tweet frequently, but are twits')"
     ],
     "language": "python",
     "metadata": {},
     "outputs": [
      {
       "output_type": "stream",
       "stream": "stdout",
       "text": [
        "['tweet', 'twit']\n"
       ]
      }
     ],
     "prompt_number": 45
    },
    {
     "cell_type": "heading",
     "level": 1,
     "metadata": {},
     "source": [
      "Grouping"
     ]
    },
    {
     "cell_type": "code",
     "collapsed": false,
     "input": [
      "print re.findall(r'the ([^ ]*)','the cat in the hat')"
     ],
     "language": "python",
     "metadata": {},
     "outputs": [
      {
       "output_type": "stream",
       "stream": "stdout",
       "text": [
        "['cat', 'hat']\n"
       ]
      }
     ],
     "prompt_number": 46
    },
    {
     "cell_type": "code",
     "collapsed": false,
     "input": [
      "print re.findall(r'(a|the) ([^ ]*)','a cat in the hat')"
     ],
     "language": "python",
     "metadata": {},
     "outputs": [
      {
       "output_type": "stream",
       "stream": "stdout",
       "text": [
        "[('a', 'cat'), ('the', 'hat')]\n"
       ]
      }
     ],
     "prompt_number": 47
    },
    {
     "cell_type": "code",
     "collapsed": false,
     "input": [
      "g = re.search(r'(a|the) ([^ ]*)','a cat in the hat')"
     ],
     "language": "python",
     "metadata": {},
     "outputs": [],
     "prompt_number": 48
    },
    {
     "cell_type": "code",
     "collapsed": false,
     "input": [
      "g.group(0)"
     ],
     "language": "python",
     "metadata": {},
     "outputs": [
      {
       "output_type": "pyout",
       "prompt_number": 49,
       "text": [
        "'a cat'"
       ]
      }
     ],
     "prompt_number": 49
    },
    {
     "cell_type": "code",
     "collapsed": false,
     "input": [
      "g.group(1)"
     ],
     "language": "python",
     "metadata": {},
     "outputs": [
      {
       "output_type": "pyout",
       "prompt_number": 50,
       "text": [
        "'a'"
       ]
      }
     ],
     "prompt_number": 50
    },
    {
     "cell_type": "code",
     "collapsed": false,
     "input": [
      "g.group(2)"
     ],
     "language": "python",
     "metadata": {},
     "outputs": [
      {
       "output_type": "pyout",
       "prompt_number": 51,
       "text": [
        "'cat'"
       ]
      }
     ],
     "prompt_number": 51
    },
    {
     "cell_type": "code",
     "collapsed": false,
     "input": [
      "print g.start(2),g.end(2),g.span(2)"
     ],
     "language": "python",
     "metadata": {},
     "outputs": [
      {
       "output_type": "stream",
       "stream": "stdout",
       "text": [
        "2 5 (2, 5)\n"
       ]
      }
     ],
     "prompt_number": 52
    },
    {
     "cell_type": "code",
     "collapsed": false,
     "input": [
      "print re.findall(r'(?:a|the) ([^ ]*)','a cat in the hat')"
     ],
     "language": "python",
     "metadata": {},
     "outputs": [
      {
       "output_type": "stream",
       "stream": "stdout",
       "text": [
        "['cat', 'hat']\n"
       ]
      }
     ],
     "prompt_number": 53
    },
    {
     "cell_type": "code",
     "collapsed": false,
     "input": [
      "print re.search(r'(the|a) [^ ]+ near \\1 [^ ]+','the cat near the cat')\n",
      "print re.search(r'(the|a) [^ ]+ near \\1 [^ ]+','a cat near a cat')\n",
      "print re.search(r'(the|a) [^ ]+ near \\1 [^ ]+','the cat near a cat')"
     ],
     "language": "python",
     "metadata": {},
     "outputs": [
      {
       "output_type": "stream",
       "stream": "stdout",
       "text": [
        "<_sre.SRE_Match object at 0x3b6ff30>\n",
        "<_sre.SRE_Match object at 0x3b6ff30>\n",
        "None\n"
       ]
      }
     ],
     "prompt_number": 54
    },
    {
     "cell_type": "markdown",
     "metadata": {},
     "source": [
      "Grouping also takes on special meaning with `split`, alternating between separators and words."
     ]
    },
    {
     "cell_type": "code",
     "collapsed": false,
     "input": [
      "print re.split(r'([,;]?\\s+|\\W+$)','The quick, brown fox jumps; over lazy dogs!')"
     ],
     "language": "python",
     "metadata": {},
     "outputs": [
      {
       "output_type": "stream",
       "stream": "stdout",
       "text": [
        "['The', ' ', 'quick', ', ', 'brown', ' ', 'fox', ' ', 'jumps', '; ', 'over', ' ', 'lazy', ' ', 'dogs', '!', '']\n"
       ]
      }
     ],
     "prompt_number": 55
    },
    {
     "cell_type": "heading",
     "level": 1,
     "metadata": {},
     "source": [
      "Character Classes"
     ]
    },
    {
     "cell_type": "markdown",
     "metadata": {},
     "source": [
      "There are a number of common special character classes:\n",
      "\n",
      "- `\\A` - empty string at the beginning of the string\n",
      "- `\\Z` - empty string at end of string\n",
      "- `\\b` - empty string at the beginning of the word\n",
      "- `\\B` - empty string not at the beginning of the word (upper case is often inverse of lower case)\n",
      "- `\\d` - digit (usually `[0-9]`, or digit class in Unicode)\n",
      "- `\\D` - not a digit\n",
      "- `\\s` - white space\n",
      "- `\\S` - not white space\n",
      "- `\\w` - word character\n",
      "- `\\W` - not a word character"
     ]
    },
    {
     "cell_type": "code",
     "collapsed": false,
     "input": [
      "re.findall(r'\\w+',\"The quick brown fox... jumped over the la$y dogz.\")"
     ],
     "language": "python",
     "metadata": {},
     "outputs": [
      {
       "output_type": "pyout",
       "prompt_number": 56,
       "text": [
        "['The', 'quick', 'brown', 'fox', 'jumped', 'over', 'the', 'la', 'y', 'dogz']"
       ]
      }
     ],
     "prompt_number": 56
    },
    {
     "cell_type": "code",
     "collapsed": false,
     "input": [
      "numbers = re.compile(r'((?:\\d+\\.\\d*|\\d*\\.\\d+)(?:e[+-]\\d+)?)',re.I)\n",
      "numbers.findall(\"The fine structure constant is 7.2973525698e-3, and pi is about 3.14159.\")"
     ],
     "language": "python",
     "metadata": {},
     "outputs": [
      {
       "output_type": "pyout",
       "prompt_number": 57,
       "text": [
        "['7.2973525698e-3', '3.14159']"
       ]
      }
     ],
     "prompt_number": 57
    },
    {
     "cell_type": "heading",
     "level": 1,
     "metadata": {},
     "source": [
      "Other Regular Expression Features"
     ]
    },
    {
     "cell_type": "markdown",
     "metadata": {},
     "source": [
      "Above, we have seen the standard Python regular expression features.\n",
      "Regular expressions differ somewhat between different tools.\n",
      "\n",
      "Most importantly, quoting differs: special characters like `(`, `)`, and `|` are sometimes special by default, and sometimes need a backslash like `\\|` in order to take on their special meaning.\n",
      "\n",
      "POSIX tools support special POSIX character classes, like `[:upper:]`, `[:digit:]` etc.\n",
      "\n",
      "Perl supports *recursive regular expressions*; these aren't really \"regular expressions\" at all anymore, they are more like general purpose parsing. (In Python, there are several parsing modules you can use instead.)\n",
      "\n"
     ]
    },
    {
     "cell_type": "heading",
     "level": 1,
     "metadata": {},
     "source": [
      "More Powerful Module"
     ]
    },
    {
     "cell_type": "markdown",
     "metadata": {},
     "source": [
      "There is a more powerful regular expression module in Python,\n",
      "called `regex`.\n",
      "\n",
      "It handles Unicode better and supports some interesting additional features."
     ]
    },
    {
     "cell_type": "code",
     "collapsed": false,
     "input": [
      "import regex"
     ],
     "language": "python",
     "metadata": {},
     "outputs": [],
     "prompt_number": 58
    },
    {
     "cell_type": "heading",
     "level": 3,
     "metadata": {},
     "source": [
      "Recursive Matching"
     ]
    },
    {
     "cell_type": "code",
     "collapsed": false,
     "input": [
      "r = regex.compile(r\"^(\\w+|\\((?1)[+*/-](?1)\\))$\")"
     ],
     "language": "python",
     "metadata": {},
     "outputs": [],
     "prompt_number": 59
    },
    {
     "cell_type": "code",
     "collapsed": false,
     "input": [
      "r.match(\"x\")"
     ],
     "language": "python",
     "metadata": {},
     "outputs": [
      {
       "output_type": "pyout",
       "prompt_number": 60,
       "text": [
        "<_regex.Match at 0x3ce6d98>"
       ]
      }
     ],
     "prompt_number": 60
    },
    {
     "cell_type": "code",
     "collapsed": false,
     "input": [
      "r.match(\"(x+y)\")"
     ],
     "language": "python",
     "metadata": {},
     "outputs": [
      {
       "output_type": "pyout",
       "prompt_number": 61,
       "text": [
        "<_regex.Match at 0x3ce6e00>"
       ]
      }
     ],
     "prompt_number": 61
    },
    {
     "cell_type": "code",
     "collapsed": false,
     "input": [
      "r.match(\"(x*(y+z))\")"
     ],
     "language": "python",
     "metadata": {},
     "outputs": [
      {
       "output_type": "pyout",
       "prompt_number": 62,
       "text": [
        "<_regex.Match at 0x3ce6e68>"
       ]
      }
     ],
     "prompt_number": 62
    },
    {
     "cell_type": "code",
     "collapsed": false,
     "input": [
      "r.match(\"(x*y+z))\")"
     ],
     "language": "python",
     "metadata": {},
     "outputs": [],
     "prompt_number": 63
    },
    {
     "cell_type": "heading",
     "level": 3,
     "metadata": {},
     "source": [
      "Fuzzy Matching"
     ]
    },
    {
     "cell_type": "markdown",
     "metadata": {},
     "source": [
      "Fuzzy matching allows edit distance information to be taken into account during matching.\n",
      "That is, a group does not need to match precisely."
     ]
    },
    {
     "cell_type": "code",
     "collapsed": false,
     "input": [
      "regex.findall(r\"(?=\\w)(quick){e<=1}\",\"the quick brown fox quacks loudly\")"
     ],
     "language": "python",
     "metadata": {},
     "outputs": [
      {
       "output_type": "pyout",
       "prompt_number": 147,
       "text": [
        "['quick', 'quack']"
       ]
      }
     ],
     "prompt_number": 147
    },
    {
     "cell_type": "markdown",
     "metadata": {},
     "source": [
      "You can specify the number of insertions, deletions, substitutions, and errors."
     ]
    },
    {
     "cell_type": "heading",
     "level": 3,
     "metadata": {},
     "source": [
      "Named Lists"
     ]
    },
    {
     "cell_type": "markdown",
     "metadata": {},
     "source": [
      "Often, it is useful to compile large lists of words into a regular expression (c.f. `fgrep`)."
     ]
    },
    {
     "cell_type": "code",
     "collapsed": false,
     "input": [
      "with open(\"basic-english.txt\") as stream: words = stream.read().split()\n",
      "len(words)"
     ],
     "language": "python",
     "metadata": {},
     "outputs": [
      {
       "output_type": "pyout",
       "prompt_number": 65,
       "text": [
        "851"
       ]
      }
     ],
     "prompt_number": 65
    },
    {
     "cell_type": "code",
     "collapsed": false,
     "input": [
      "allwords = regex.compile(r\"\\b(\\L<words>)(?:s|es|ed|ing)?\\b(?i)\",words=words)"
     ],
     "language": "python",
     "metadata": {},
     "outputs": [],
     "prompt_number": 82
    },
    {
     "cell_type": "code",
     "collapsed": false,
     "input": [
      "allwords.findall(\"The quick brown fox jumps over the lazy dogs.\")"
     ],
     "language": "python",
     "metadata": {},
     "outputs": [
      {
       "output_type": "pyout",
       "prompt_number": 83,
       "text": [
        "['The', 'quick', 'brown', 'fox', 'jump', 'over', 'the', 'lazy', 'dog']"
       ]
      }
     ],
     "prompt_number": 83
    },
    {
     "cell_type": "code",
     "collapsed": false,
     "input": [
      "fuzzywords = regex.compile(r\"\\b(\\L<words>){e<=2}(?:s|es|ed|ing)?\\b(?i)\",words=words)"
     ],
     "language": "python",
     "metadata": {},
     "outputs": [],
     "prompt_number": 84
    },
    {
     "cell_type": "code",
     "collapsed": false,
     "input": [
      "print fuzzywords.findall(\"The quock briwn fox jxmps over the lazy dogs.\")"
     ],
     "language": "python",
     "metadata": {},
     "outputs": [
      {
       "output_type": "stream",
       "stream": "stdout",
       "text": [
        "['The ', 'quock', ' ', 'briwn', ' fox', ' ', 'jxmp', ' over', ' the ', 'lazy', ' dog', '']\n"
       ]
      }
     ],
     "prompt_number": 85
    },
    {
     "cell_type": "code",
     "collapsed": false,
     "input": [
      "fuzzywords = regex.compile(r\"\\b(?=\\w)(\\L<words>){e<=2}(?:s|es|ed|ing)?\\b(?i)\",words=words)"
     ],
     "language": "python",
     "metadata": {},
     "outputs": [],
     "prompt_number": 87
    },
    {
     "cell_type": "code",
     "collapsed": false,
     "input": [
      "print fuzzywords.findall(\"The quock briwn fox jxmps over the lazy dogs.\")"
     ],
     "language": "python",
     "metadata": {},
     "outputs": [
      {
       "output_type": "stream",
       "stream": "stdout",
       "text": [
        "['The ', 'quock', 'briwn', 'fox ', 'jxmp', 'over', 'the ', 'lazy', 'dogs']\n"
       ]
      }
     ],
     "prompt_number": 88
    },
    {
     "cell_type": "heading",
     "level": 3,
     "metadata": {},
     "source": [
      "Better Text and Unicode Support"
     ]
    },
    {
     "cell_type": "markdown",
     "metadata": {},
     "source": [
      "There is generally better Unicode support in `regex`:\n",
      "\n",
      "- word characters (`\\w` etc.) refer to Unicode by default\n",
      "- line separators refer to Unicode line separators\n",
      "- whitespace recognizes Unicode whitespace\n",
      "- `\\m` and `\\M` match at the beginning/end of a word respectively\n",
      "- there are set operators\n",
      "- POSIX character classes are recognized\n",
      "- you can access Unicode properties with `\\p` and `\\P`\n",
      "- you can match graphemes with `\\X`"
     ]
    },
    {
     "cell_type": "code",
     "collapsed": false,
     "input": [
      "regex.findall(ur'\\S+',u'the quick \u0440\u044b\u0436\u0430\u044f \u043b\u0438\u0441\u0430')"
     ],
     "language": "python",
     "metadata": {},
     "outputs": [
      {
       "output_type": "pyout",
       "prompt_number": 99,
       "text": [
        "[u'the',\n",
        " u'quick',\n",
        " u'\\u0440\\u044b\\u0436\\u0430\\u044f',\n",
        " u'\\u043b\\u0438\\u0441\\u0430']"
       ]
      }
     ],
     "prompt_number": 99
    },
    {
     "cell_type": "code",
     "collapsed": false,
     "input": [
      "regex.findall(ur'\\w+',u'the quick \u0440\u044b\u0436\u0430\u044f \u043b\u0438\u0441\u0430')"
     ],
     "language": "python",
     "metadata": {},
     "outputs": [
      {
       "output_type": "pyout",
       "prompt_number": 98,
       "text": [
        "[u'the',\n",
        " u'quick',\n",
        " u'\\u0440\\u044b\\u0436\\u0430\\u044f',\n",
        " u'\\u043b\\u0438\\u0441\\u0430']"
       ]
      }
     ],
     "prompt_number": 98
    },
    {
     "cell_type": "code",
     "collapsed": false,
     "input": [
      "regex.findall(ur'\\p{Script=Latin}+',u'the quick \u0440\u044b\u0436\u0430\u044f \u043b\u0438\u0441\u0430')"
     ],
     "language": "python",
     "metadata": {},
     "outputs": [
      {
       "output_type": "pyout",
       "prompt_number": 101,
       "text": [
        "[u'the', u'quick']"
       ]
      }
     ],
     "prompt_number": 101
    },
    {
     "cell_type": "code",
     "collapsed": false,
     "input": [
      "regex.findall(ur'\\p{Script=Cyrillic}+',u'the quick \u0440\u044b\u0436\u0430\u044f \u043b\u0438\u0441\u0430')"
     ],
     "language": "python",
     "metadata": {},
     "outputs": [
      {
       "output_type": "pyout",
       "prompt_number": 100,
       "text": [
        "[u'\\u0440\\u044b\\u0436\\u0430\\u044f', u'\\u043b\\u0438\\u0441\\u0430']"
       ]
      }
     ],
     "prompt_number": 100
    },
    {
     "cell_type": "code",
     "collapsed": false,
     "input": [
      "s = u\"K\u00e4se\"\n",
      "t = unicodedata.normalize('NFD',s)\n",
      "print repr(s)\n",
      "print repr(t)"
     ],
     "language": "python",
     "metadata": {},
     "outputs": [
      {
       "output_type": "stream",
       "stream": "stdout",
       "text": [
        "u'K\\xe4se'\n",
        "u'Ka\\u0308se'\n"
       ]
      }
     ],
     "prompt_number": 104
    },
    {
     "cell_type": "markdown",
     "metadata": {},
     "source": [
      "By default, `re` doesn't consider non-ASCII characters word characters at all."
     ]
    },
    {
     "cell_type": "code",
     "collapsed": false,
     "input": [
      "re.findall(ur\"\\w\",s),re.findall(ur\"\\w\",t)"
     ],
     "language": "python",
     "metadata": {},
     "outputs": [
      {
       "output_type": "pyout",
       "prompt_number": 109,
       "text": [
        "([u'K', u's', u'e'], [u'K', u'a', u's', u'e'])"
       ]
      }
     ],
     "prompt_number": 109
    },
    {
     "cell_type": "markdown",
     "metadata": {},
     "source": [
      "With Unicode support, it does, but it doesn't handle decomposed characters."
     ]
    },
    {
     "cell_type": "code",
     "collapsed": false,
     "input": [
      "re.findall(ur\"\\w(?u)\",s),re.findall(ur\"\\w(?u)\",t)"
     ],
     "language": "python",
     "metadata": {},
     "outputs": [
      {
       "output_type": "pyout",
       "prompt_number": 111,
       "text": [
        "([u'K', u'\\xe4', u's', u'e'], [u'K', u'a', u's', u'e'])"
       ]
      }
     ],
     "prompt_number": 111
    },
    {
     "cell_type": "markdown",
     "metadata": {},
     "source": [
      "The `regex` package deals correctly with word characters by default,\n",
      "but still doesn't handle deocmposed characters with either `\\w` or `.`."
     ]
    },
    {
     "cell_type": "code",
     "collapsed": false,
     "input": [
      "regex.findall(ur\"\\w\",s),regex.findall(ur\"\\w\",t)"
     ],
     "language": "python",
     "metadata": {},
     "outputs": [
      {
       "output_type": "pyout",
       "prompt_number": 110,
       "text": [
        "([u'K', u'\\xe4', u's', u'e'], [u'K', u'a', u'\\u0308', u's', u'e'])"
       ]
      }
     ],
     "prompt_number": 110
    },
    {
     "cell_type": "code",
     "collapsed": false,
     "input": [
      "regex.findall(ur\".\",s),regex.findall(ur\".\",t)"
     ],
     "language": "python",
     "metadata": {},
     "outputs": [
      {
       "output_type": "pyout",
       "prompt_number": 107,
       "text": [
        "([u'K', u'\\xe4', u's', u'e'], [u'K', u'a', u'\\u0308', u's', u'e'])"
       ]
      }
     ],
     "prompt_number": 107
    },
    {
     "cell_type": "markdown",
     "metadata": {},
     "source": [
      "However, the grapheme matcher `\\X` recognizes that the decomposed\n",
      "umlaut is, in fact, a single grapheme, even though it consists\n",
      "of several codepoints."
     ]
    },
    {
     "cell_type": "code",
     "collapsed": false,
     "input": [
      "regex.findall(ur\"\\X\",s),regex.findall(ur\"\\X\",t)"
     ],
     "language": "python",
     "metadata": {},
     "outputs": [
      {
       "output_type": "pyout",
       "prompt_number": 108,
       "text": [
        "([u'K', u'\\xe4', u's', u'e'], [u'K', u'a\\u0308', u's', u'e'])"
       ]
      }
     ],
     "prompt_number": 108
    },
    {
     "cell_type": "heading",
     "level": 1,
     "metadata": {},
     "source": [
      "Parsing"
     ]
    },
    {
     "cell_type": "markdown",
     "metadata": {},
     "source": [
      "Regular expressions are best for fairly simple tasks.\n",
      "For more complex parsing tasks, you may want to use an actual parsing tool,\n",
      "like pyparsing."
     ]
    },
    {
     "cell_type": "code",
     "collapsed": false,
     "input": [
      "import pyparsing"
     ],
     "language": "python",
     "metadata": {},
     "outputs": [],
     "prompt_number": 113
    },
    {
     "cell_type": "code",
     "collapsed": false,
     "input": [
      "pyparsing.nestedExpr().parseString(\"(a (b c) d)\").asList()"
     ],
     "language": "python",
     "metadata": {},
     "outputs": [
      {
       "output_type": "pyout",
       "prompt_number": 115,
       "text": [
        "[['a', ['b', 'c'], 'd']]"
       ]
      }
     ],
     "prompt_number": 115
    },
    {
     "cell_type": "code",
     "collapsed": false,
     "input": [
      "import string\n",
      "from pyparsing import oneOf,Literal,Word,Optional,StringEnd\n",
      "greeting = oneOf(\"Hi Yo\") + Optional(Literal(\",\")) + Word(string.uppercase,string.lowercase) + Optional(oneOf(\". !\")) + StringEnd()"
     ],
     "language": "python",
     "metadata": {},
     "outputs": [],
     "prompt_number": 136
    },
    {
     "cell_type": "code",
     "collapsed": false,
     "input": [
      "greeting.parseString(\"Hi, Peter!\")"
     ],
     "language": "python",
     "metadata": {},
     "outputs": [
      {
       "output_type": "pyout",
       "prompt_number": 137,
       "text": [
        "(['Hi', ',', 'Peter', '!'], {})"
       ]
      }
     ],
     "prompt_number": 137
    },
    {
     "cell_type": "code",
     "collapsed": false,
     "input": [
      "greeting.parseString(\"Yo, DogZ.\")"
     ],
     "language": "python",
     "metadata": {},
     "outputs": [
      {
       "ename": "ParseException",
       "evalue": "Expected end of text (at char 7), (line:1, col:8)",
       "output_type": "pyerr",
       "traceback": [
        "\u001b[0;31m---------------------------------------------------------------------------\u001b[0m\n\u001b[0;31mParseException\u001b[0m                            Traceback (most recent call last)",
        "\u001b[0;32m<ipython-input-140-1186c0727049>\u001b[0m in \u001b[0;36m<module>\u001b[0;34m()\u001b[0m\n\u001b[0;32m----> 1\u001b[0;31m \u001b[0mgreeting\u001b[0m\u001b[0;34m.\u001b[0m\u001b[0mparseString\u001b[0m\u001b[0;34m(\u001b[0m\u001b[0;34m\"Yo, DogZ.\"\u001b[0m\u001b[0;34m)\u001b[0m\u001b[0;34m\u001b[0m\u001b[0m\n\u001b[0m",
        "\u001b[0;32m/usr/lib/python2.7/dist-packages/pyparsing.pyc\u001b[0m in \u001b[0;36mparseString\u001b[0;34m(self, instring, parseAll)\u001b[0m\n\u001b[1;32m   1030\u001b[0m                 \u001b[0;31m# catch and re-raise exception from here, clears out pyparsing internal stack trace\u001b[0m\u001b[0;34m\u001b[0m\u001b[0;34m\u001b[0m\u001b[0m\n\u001b[1;32m   1031\u001b[0m                 \u001b[0mexc\u001b[0m \u001b[0;34m=\u001b[0m \u001b[0msys\u001b[0m\u001b[0;34m.\u001b[0m\u001b[0mexc_info\u001b[0m\u001b[0;34m(\u001b[0m\u001b[0;34m)\u001b[0m\u001b[0;34m[\u001b[0m\u001b[0;36m1\u001b[0m\u001b[0;34m]\u001b[0m\u001b[0;34m\u001b[0m\u001b[0m\n\u001b[0;32m-> 1032\u001b[0;31m                 \u001b[0;32mraise\u001b[0m \u001b[0mexc\u001b[0m\u001b[0;34m\u001b[0m\u001b[0m\n\u001b[0m\u001b[1;32m   1033\u001b[0m         \u001b[0;32melse\u001b[0m\u001b[0;34m:\u001b[0m\u001b[0;34m\u001b[0m\u001b[0m\n\u001b[1;32m   1034\u001b[0m             \u001b[0;32mreturn\u001b[0m \u001b[0mtokens\u001b[0m\u001b[0;34m\u001b[0m\u001b[0m\n",
        "\u001b[0;31mParseException\u001b[0m: Expected end of text (at char 7), (line:1, col:8)"
       ]
      }
     ],
     "prompt_number": 140
    },
    {
     "cell_type": "code",
     "collapsed": false,
     "input": [],
     "language": "python",
     "metadata": {},
     "outputs": []
    }
   ],
   "metadata": {}
  }
 ]
}