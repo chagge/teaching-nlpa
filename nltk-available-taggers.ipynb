{
 "metadata": {
  "name": "nltk-available-taggers"
 },
 "nbformat": 3,
 "nbformat_minor": 0,
 "worksheets": [
  {
   "cells": [
    {
     "cell_type": "code",
     "collapsed": false,
     "input": [
      "import nltk\n",
      "import tagutils; reload(tagutils)\n",
      "from tagutils import *\n",
      "from IPython.core.display import HTML"
     ],
     "language": "python",
     "metadata": {},
     "outputs": [],
     "prompt_number": 36
    },
    {
     "cell_type": "heading",
     "level": 1,
     "metadata": {},
     "source": [
      "Tagged Corpora"
     ]
    },
    {
     "cell_type": "code",
     "collapsed": false,
     "input": [
      "from nltk.corpus import brown"
     ],
     "language": "python",
     "metadata": {},
     "outputs": [],
     "prompt_number": 37
    },
    {
     "cell_type": "markdown",
     "metadata": {},
     "source": [
      "Remember that we were working with manually tagged corpora.\n",
      "The tags are awfully hard to visualize by themselves, so I'll\n",
      "use a simple color coding scheme to display them a little more\n",
      "clearly."
     ]
    },
    {
     "cell_type": "code",
     "collapsed": false,
     "input": [
      "stags([(\"World\",\"NN\")])"
     ],
     "language": "python",
     "metadata": {},
     "outputs": [
      {
       "output_type": "pyout",
       "prompt_number": 38,
       "text": [
        "\"<font color='blue' size=+1>World</font>\""
       ]
      }
     ],
     "prompt_number": 38
    },
    {
     "cell_type": "code",
     "collapsed": false,
     "input": [
      "HTML(stags(brown.tagged_sents()[100]))"
     ],
     "language": "python",
     "metadata": {},
     "outputs": [
      {
       "html": [
        "<font color='blue' size=+1>Daniel</font> <font color='#00c080''>personally</font> <font color='red' size=+2>led</font> <font size=-2>the</font> <font color='blue' size=+1>fight</font> <font color='#c08000' size=+2>for</font> <font size=-2>the</font> <font color='blue' size=+1>measure</font> , which <font color='#8080ff' size=+1>he</font> <font color='red'>had</font> <font color='red' size=+2>watered</font> down <font color='#00c080''>considerably</font> <font color='#c08000' size=+2>since</font> <font color='#8080ff' size=+1>its</font> <font color='blue' size=+1>rejection</font> <font color='#c08000' size=+2>by</font> two <font color='green'>previous</font> <font color='blue' size=+1>Legislatures</font> , <font color='#c08000' size=+2>in</font> <font size=-2>a</font> <font color='green'>public</font> <font color='blue' size=+1>hearing</font> <font color='#c08000' size=+2>before</font> <font size=-2>the</font> <font color='blue' size=+1>House</font> <font color='blue' size=+1>Committee</font> on <font color='blue' size=+1>Revenue</font> and <font color='blue' size=+1>Taxation</font> ."
       ],
       "output_type": "pyout",
       "prompt_number": 39,
       "text": [
        "<IPython.core.display.HTML at 0x8b35110>"
       ]
      }
     ],
     "prompt_number": 39
    },
    {
     "cell_type": "heading",
     "level": 1,
     "metadata": {},
     "source": [
      "Some Test Sentences"
     ]
    },
    {
     "cell_type": "markdown",
     "metadata": {},
     "source": [
      "Let's create some untagged sample sentences"
     ]
    },
    {
     "cell_type": "code",
     "collapsed": false,
     "input": [
      "text = \"\"\"\n",
      "John loves Jane.\n",
      "\n",
      "Peter and John both like Mozart.\n",
      "\n",
      "Peter speaks like a politician.\n",
      "\n",
      "Banana flies like fruit.\n",
      "\n",
      "Some flies like banana.\n",
      "\n",
      "Think different.\n",
      "\n",
      "Think differently.\n",
      "\n",
      "John likes ice cream and Peter likes to sing.\n",
      "\n",
      "The man harvested a ripe coconut with a bush knife.\n",
      "\n",
      "On the basis of the physical interpretation of distance which has been\n",
      "indicated, we are also in a position to establish the distance between\n",
      "two points on a rigid body by means of measurements.\n",
      "\n",
      "We will not speak of all Queequeg's peculiarities here; how he eschewed \n",
      "coffee and hot rolls, and applied his undivided attention to beefsteaks, done rare.\n",
      "\n",
      "Voters in Catalonia delivered victory to separatist parties \n",
      "in a regional election on Sunday, raising the likelihood that Spain's\n",
      "most powerful economic region will hold an independence referendum that \n",
      "Madrid has vowed to block.\n",
      "\"\"\""
     ],
     "language": "python",
     "metadata": {},
     "outputs": [],
     "prompt_number": 40
    },
    {
     "cell_type": "code",
     "collapsed": false,
     "input": [
      "misc_sents = [nltk.word_tokenize(s) for s in nltk.sent_tokenize(text)]\n",
      "from nltk.corpus import gutenberg\n",
      "alice_sents = gutenberg.sents(\"carroll-alice.txt\")[130:140]\n",
      "sents = misc_sents+alice_sents\n",
      "sents[3]"
     ],
     "language": "python",
     "metadata": {},
     "outputs": [
      {
       "output_type": "pyout",
       "prompt_number": 41,
       "text": [
        "['Banana', 'flies', 'like', 'fruit', '.']"
       ]
      }
     ],
     "prompt_number": 41
    },
    {
     "cell_type": "heading",
     "level": 1,
     "metadata": {},
     "source": [
      "The Default Tagger"
     ]
    },
    {
     "cell_type": "code",
     "collapsed": false,
     "input": [
      "dtagged = [nltk.pos_tag(s) for s in sents]"
     ],
     "language": "python",
     "metadata": {},
     "outputs": [],
     "prompt_number": 42
    },
    {
     "cell_type": "code",
     "collapsed": false,
     "input": [
      "HTML(\"<p>\\n\".join([\"[%d] \"%i + stags(s) for i,s in enumerate(dtagged)]))"
     ],
     "language": "python",
     "metadata": {},
     "outputs": [
      {
       "html": [
        "[0] <font color='blue' size=+1>John</font> <font color='red' size=+2>loves</font> <font color='blue' size=+1>Jane</font> .<p>\n",
        "[1] <font color='blue' size=+1>Peter</font> <font color='purple' size=+1>and</font> <font color='blue' size=+1>John</font> both <font color='#c08000' size=+2>like</font> <font color='blue' size=+1>Mozart</font> .<p>\n",
        "[2] <font color='blue' size=+1>Peter</font> <font color='red' size=+2>speaks</font> <font color='#c08000' size=+2>like</font> a <font color='green'>politician</font> .<p>\n",
        "[3] <font color='blue' size=+1>Banana</font> <font color='blue' size=+1>flies</font> <font color='#c08000' size=+2>like</font> <font color='blue' size=+1>fruit</font> .<p>\n",
        "[4] Some <font color='blue' size=+1>flies</font> <font color='#c08000' size=+2>like</font> <font color='blue' size=+1>banana</font> .<p>\n",
        "[5] <font color='blue' size=+1>Think</font> <font color='red' size=+2>different</font> .<p>\n",
        "[6] <font color='blue' size=+1>Think</font> <font color='#00c080''>differently</font> .<p>\n",
        "[7] <font color='blue' size=+1>John</font> <font color='red' size=+2>likes</font> <font color='blue' size=+1>ice</font> <font color='blue' size=+1>cream</font> <font color='purple' size=+1>and</font> <font color='blue' size=+1>Peter</font> <font color='red' size=+2>likes</font> to <font color='red' size=+2>sing</font> .<p>\n",
        "[8] The <font color='blue' size=+1>man</font> <font color='red' size=+2>harvested</font> a <font color='blue' size=+1>ripe</font> <font color='blue' size=+1>coconut</font> <font color='#c08000' size=+2>with</font> a <font color='green'>bush</font> <font color='blue' size=+1>knife</font> .<p>\n",
        "[9] <font color='#c08000' size=+2>On</font> the <font color='blue' size=+1>basis</font> <font color='#c08000' size=+2>of</font> the <font color='green'>physical</font> <font color='blue' size=+1>interpretation</font> <font color='#c08000' size=+2>of</font> <font color='blue' size=+1>distance</font> which <font color='red' size=+2>has</font> <font color='red' size=+2>been</font> <font color='red' size=+2>indicated</font> , we <font color='red' size=+2>are</font> <font color='#00c080''>also</font> <font color='#c08000' size=+2>in</font> a <font color='blue' size=+1>position</font> to <font color='red' size=+2>establish</font> the <font color='blue' size=+1>distance</font> <font color='#c08000' size=+2>between</font> two <font color='blue' size=+1>points</font> <font color='#c08000' size=+2>on</font> a <font color='green'>rigid</font> <font color='blue' size=+1>body</font> <font color='#c08000' size=+2>by</font> <font color='blue' size=+1>means</font> <font color='#c08000' size=+2>of</font> <font color='blue' size=+1>measurements</font> .<p>\n",
        "[10] We <font color='red'>will</font> <font color='#00c080''>not</font> <font color='red' size=+2>speak</font> <font color='#c08000' size=+2>of</font> all <font color='blue' size=+1>Queequeg</font> 's <font color='blue' size=+1>peculiarities</font> <font color='#00c080''>here</font> ; how he <font color='red' size=+2>eschewed</font> <font color='blue' size=+1>coffee</font> <font color='purple' size=+1>and</font> <font color='green'>hot</font> <font color='blue' size=+1>rolls</font> , <font color='purple' size=+1>and</font> <font color='red' size=+2>applied</font> his <font color='red' size=+2>undivided</font> <font color='blue' size=+1>attention</font> to <font color='blue' size=+1>beefsteaks</font> , <font color='blue' size=+1>done</font> <font color='blue' size=+1>rare</font> .<p>\n",
        "[11] <font color='blue' size=+1>Voters</font> <font color='#c08000' size=+2>in</font> <font color='blue' size=+1>Catalonia</font> <font color='red' size=+2>delivered</font> <font color='blue' size=+1>victory</font> to <font color='red' size=+2>separatist</font> <font color='blue' size=+1>parties</font> <font color='#c08000' size=+2>in</font> a <font color='green'>regional</font> <font color='blue' size=+1>election</font> <font color='#c08000' size=+2>on</font> <font color='blue' size=+1>Sunday</font> , <font color='red' size=+2>raising</font> the <font color='blue' size=+1>likelihood</font> <font color='#c08000' size=+2>that</font> <font color='blue' size=+1>Spain</font> 's <font color='green'>most</font> <font color='green'>powerful</font> <font color='green'>economic</font> <font color='blue' size=+1>region</font> <font color='red'>will</font> <font color='red' size=+2>hold</font> an <font color='blue' size=+1>independence</font> <font color='blue' size=+1>referendum</font> that <font color='blue' size=+1>Madrid</font> <font color='red' size=+2>has</font> <font color='red' size=+2>vowed</font> to <font color='red' size=+2>block</font> .<p>\n",
        "[12] <font color='blue' size=+1>Alice</font> <font color='red' size=+2>took</font> up the <font color='blue' size=+1>fan</font> <font color='purple' size=+1>and</font> <font color='blue' size=+1>gloves</font> , <font color='purple' size=+1>and</font> , <font color='#c08000' size=+2>as</font> the <font color='blue' size=+1>hall</font> <font color='red' size=+2>was</font> <font color='#00c080''>very</font> <font color='green'>hot</font> , she <font color='red' size=+2>kept</font> <font color='red' size=+2>fanning</font> herself all the <font color='blue' size=+1>time</font> she <font color='red' size=+2>went</font> <font color='#c08000' size=+2>on</font> <font color='blue' size=+1>talking</font> : ' <font color='blue' size=+1>Dear</font> , <font color='green'>dear</font> !<p>\n",
        "[13] How <font color='blue' size=+1>queer</font> <font color='blue' size=+1>everything</font> <font color='red' size=+2>is</font> to - <font color='blue' size=+1>day</font> !<p>\n",
        "[14] <font color='purple' size=+1>And</font> <font color='blue' size=+1>yesterday</font> <font color='blue' size=+1>things</font> <font color='red' size=+2>went</font> <font color='#c08000' size=+2>on</font> <font color='#00c080''>just</font> <font color='#c08000' size=+2>as</font> <font color='green'>usual</font> .<p>\n",
        "[15] I <font color='red' size=+2>wonder</font> <font color='#c08000' size=+2>if</font> I <font color='red' size=+2>'</font> <font color='green'>ve</font> <font color='red' size=+2>been</font> <font color='red' size=+2>changed</font> <font color='#c08000' size=+2>in</font> the <font color='blue' size=+1>night</font> ?<p>\n",
        "[16] <font color='blue' size=+1>Let</font> me <font color='red' size=+2>think</font> : <font color='red' size=+2>was</font> I the <font color='green'>same</font> when I <font color='red' size=+2>got</font> up this <font color='blue' size=+1>morning</font> ?<p>\n",
        "[17] I <font color='#00c080''>almost</font> <font color='red' size=+2>think</font> I <font color='red'>can</font> <font color='red' size=+2>remember</font> <font color='red' size=+2>feeling</font> a <font color='#00c080''>little</font> <font color='green'>different</font> .<p>\n",
        "[18] <font color='purple' size=+1>But</font> <font color='#c08000' size=+2>if</font> I <font color='red' size=+2>'</font> <font color='blue' size=+1>m</font> <font color='#00c080''>not</font> the <font color='green'>same</font> , the <font color='green'>next</font> <font color='blue' size=+1>question</font> <font color='red' size=+2>is</font> , Who <font color='#c08000' size=+2>in</font> the <font color='blue' size=+1>world</font> <font color='blue' size=+1>am</font> I ?<p>\n",
        "[19] <font color='blue' size=+1>Ah</font> , THAT ' <font color='blue' size=+1>S</font> the <font color='green'>great</font> <font color='blue' size=+1>puzzle</font> !<p>\n",
        "[20] ' <font color='purple' size=+1>And</font> she <font color='red' size=+2>began</font> <font color='red' size=+2>thinking</font> <font color='#c08000' size=+2>over</font> all the <font color='blue' size=+1>children</font> she <font color='red' size=+2>knew</font> <font color='#c08000' size=+2>that</font> <font color='red' size=+2>were</font> <font color='#c08000' size=+2>of</font> the <font color='green'>same</font> <font color='blue' size=+1>age</font> <font color='#c08000' size=+2>as</font> herself , to <font color='red' size=+2>see</font> <font color='#c08000' size=+2>if</font> she <font color='red'>could</font> <font color='red' size=+2>have</font> <font color='red' size=+2>been</font> <font color='red' size=+2>changed</font> <font color='#c08000' size=+2>for</font> any <font color='#c08000' size=+2>of</font> them .<p>\n",
        "[21] ' I ' <font color='blue' size=+1>m</font> <font color='blue' size=+1>sure</font> I ' <font color='blue' size=+1>m</font> <font color='#00c080''>not</font> <font color='blue' size=+1>Ada</font> <font color='blue' size=+1>,'</font> she <font color='red' size=+2>said</font> , ' <font color='#c08000' size=+2>for</font> her <font color='blue' size=+1>hair</font> <font color='red' size=+2>goes</font> <font color='#c08000' size=+2>in</font> <font color='green'>such</font> <font color='green'>long</font> <font color='blue' size=+1>ringlets</font> , <font color='purple' size=+1>and</font> <font color='green'>mine</font> <font color='blue' size=+1>doesn</font> ' <font color='blue' size=+1>t</font> <font color='#00c080''>go</font> <font color='#c08000' size=+2>in</font> <font color='blue' size=+1>ringlets</font> <font color='#c08000' size=+2>at</font> all ; <font color='purple' size=+1>and</font> I ' <font color='blue' size=+1>m</font> <font color='blue' size=+1>sure</font> I <font color='red'>can</font> <font color='red' size=+2>'</font> <font color='blue' size=+1>t</font> <font color='red' size=+2>be</font> <font color='blue' size=+1>Mabel</font> , <font color='#c08000' size=+2>for</font> I <font color='red' size=+2>know</font> all <font color='blue' size=+1>sorts</font> <font color='#c08000' size=+2>of</font> <font color='blue' size=+1>things</font> , <font color='purple' size=+1>and</font> she , <font color='green'>oh</font> !"
       ],
       "output_type": "pyout",
       "prompt_number": 43,
       "text": [
        "<IPython.core.display.HTML at 0x6ca59d0>"
       ]
      }
     ],
     "prompt_number": 43
    },
    {
     "cell_type": "heading",
     "level": 1,
     "metadata": {},
     "source": [
      "The TnT Tagger in Python"
     ]
    },
    {
     "cell_type": "code",
     "collapsed": false,
     "input": [
      "import nltk.tag\n",
      "import os\n",
      "import cPickle"
     ],
     "language": "python",
     "metadata": {},
     "outputs": [],
     "prompt_number": 44
    },
    {
     "cell_type": "markdown",
     "metadata": {},
     "source": [
      "Ordinarily, taggers are *trained* on tagged data.\n",
      "Here is an example of how to do this.\n",
      "\n",
      "The TnT tagger is a tagger based on n-grams.\n",
      "We will see later how that works.\n",
      "\n",
      "Here you see how the tagger is trained using tagged sentences and the `train`\n",
      "method.\n",
      "The trained model is written to disk with `cPickle.dump`.\n",
      "\n",
      "If a dumped, trained model already exists, the time consuming training step\n",
      "is skipped and the saved model is loaded instead."
     ]
    },
    {
     "cell_type": "code",
     "collapsed": false,
     "input": [
      "tntfile = \"brown.tnt.model\"\n",
      "if not os.path.exists(tntfile):\n",
      "    print \"# training and writing\",tntfile\n",
      "    tnt = nltk.tag.TnT()\n",
      "    tnt.train(brown.tagged_sents())\n",
      "    with open(tntfile,\"wb\") as stream: \n",
      "        cPickle.dump(tnt,stream)\n",
      "else:\n",
      "    print \"# loading\",tntfile\n",
      "    with open(tntfile,\"rb\") as stream:\n",
      "        tnt = cPickle.load(stream)"
     ],
     "language": "python",
     "metadata": {},
     "outputs": [
      {
       "output_type": "stream",
       "stream": "stdout",
       "text": [
        "# loading brown.tnt.model\n"
       ]
      }
     ],
     "prompt_number": 45
    },
    {
     "cell_type": "code",
     "collapsed": false,
     "input": [
      "tnt.tag(sents[2])"
     ],
     "language": "python",
     "metadata": {},
     "outputs": [
      {
       "output_type": "pyout",
       "prompt_number": 46,
       "text": [
        "[('Peter', 'NP'),\n",
        " ('speaks', 'VBZ'),\n",
        " ('like', 'CS'),\n",
        " ('a', 'AT'),\n",
        " ('politician', 'NN'),\n",
        " ('.', '.')]"
       ]
      }
     ],
     "prompt_number": 46
    },
    {
     "cell_type": "code",
     "collapsed": false,
     "input": [
      "HTML(stags(tnt.tag(sents[2])))"
     ],
     "language": "python",
     "metadata": {},
     "outputs": [
      {
       "html": [
        "<font color='blue' size=+1>Peter</font> <font color='red' size=+2>speaks</font> <font color='purple' size=+1>like</font> <font size=-2>a</font> <font color='blue' size=+1>politician</font> ."
       ],
       "output_type": "pyout",
       "prompt_number": 47,
       "text": [
        "<IPython.core.display.HTML at 0x11437550>"
       ]
      }
     ],
     "prompt_number": 47
    },
    {
     "cell_type": "code",
     "collapsed": false,
     "input": [
      "alltagged = [tnt.tag(s) for s in sents]"
     ],
     "language": "python",
     "metadata": {},
     "outputs": [],
     "prompt_number": 48
    },
    {
     "cell_type": "code",
     "collapsed": false,
     "input": [
      "HTML(\"<p>\\n\".join([\"[%d] \"%i + stags(s) for i,s in enumerate(alltagged)]))"
     ],
     "language": "python",
     "metadata": {},
     "outputs": [
      {
       "html": [
        "[0] <font color='blue' size=+1>John</font> <font color='red' size=+2>loves</font> <font color='blue' size=+1>Jane</font> .<p>\n",
        "[1] <font color='blue' size=+1>Peter</font> <font color='purple' size=+1>and</font> <font color='blue' size=+1>John</font> both <font color='red' size=+2>like</font> <font color='blue' size=+1>Mozart</font> .<p>\n",
        "[2] <font color='blue' size=+1>Peter</font> <font color='red' size=+2>speaks</font> <font color='purple' size=+1>like</font> <font size=-2>a</font> <font color='blue' size=+1>politician</font> .<p>\n",
        "[3] <i>[Banana]</i> <font color='red' size=+2>flies</font> <font color='purple' size=+1>like</font> <font color='blue' size=+1>fruit</font> .<p>\n",
        "[4] Some <font color='blue' size=+1>flies</font> <font color='purple' size=+1>like</font> <font color='blue' size=+1>banana</font> .<p>\n",
        "[5] <font color='red' size=+2>Think</font> <font color='green'>different</font> .<p>\n",
        "[6] <font color='red' size=+2>Think</font> <font color='#00c080''>differently</font> .<p>\n",
        "[7] <font color='blue' size=+1>John</font> <font color='red' size=+2>likes</font> <font color='blue' size=+1>ice</font> <font color='blue' size=+1>cream</font> <font color='purple' size=+1>and</font> <font color='blue' size=+1>Peter</font> <font color='red' size=+2>likes</font> to <font color='red' size=+2>sing</font> .<p>\n",
        "[8] <font size=-2>The</font> <font color='blue' size=+1>man</font> <font color='red' size=+2>harvested</font> <font size=-2>a</font> <font color='green'>ripe</font> <font color='blue' size=+1>coconut</font> <font color='#c08000' size=+2>with</font> <font size=-2>a</font> <font color='blue' size=+1>bush</font> <font color='blue' size=+1>knife</font> .<p>\n",
        "[9] <font color='#c08000' size=+2>On</font> <font size=-2>the</font> <font color='blue' size=+1>basis</font> <font color='#c08000' size=+2>of</font> <font size=-2>the</font> <font color='green'>physical</font> <font color='blue' size=+1>interpretation</font> <font color='#c08000' size=+2>of</font> <font color='blue' size=+1>distance</font> which <font color='red'>has</font> been <font color='red' size=+2>indicated</font> , <font color='#8080ff' size=+1>we</font> are <font color='#00c080''>also</font> <font color='#c08000' size=+2>in</font> <font size=-2>a</font> <font color='blue' size=+1>position</font> to <font color='red' size=+2>establish</font> <font size=-2>the</font> <font color='blue' size=+1>distance</font> <font color='#c08000' size=+2>between</font> two <font color='blue' size=+1>points</font> <font color='#c08000' size=+2>on</font> <font size=-2>a</font> <font color='green'>rigid</font> <font color='blue' size=+1>body</font> <font color='#c08000' size=+2>by</font> <font color='blue' size=+1>means</font> <font color='#c08000' size=+2>of</font> <font color='blue' size=+1>measurements</font> .<p>\n",
        "[10] <font color='#8080ff' size=+1>We</font> <font color='red'>will</font> not <font color='red' size=+2>speak</font> <font color='#c08000' size=+2>of</font> all <i>[Queequeg]</i> <i>['s]</i> <font color='blue' size=+1>peculiarities</font> <font color='#00c080''>here</font> ; how <font color='#8080ff' size=+1>he</font> <font color='red' size=+2>eschewed</font> <font color='blue' size=+1>coffee</font> <font color='purple' size=+1>and</font> <font color='green'>hot</font> <font color='blue' size=+1>rolls</font> , <font color='purple' size=+1>and</font> <font color='red' size=+2>applied</font> <font color='#8080ff' size=+1>his</font> <font color='green'>undivided</font> <font color='blue' size=+1>attention</font> <font color='#c08000' size=+2>to</font> <i>[beefsteaks]</i> , <font color='red' size=+2>done</font> <font color='green'>rare</font> .<p>\n",
        "[11] <font color='blue' size=+1>Voters</font> <font color='#c08000' size=+2>in</font> <i>[Catalonia]</i> <font color='red' size=+2>delivered</font> <font color='blue' size=+1>victory</font> <font color='#c08000' size=+2>to</font> <i>[separatist]</i> <font color='blue' size=+1>parties</font> <font color='#c08000' size=+2>in</font> <font size=-2>a</font> <font color='green'>regional</font> <font color='blue' size=+1>election</font> <font color='#c08000' size=+2>on</font> <font color='blue' size=+1>Sunday</font> , <font color='red' size=+2>raising</font> <font size=-2>the</font> <font color='blue' size=+1>likelihood</font> <font color='purple' size=+1>that</font> <font color='blue' size=+1>Spain</font> <i>['s]</i> most <font color='green'>powerful</font> <font color='green'>economic</font> <font color='blue' size=+1>region</font> <font color='red'>will</font> <font color='red' size=+2>hold</font> <font size=-2>an</font> <font color='blue' size=+1>independence</font> <font color='blue' size=+1>referendum</font> <font color='purple' size=+1>that</font> <font color='blue' size=+1>Madrid</font> <font color='red'>has</font> <font color='red' size=+2>vowed</font> to <font color='red' size=+2>block</font> .<p>\n",
        "[12] <font color='blue' size=+1>Alice</font> <font color='red' size=+2>took</font> up <font size=-2>the</font> <font color='blue' size=+1>fan</font> <font color='purple' size=+1>and</font> <font color='blue' size=+1>gloves</font> , <font color='purple' size=+1>and</font> , <font color='purple' size=+1>as</font> <font size=-2>the</font> <font color='blue' size=+1>hall</font> was very <font color='green'>hot</font> , <font color='#8080ff' size=+1>she</font> <font color='red' size=+2>kept</font> <font color='red' size=+2>fanning</font> <font color='#8080ff' size=+1>herself</font> all <font size=-2>the</font> <font color='blue' size=+1>time</font> <font color='#8080ff' size=+1>she</font> <font color='red' size=+2>went</font> <font color='#c08000' size=+2>on</font> <font color='red' size=+2>talking</font> : ' <font color='green'>Dear</font> , <font color='green'>dear</font> !<p>\n",
        "[13] How <font color='green'>queer</font> everything is to <font color='#c08000' size=+2>-</font> <font color='blue' size=+1>day</font> !<p>\n",
        "[14] <font color='purple' size=+1>And</font> <font color='blue' size=+1>yesterday</font> <font color='blue' size=+1>things</font> <font color='red' size=+2>went</font> on <font color='#00c080''>just</font> <font color='purple' size=+1>as</font> <font color='green'>usual</font> .<p>\n",
        "[15] <font color='#8080ff' size=+1>I</font> <font color='red' size=+2>wonder</font> <font color='purple' size=+1>if</font> <font color='#8080ff' size=+1>I</font> ' <i>[ve]</i> been <font color='red' size=+2>changed</font> <font color='#c08000' size=+2>in</font> <font size=-2>the</font> <font color='blue' size=+1>night</font> ?<p>\n",
        "[16] <font color='red' size=+2>Let</font> <font color='#8080ff' size=+1>me</font> <font color='red' size=+2>think</font> : was <font color='#8080ff' size=+1>I</font> <font size=-2>the</font> same when <font color='#8080ff' size=+1>I</font> <font color='red' size=+2>got</font> up this <font color='blue' size=+1>morning</font> ?<p>\n",
        "[17] <font color='#8080ff' size=+1>I</font> <font color='#00c080''>almost</font> <font color='red' size=+2>think</font> <font color='#8080ff' size=+1>I</font> <font color='red'>can</font> <font color='red' size=+2>remember</font> <font color='red' size=+2>feeling</font> <font size=-2>a</font> little <font color='green'>different</font> .<p>\n",
        "[18] <font color='purple' size=+1>But</font> <font color='purple' size=+1>if</font> <font color='#8080ff' size=+1>I</font> ' <i>[m]</i> not <font size=-2>the</font> same , <font size=-2>the</font> next <font color='blue' size=+1>question</font> is , Who <font color='#c08000' size=+2>in</font> <font size=-2>the</font> <font color='blue' size=+1>world</font> am <font color='#8080ff' size=+1>I</font> ?<p>\n",
        "[19] Ah , <i>[THAT]</i> ' <font color='blue' size=+1>S</font> <font size=-2>the</font> <font color='green'>great</font> <font color='blue' size=+1>puzzle</font> !<p>\n",
        "[20] ' <font color='purple' size=+1>And</font> <font color='#8080ff' size=+1>she</font> <font color='red' size=+2>began</font> <font color='red' size=+2>thinking</font> over all <font size=-2>the</font> <font color='blue' size=+1>children</font> <font color='#8080ff' size=+1>she</font> <font color='red' size=+2>knew</font> <font color='purple' size=+1>that</font> were <font color='#c08000' size=+2>of</font> <font size=-2>the</font> same <font color='blue' size=+1>age</font> <font color='purple' size=+1>as</font> <font color='#8080ff' size=+1>herself</font> , to <font color='red' size=+2>see</font> <font color='purple' size=+1>if</font> <font color='#8080ff' size=+1>she</font> <font color='red'>could</font> <font color='red'>have</font> been <font color='red' size=+2>changed</font> <font color='#c08000' size=+2>for</font> any <font color='#c08000' size=+2>of</font> <font color='#8080ff' size=+1>them</font> .<p>\n",
        "[21] ' <font color='#8080ff' size=+1>I</font> ' <i>[m]</i> <font color='green'>sure</font> <font color='#8080ff' size=+1>I</font> ' <i>[m]</i> not <font color='blue' size=+1>Ada</font> <i>[,']</i> <font color='#8080ff' size=+1>she</font> <font color='red' size=+2>said</font> , ' <font color='#c08000' size=+2>for</font> <font color='#8080ff' size=+1>her</font> <font color='blue' size=+1>hair</font> <font color='red' size=+2>goes</font> <font color='#c08000' size=+2>in</font> <font color='green'>such</font> <font color='green'>long</font> <font color='blue' size=+1>ringlets</font> , <font color='purple' size=+1>and</font> <font color='#8080ff' size=+1>mine</font> <i>[doesn]</i> ' <font color='blue' size=+1>t</font> <font color='red' size=+2>go</font> <font color='#c08000' size=+2>in</font> <font color='blue' size=+1>ringlets</font> <font color='#c08000' size=+2>at</font> all ; <font color='purple' size=+1>and</font> <font color='#8080ff' size=+1>I</font> ' <i>[m]</i> <font color='green'>sure</font> <font color='#8080ff' size=+1>I</font> <font color='red'>can</font> ' <font color='blue' size=+1>t</font> be <i>[Mabel]</i> , <font color='purple' size=+1>for</font> <font color='#8080ff' size=+1>I</font> <font color='red' size=+2>know</font> all <font color='blue' size=+1>sorts</font> <font color='#c08000' size=+2>of</font> <font color='blue' size=+1>things</font> , <font color='purple' size=+1>and</font> <font color='#8080ff' size=+1>she</font> , oh !"
       ],
       "output_type": "pyout",
       "prompt_number": 49,
       "text": [
        "<IPython.core.display.HTML at 0x114374d0>"
       ]
      }
     ],
     "prompt_number": 49
    },
    {
     "cell_type": "code",
     "collapsed": false,
     "input": [
      "alltagged[13]"
     ],
     "language": "python",
     "metadata": {},
     "outputs": [
      {
       "output_type": "pyout",
       "prompt_number": 50,
       "text": [
        "[('How', 'WRB'),\n",
        " ('queer', 'JJ'),\n",
        " ('everything', 'PN'),\n",
        " ('is', 'BEZ'),\n",
        " ('to', 'TO'),\n",
        " ('-', 'IN'),\n",
        " ('day', 'NN'),\n",
        " ('!', '.')]"
       ]
      }
     ],
     "prompt_number": 50
    },
    {
     "cell_type": "heading",
     "level": 1,
     "metadata": {},
     "source": [
      "More Taggers"
     ]
    },
    {
     "cell_type": "markdown",
     "metadata": {},
     "source": [
      "NLTK provides a common, simple interface to a number of different taggers.\n",
      "\n",
      "## Brill Tagger\n",
      "\n",
      "A *Brill Tagger* takes:\n",
      "\n",
      "- an existing tagger\n",
      "- a set of tagged sentences\n",
      "\n",
      "It uses the existing tagger and attempts to learn transformational rules that improve the performance of the existing tagger.\n",
      "\n",
      "## HunposTagger\n",
      "\n",
      "The *HunposTagger* is an HMM-based tagger, a reimplementation of the TnT tagger.\n",
      "It is written in OCAML; NLTK contains a Python interface.\n",
      "\n",
      "## Mallet Tagger\n",
      "\n",
      "Mallet is a machine learning toolkit for statistical natural language processing written\n",
      "in Java.  The Mallet tagger is based on CRF's. We may be able to cover CRF's later in the class."
     ]
    }
   ],
   "metadata": {}
  }
 ]
}