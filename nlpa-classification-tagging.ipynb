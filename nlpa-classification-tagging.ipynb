{
 "metadata": {
  "name": "nlpa-classification-tagging"
 },
 "nbformat": 3,
 "nbformat_minor": 0,
 "worksheets": [
  {
   "cells": [
    {
     "cell_type": "code",
     "collapsed": false,
     "input": [
      "import nltk\n",
      "from nltk.corpus import names\n",
      "from pylab import *\n",
      "import random as pyrandom"
     ],
     "language": "python",
     "metadata": {},
     "outputs": [],
     "prompt_number": 23
    },
    {
     "cell_type": "heading",
     "level": 1,
     "metadata": {},
     "source": [
      "Parts of Speech Tagging"
     ]
    },
    {
     "cell_type": "code",
     "collapsed": false,
     "input": [
      "from nltk.corpus import brown"
     ],
     "language": "python",
     "metadata": {},
     "outputs": [],
     "prompt_number": 24
    },
    {
     "cell_type": "code",
     "collapsed": false,
     "input": [
      "tagged_words = brown.tagged_words(categories='news')"
     ],
     "language": "python",
     "metadata": {},
     "outputs": [],
     "prompt_number": 25
    },
    {
     "cell_type": "code",
     "collapsed": false,
     "input": [
      "def features(s,i,y):\n",
      "    f = dict(ltag=y[i-1] if i>0 else \"^\", # previous tag\n",
      "             lword=s[i-1] if i>0 else \"^\", # previous word\n",
      "             s1 = s[i][-1:], # current word features\n",
      "             s2 = s[i][-2:],\n",
      "             s3 = s[i][-3:])\n",
      "    return f"
     ],
     "language": "python",
     "metadata": {},
     "outputs": [],
     "prompt_number": 44
    },
    {
     "cell_type": "heading",
     "level": 1,
     "metadata": {},
     "source": [
      "Training"
     ]
    },
    {
     "cell_type": "code",
     "collapsed": false,
     "input": [
      "data = []\n",
      "for sy in brown.tagged_sents(categories='news'):\n",
      "    s,y = zip(*sy)\n",
      "    for i in range(len(s)):\n",
      "        data.append((features(s,i,y),y[i]))\n",
      "n = len(data)\n",
      "training_set = data[n//10:]\n",
      "test_set = data[:n//10]"
     ],
     "language": "python",
     "metadata": {},
     "outputs": [],
     "prompt_number": 35
    },
    {
     "cell_type": "code",
     "collapsed": false,
     "input": [
      "classifier = nltk.NaiveBayesClassifier.train(training_set)"
     ],
     "language": "python",
     "metadata": {},
     "outputs": [],
     "prompt_number": 36
    },
    {
     "cell_type": "code",
     "collapsed": false,
     "input": [
      "nltk.classify.accuracy(classifier,test_set)"
     ],
     "language": "python",
     "metadata": {},
     "outputs": [
      {
       "output_type": "pyout",
       "prompt_number": 37,
       "text": [
        "0.8176031824962705"
       ]
      }
     ],
     "prompt_number": 37
    },
    {
     "cell_type": "heading",
     "level": 1,
     "metadata": {},
     "source": [
      "Greedy Decoding"
     ]
    },
    {
     "cell_type": "code",
     "collapsed": false,
     "input": [
      "class MyTagger:\n",
      "    def __init__(self,classifier):\n",
      "        self.classifier = classifier\n",
      "    def tag(self,s):\n",
      "        y = []\n",
      "        for i in range(len(s)):\n",
      "            f = features(s,i,y)\n",
      "            y.append(classifier.classify(features(s,i,y)))\n",
      "        return zip(s,y)            "
     ],
     "language": "python",
     "metadata": {},
     "outputs": [],
     "prompt_number": 46
    },
    {
     "cell_type": "code",
     "collapsed": false,
     "input": [
      "tagger = MyTagger(classifier)"
     ],
     "language": "python",
     "metadata": {},
     "outputs": [],
     "prompt_number": 40
    },
    {
     "cell_type": "code",
     "collapsed": false,
     "input": [
      "tagger.tag(\"The quick brown fox jumped over the lazy dogs.\".split())"
     ],
     "language": "python",
     "metadata": {},
     "outputs": [
      {
       "output_type": "pyout",
       "prompt_number": 45,
       "text": [
        "[('The', 'AT'),\n",
        " ('quick', 'NN'),\n",
        " ('brown', 'NN'),\n",
        " ('fox', 'NPS-TL'),\n",
        " ('jumped', 'VBD'),\n",
        " ('over', 'RP'),\n",
        " ('the', 'AT'),\n",
        " ('lazy', 'JJ'),\n",
        " ('dogs.', 'NP')]"
       ]
      }
     ],
     "prompt_number": 45
    },
    {
     "cell_type": "heading",
     "level": 1,
     "metadata": {},
     "source": [
      "More Advanced Models"
     ]
    },
    {
     "cell_type": "markdown",
     "metadata": {},
     "source": [
      "- Viterbi Decoding\n",
      "- MEMM\n",
      "- Conditional Random Fields"
     ]
    },
    {
     "cell_type": "code",
     "collapsed": false,
     "input": [],
     "language": "python",
     "metadata": {},
     "outputs": []
    }
   ],
   "metadata": {}
  }
 ]
}