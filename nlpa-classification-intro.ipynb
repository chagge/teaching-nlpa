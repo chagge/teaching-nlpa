{
 "metadata": {
  "name": "nlpa-classification-intro"
 },
 "nbformat": 3,
 "nbformat_minor": 0,
 "worksheets": [
  {
   "cells": [
    {
     "cell_type": "code",
     "collapsed": false,
     "input": [
      "import nltk\n",
      "from nltk.corpus import names\n",
      "from pylab import *\n",
      "import random as pyrandom"
     ],
     "language": "python",
     "metadata": {},
     "outputs": [],
     "prompt_number": 9
    },
    {
     "cell_type": "heading",
     "level": 1,
     "metadata": {},
     "source": [
      "Text Classification"
     ]
    },
    {
     "cell_type": "markdown",
     "metadata": {},
     "source": [
      "Let's start with a very simple text classification problem: guessing the gender of a name from the name itself.\n",
      "\n",
      "You can probably make a pretty good guess about the gender of names like: \"Bilama\" or \"Telek\".\n",
      "\n",
      "If we want to generalize to new names, we need to extract properties of names that occur in new, previously unseen names. We call these properties _features_.\n",
      "\n",
      "In NLTK, they are represented as hash tables."
     ]
    },
    {
     "cell_type": "code",
     "collapsed": false,
     "input": [
      "def gender_features(w):\n",
      "    return dict(last_letter=w[-1],\n",
      "                first_letter=w[0],\n",
      "                length=len(w))\n",
      "gender_features(\"Petra\")"
     ],
     "language": "python",
     "metadata": {},
     "outputs": [
      {
       "output_type": "pyout",
       "prompt_number": 123,
       "text": [
        "{'first_letter': 'P', 'last_letter': 'a', 'length': 5}"
       ]
      }
     ],
     "prompt_number": 123
    },
    {
     "cell_type": "markdown",
     "metadata": {},
     "source": [
      "For the training data, we read male and female names from NLTK corpora."
     ]
    },
    {
     "cell_type": "code",
     "collapsed": false,
     "input": [
      "male = [(name,'male') for name in names.words('male.txt')]\n",
      "female = [(name,'female') for name in names.words('female.txt')]\n",
      "nlist = male+female\n",
      "print len(nlist),len(set([x for x,y in nlist]))"
     ],
     "language": "python",
     "metadata": {},
     "outputs": [
      {
       "output_type": "stream",
       "stream": "stdout",
       "text": [
        "7944 7579\n"
       ]
      }
     ],
     "prompt_number": 124
    },
    {
     "cell_type": "code",
     "collapsed": false,
     "input": [
      "pyrandom.shuffle(nlist)\n",
      "nlist[:5]"
     ],
     "language": "python",
     "metadata": {},
     "outputs": [
      {
       "output_type": "pyout",
       "prompt_number": 125,
       "text": [
        "[('Stace', 'female'),\n",
        " ('Dimitrios', 'male'),\n",
        " ('Dulsea', 'female'),\n",
        " ('Millie', 'female'),\n",
        " ('Tilda', 'female')]"
       ]
      }
     ],
     "prompt_number": 125
    },
    {
     "cell_type": "markdown",
     "metadata": {},
     "source": [
      "We extract features and then split the data into a training set and a test set."
     ]
    },
    {
     "cell_type": "code",
     "collapsed": false,
     "input": [
      "featuresets = [(gender_features(n),g) for n,g in nlist]\n",
      "training_set = featuresets[500:]\n",
      "test_set = featuresets[:500]"
     ],
     "language": "python",
     "metadata": {},
     "outputs": [],
     "prompt_number": 126
    },
    {
     "cell_type": "code",
     "collapsed": false,
     "input": [
      "featuresets[:5]"
     ],
     "language": "python",
     "metadata": {},
     "outputs": [
      {
       "output_type": "pyout",
       "prompt_number": 130,
       "text": [
        "[({'first_letter': 'S', 'last_letter': 'e', 'length': 5}, 'female'),\n",
        " ({'first_letter': 'D', 'last_letter': 's', 'length': 9}, 'male'),\n",
        " ({'first_letter': 'D', 'last_letter': 'a', 'length': 6}, 'female'),\n",
        " ({'first_letter': 'M', 'last_letter': 'e', 'length': 6}, 'female'),\n",
        " ({'first_letter': 'T', 'last_letter': 'a', 'length': 5}, 'female')]"
       ]
      }
     ],
     "prompt_number": 130
    },
    {
     "cell_type": "markdown",
     "metadata": {},
     "source": [
      "Once we have features and corresponding labels, we can train a classifier..."
     ]
    },
    {
     "cell_type": "code",
     "collapsed": false,
     "input": [
      "classifier = nltk.NaiveBayesClassifier.train(training_set)"
     ],
     "language": "python",
     "metadata": {},
     "outputs": [],
     "prompt_number": 132
    },
    {
     "cell_type": "markdown",
     "metadata": {},
     "source": [
      "... and evaluate its performance on the test set."
     ]
    },
    {
     "cell_type": "code",
     "collapsed": false,
     "input": [
      "nltk.classify.accuracy(classifier,test_set)"
     ],
     "language": "python",
     "metadata": {},
     "outputs": [
      {
       "output_type": "pyout",
       "prompt_number": 131,
       "text": [
        "0.776"
       ]
      }
     ],
     "prompt_number": 131
    },
    {
     "cell_type": "markdown",
     "metadata": {},
     "source": [
      "Classiifers also give us information about how informative features are."
     ]
    },
    {
     "cell_type": "code",
     "collapsed": false,
     "input": [
      "classifier.show_most_informative_features(5)"
     ],
     "language": "python",
     "metadata": {},
     "outputs": [
      {
       "output_type": "stream",
       "stream": "stdout",
       "text": [
        "Most Informative Features\n",
        "             last_letter = 'k'              male : female =     43.1 : 1.0\n",
        "             last_letter = 'a'            female : male   =     35.6 : 1.0\n",
        "             last_letter = 'v'              male : female =     18.7 : 1.0\n",
        "             last_letter = 'f'              male : female =     14.6 : 1.0\n",
        "             last_letter = 'p'              male : female =     11.9 : 1.0\n"
       ]
      }
     ],
     "prompt_number": 128
    },
    {
     "cell_type": "markdown",
     "metadata": {},
     "source": [
      "Naive Bayesian classifiers assume a very simple statistical model of the posterior probability $P(c|x)$ for input features $x = (x_1,...,x_n)$\n",
      "\n",
      "- We assume that each feature is generated independently $P(x|c) = \\prod_i(x_i|c)$\n",
      "- We use Bayes formula to turn that equation into a posterior probability $P(c|x)$\n",
      "\n",
      "Here, the different $P(x_i|c)$ are modeled via empirical distributions; that is, we count\n",
      "how often $x_i$ is true given that the class is $c$."
     ]
    },
    {
     "cell_type": "heading",
     "level": 1,
     "metadata": {},
     "source": [
      "Another Classifier"
     ]
    },
    {
     "cell_type": "markdown",
     "metadata": {},
     "source": [
      "There are many different classifiers available in NLTK; they give different performance on different\n",
      "tasks. There is no single best classifier, so you need a bit of experimentation."
     ]
    },
    {
     "cell_type": "code",
     "collapsed": false,
     "input": [
      "classifier = nltk.MaxentClassifier.train(training_set,algorithm=\"IIS\",max_iter=10)\n",
      "nltk.classify.accuracy(classifier,test_set)"
     ],
     "language": "python",
     "metadata": {},
     "outputs": [
      {
       "output_type": "stream",
       "stream": "stdout",
       "text": [
        "  ==> Training (10 iterations)\n",
        "\n",
        "      Iteration    Log Likelihood    Accuracy\n",
        "      ---------------------------------------\n",
        "             1          -0.69315        0.372"
       ]
      },
      {
       "output_type": "stream",
       "stream": "stdout",
       "text": [
        "\n",
        "             2          -0.37399        0.763"
       ]
      },
      {
       "output_type": "stream",
       "stream": "stdout",
       "text": [
        "\n",
        "             3          -0.37364        0.763"
       ]
      },
      {
       "output_type": "stream",
       "stream": "stdout",
       "text": [
        "\n",
        "             4          -0.37342        0.763"
       ]
      },
      {
       "output_type": "stream",
       "stream": "stdout",
       "text": [
        "\n",
        "             5          -0.37328        0.763"
       ]
      },
      {
       "output_type": "stream",
       "stream": "stdout",
       "text": [
        "\n",
        "             6          -0.37318        0.763"
       ]
      },
      {
       "output_type": "stream",
       "stream": "stdout",
       "text": [
        "\n",
        "             7          -0.37310        0.763"
       ]
      },
      {
       "output_type": "stream",
       "stream": "stdout",
       "text": [
        "\n",
        "             8          -0.37304        0.763"
       ]
      },
      {
       "output_type": "stream",
       "stream": "stdout",
       "text": [
        "\n",
        "             9          -0.37299        0.763"
       ]
      },
      {
       "output_type": "stream",
       "stream": "stdout",
       "text": [
        "\n",
        "         Final          -0.37295        0.763"
       ]
      },
      {
       "output_type": "stream",
       "stream": "stdout",
       "text": [
        "\n"
       ]
      },
      {
       "output_type": "pyout",
       "prompt_number": 57,
       "text": [
        "0.754"
       ]
      }
     ],
     "prompt_number": 57
    },
    {
     "cell_type": "markdown",
     "metadata": {},
     "source": [
      "The maximum entropy classifier can be derived in different ways. In practice, it amounts to the same classifier as logistic regression:\n",
      "\n",
      "$P(c|x) = \\sigma(w \\cdot x)$\n",
      "\n",
      "where $\\sigma(x) = \\frac{1}{1+e^{-x}}$\n",
      "\n",
      "The term \"MaxEnt\" is frequently used in NLP. It refers to the fact that we are thinking of the problem as follows:\n",
      "\n",
      "- assume that we have a set of binary feature functions of documents $x_i(d)$\n",
      "- each binary feature function is true or false\n",
      "- for each binary feature function, we have a posterior $P(c|x_i)$\n",
      "- we want to find an overall posterior probability $P(c|d)$ that is...\n",
      "  - consistent with the individual posteriors\n",
      "  - otherwise a \"maximum entropy distribution\""
     ]
    },
    {
     "cell_type": "heading",
     "level": 1,
     "metadata": {},
     "source": [
      "\"Traditional\" Classifier"
     ]
    },
    {
     "cell_type": "markdown",
     "metadata": {},
     "source": [
      "The NLTK classifiers take features in the form of hash tables; this is convenient for NLP tasks, but somewhat inefficient.\n",
      "\n",
      "Classifiers in other machine learning libraries tend to take input data in a different format.\n",
      "\n",
      "A common format is two matrices, one for inputs (each row representing an input vectors), and one for outputs (containing integer classes or indicator functions)."
     ]
    },
    {
     "cell_type": "code",
     "collapsed": false,
     "input": [
      "xs = zeros((len(training_set),26))\n",
      "ys = zeros(len(training_set))"
     ],
     "language": "python",
     "metadata": {},
     "outputs": [],
     "prompt_number": 31
    },
    {
     "cell_type": "markdown",
     "metadata": {},
     "source": [
      "For coding the inputs, we use a \"unary code\"."
     ]
    },
    {
     "cell_type": "code",
     "collapsed": false,
     "input": [
      "for i,(f,c) in enumerate(training_set):\n",
      "    ll = f[\"last_letter\"].lower()\n",
      "    if ll==\" \" : continue\n",
      "    xs[i,ord(ll)-ord(\"a\")] = 1\n",
      "    if c==\"female\": ys[i] = 1"
     ],
     "language": "python",
     "metadata": {},
     "outputs": [],
     "prompt_number": 38
    },
    {
     "cell_type": "markdown",
     "metadata": {},
     "source": [
      "*LogisticRegression* is the same as *MaxentClassifier*, but the sklearn implementation is much faster."
     ]
    },
    {
     "cell_type": "code",
     "collapsed": false,
     "input": [
      "from sklearn.linear_model import LogisticRegression\n",
      "lr = LogisticRegression()\n",
      "lr.fit(xs,ys)"
     ],
     "language": "python",
     "metadata": {},
     "outputs": [
      {
       "output_type": "pyout",
       "prompt_number": 39,
       "text": [
        "LogisticRegression(C=1.0, class_weight=None, dual=False, fit_intercept=True,\n",
        "          intercept_scaling=1, penalty='l2', tol=0.0001)"
       ]
      }
     ],
     "prompt_number": 39
    },
    {
     "cell_type": "code",
     "collapsed": false,
     "input": [
      "xs = zeros((len(test_set),26))\n",
      "ys = zeros(len(test_set))\n",
      "for i,(f,c) in enumerate(test_set):\n",
      "    ll = f[\"last_letter\"].lower()\n",
      "    if ll==\" \" : continue\n",
      "    xs[i,ord(ll)-ord(\"a\")] = 1\n",
      "    if c==\"female\": ys[i] = 1"
     ],
     "language": "python",
     "metadata": {},
     "outputs": [],
     "prompt_number": 40
    },
    {
     "cell_type": "code",
     "collapsed": false,
     "input": [
      "1.0-sum(lr.predict(xs)!=ys)*1.0/len(ys)"
     ],
     "language": "python",
     "metadata": {},
     "outputs": [
      {
       "output_type": "pyout",
       "prompt_number": 43,
       "text": [
        "0.76800000000000002"
       ]
      }
     ],
     "prompt_number": 43
    },
    {
     "cell_type": "heading",
     "level": 1,
     "metadata": {},
     "source": [
      "Bigger Feature Set"
     ]
    },
    {
     "cell_type": "markdown",
     "metadata": {},
     "source": [
      "There is no single right feature set, and different feature sets give different amounts of performance for different classifiers."
     ]
    },
    {
     "cell_type": "code",
     "collapsed": false,
     "input": [
      "def more_features(w):\n",
      "    features = {}\n",
      "    features[\"first\"] = w[0].lower()\n",
      "    features[\"last\"] = w[-1].lower()\n",
      "    features[\"last2\"] = w[-2:].lower()\n",
      "    for c in [chr(i) for i in range(ord(\"a\"),ord(\"z\")+1)]:\n",
      "        features[\"nr_\"+c] = name.lower().count(c)\n",
      "        features[\"has_\"+c] = (c in name.lower())\n",
      "    return features"
     ],
     "language": "python",
     "metadata": {},
     "outputs": [],
     "prompt_number": 60
    },
    {
     "cell_type": "code",
     "collapsed": false,
     "input": [
      "featuresets = [(more_features(n),g) for n,g in nlist]\n",
      "training_set = featuresets[500:]\n",
      "test_set = featuresets[:500]\n",
      "classifier = nltk.NaiveBayesClassifier.train(training_set)\n",
      "nltk.classify.accuracy(classifier,test_set)"
     ],
     "language": "python",
     "metadata": {},
     "outputs": [
      {
       "output_type": "pyout",
       "prompt_number": 61,
       "text": [
        "0.792"
       ]
      }
     ],
     "prompt_number": 61
    },
    {
     "cell_type": "markdown",
     "metadata": {},
     "source": [
      "Usually, you should split the training data into three sets:\n",
      "\n",
      "- the training set\n",
      "- the feature evaluation set\n",
      "- the test set\n",
      "\n",
      "If you don't, you risk that you get a good result on the test set by accident, a result that doesn't generalize.\n",
      "\n",
      "Other approaches are resampling methods and cross-validation."
     ]
    },
    {
     "cell_type": "markdown",
     "metadata": {},
     "source": [
      "What are some of the tradeoffs in choosing a feature set?"
     ]
    },
    {
     "cell_type": "heading",
     "level": 1,
     "metadata": {},
     "source": [
      "Decision Trees"
     ]
    },
    {
     "cell_type": "markdown",
     "metadata": {},
     "source": [
      "Decision trees are another common classifier."
     ]
    },
    {
     "cell_type": "code",
     "collapsed": false,
     "input": [
      "def simple_features(w):\n",
      "    return {'fl':w[0].lower(),'ll': w[-1].lower(),'l':len(w)}\n",
      "simple_features(\"Petra\")"
     ],
     "language": "python",
     "metadata": {},
     "outputs": [
      {
       "output_type": "pyout",
       "prompt_number": 133,
       "text": [
        "{'fl': 'p', 'l': 5, 'll': 'a'}"
       ]
      }
     ],
     "prompt_number": 133
    },
    {
     "cell_type": "code",
     "collapsed": false,
     "input": [
      "featuresets = [(simple_features(n),g) for n,g in nlist]\n",
      "training_set = featuresets[500:]\n",
      "test_set = featuresets[:500]"
     ],
     "language": "python",
     "metadata": {},
     "outputs": [],
     "prompt_number": 134
    },
    {
     "cell_type": "code",
     "collapsed": false,
     "input": [
      "classifier = nltk.DecisionTreeClassifier.train(training_set,depth_cutoff=2)\n",
      "nltk.classify.accuracy(classifier,test_set)"
     ],
     "language": "python",
     "metadata": {},
     "outputs": [
      {
       "output_type": "pyout",
       "prompt_number": 135,
       "text": [
        "0.776"
       ]
      }
     ],
     "prompt_number": 135
    },
    {
     "cell_type": "code",
     "collapsed": false,
     "input": [
      "print classifier.pseudocode()"
     ],
     "language": "python",
     "metadata": {},
     "outputs": [
      {
       "output_type": "stream",
       "stream": "stdout",
       "text": [
        "if ll == ' ': return 'female'\n",
        "if ll == 'a': return 'female'\n",
        "if ll == 'b': \n",
        "  if fl == 'a': return 'male'\n",
        "  if fl == 'b': return 'female'\n",
        "  if fl == 'c': return 'male'\n",
        "  if fl == 'd': return 'female'\n",
        "  if fl == 'g': return 'male'\n",
        "  if fl == 'h': return 'male'\n",
        "  if fl == 'j': return 'male'\n",
        "  if fl == 'k': return 'male'\n",
        "  if fl == 'l': return 'female'\n",
        "  if fl == 'm': return 'female'\n",
        "  if fl == 'r': return 'male'\n",
        "  if fl == 's': return 'female'\n",
        "  if fl == 't': return 'male'\n",
        "  if fl == 'w': return 'male'\n",
        "  if fl == 'z': return 'male'\n",
        "if ll == 'c': return 'male'\n",
        "if ll == 'd': return 'male'\n",
        "if ll == 'e': \n",
        "  if fl == 'a': return 'female'\n",
        "  if fl == 'b': return 'female'\n",
        "  if fl == 'c': return 'female'\n",
        "  if fl == 'd': return 'female'\n",
        "  if fl == 'e': return 'female'\n",
        "  if fl == 'f': return 'female'\n",
        "  if fl == 'g': return 'female'\n",
        "  if fl == 'h': return 'female'\n",
        "  if fl == 'i': return 'female'\n",
        "  if fl == 'j': return 'female'\n",
        "  if fl == 'k': return 'female'\n",
        "  if fl == 'l': return 'female'\n",
        "  if fl == 'm': return 'female'\n",
        "  if fl == 'n': return 'female'\n",
        "  if fl == 'o': return 'female'\n",
        "  if fl == 'p': return 'female'\n",
        "  if fl == 'q': return 'female'\n",
        "  if fl == 'r': return 'female'\n",
        "  if fl == 's': return 'female'\n",
        "  if fl == 't': return 'female'\n",
        "  if fl == 'u': return 'female'\n",
        "  if fl == 'v': return 'female'\n",
        "  if fl == 'w': return 'male'\n",
        "  if fl == 'y': return 'female'\n",
        "  if fl == 'z': return 'male'\n",
        "if ll == 'f': \n",
        "  if fl == 'a': return 'male'\n",
        "  if fl == 'b': return 'male'\n",
        "  if fl == 'c': return 'male'\n",
        "  if fl == 'g': return 'male'\n",
        "  if fl == 'h': return 'male'\n",
        "  if fl == 'j': return 'male'\n",
        "  if fl == 'o': return 'male'\n",
        "  if fl == 'p': return 'male'\n",
        "  if fl == 'r': return 'male'\n",
        "  if fl == 's': return 'male'\n",
        "  if fl == 't': return 'female'\n",
        "  if fl == 'w': return 'male'\n",
        "if ll == 'g': \n",
        "  if fl == 'a': return 'male'\n",
        "  if fl == 'b': return 'male'\n",
        "  if fl == 'c': return 'male'\n",
        "  if fl == 'd': return 'male'\n",
        "  if fl == 'f': return 'male'\n",
        "  if fl == 'g': return 'male'\n",
        "  if fl == 'h': return 'female'\n",
        "  if fl == 'i': return 'female'\n",
        "  if fl == 'k': return 'male'\n",
        "  if fl == 'l': return 'male'\n",
        "  if fl == 'm': return 'female'\n",
        "  if fl == 'o': return 'male'\n",
        "  if fl == 'p': return 'female'\n",
        "  if fl == 'r': return 'male'\n",
        "  if fl == 's': return 'male'\n",
        "  if fl == 'w': return 'male'\n",
        "  if fl == 'z': return 'male'\n",
        "if ll == 'h': \n",
        "  if fl == 'a': return 'female'\n",
        "  if fl == 'b': return 'female'\n",
        "  if fl == 'c': return 'male'\n",
        "  if fl == 'd': return 'female'\n",
        "  if fl == 'e': return 'female'\n",
        "  if fl == 'f': return 'female'\n",
        "  if fl == 'g': return 'female'\n",
        "  if fl == 'h': return 'male'\n",
        "  if fl == 'i': return 'male'\n",
        "  if fl == 'j': return 'male'\n",
        "  if fl == 'k': return 'female'\n",
        "  if fl == 'l': return 'female'\n",
        "  if fl == 'm': return 'female'\n",
        "  if fl == 'n': return 'female'\n",
        "  if fl == 'o': return 'male'\n",
        "  if fl == 'p': return 'female'\n",
        "  if fl == 'r': return 'male'\n",
        "  if fl == 's': return 'female'\n",
        "  if fl == 't': return 'female'\n",
        "  if fl == 'u': return 'male'\n",
        "  if fl == 'w': return 'male'\n",
        "  if fl == 'z': return 'male'\n",
        "if ll == 'i': \n",
        "  if fl == 'a': return 'female'\n",
        "  if fl == 'b': return 'female'\n",
        "  if fl == 'c': return 'female'\n",
        "  if fl == 'd': return 'female'\n",
        "  if fl == 'e': return 'female'\n",
        "  if fl == 'f': return 'female'\n",
        "  if fl == 'g': return 'female'\n",
        "  if fl == 'h': return 'female'\n",
        "  if fl == 'i': return 'female'\n",
        "  if fl == 'j': return 'female'\n",
        "  if fl == 'k': return 'female'\n",
        "  if fl == 'l': return 'female'\n",
        "  if fl == 'm': return 'female'\n",
        "  if fl == 'n': return 'female'\n",
        "  if fl == 'p': return 'female'\n",
        "  if fl == 'r': return 'female'\n",
        "  if fl == 's': return 'female'\n",
        "  if fl == 't': return 'female'\n",
        "  if fl == 'u': return 'male'\n",
        "  if fl == 'v': return 'female'\n",
        "  if fl == 'w': return 'female'\n",
        "  if fl == 'y': return 'male'\n",
        "if ll == 'j': \n",
        "  if fl == 'a': return 'male'\n",
        "  if fl == 'm': return 'female'\n",
        "  if fl == 'r': return 'male'\n",
        "if ll == 'k': \n",
        "  if fl == 'a': return 'male'\n",
        "  if fl == 'b': return 'male'\n",
        "  if fl == 'c': return 'male'\n",
        "  if fl == 'd': return 'male'\n",
        "  if fl == 'e': return 'male'\n",
        "  if fl == 'f': return 'male'\n",
        "  if fl == 'h': return 'male'\n",
        "  if fl == 'i': return 'male'\n",
        "  if fl == 'j': return 'male'\n",
        "  if fl == 'k': return 'male'\n",
        "  if fl == 'l': return 'female'\n",
        "  if fl == 'm': return 'male'\n",
        "  if fl == 'n': return 'male'\n",
        "  if fl == 'p': return 'male'\n",
        "  if fl == 'r': return 'male'\n",
        "  if fl == 's': return 'male'\n",
        "  if fl == 't': return 'male'\n",
        "  if fl == 'u': return 'male'\n",
        "  if fl == 'v': return 'male'\n",
        "  if fl == 'w': return 'male'\n",
        "  if fl == 'y': return 'male'\n",
        "  if fl == 'z': return 'male'\n",
        "if ll == 'l': \n",
        "  if fl == 'a': return 'female'\n",
        "  if fl == 'b': return 'female'\n",
        "  if fl == 'c': return 'female'\n",
        "  if fl == 'd': return 'female'\n",
        "  if fl == 'e': return 'male'\n",
        "  if fl == 'f': return 'male'\n",
        "  if fl == 'g': return 'female'\n",
        "  if fl == 'h': return 'male'\n",
        "  if fl == 'i': return 'female'\n",
        "  if fl == 'j': return 'female'\n",
        "  if fl == 'k': return 'female'\n",
        "  if fl == 'l': return 'female'\n",
        "  if fl == 'm': return 'male'\n",
        "  if fl == 'n': return 'male'\n",
        "  if fl == 'o': return 'male'\n",
        "  if fl == 'p': return 'male'\n",
        "  if fl == 'q': return 'male'\n",
        "  if fl == 'r': return 'male'\n",
        "  if fl == 's': return 'female'\n",
        "  if fl == 't': return 'male'\n",
        "  if fl == 'u': return 'male'\n",
        "  if fl == 'v': return 'male'\n",
        "  if fl == 'w': return 'male'\n",
        "  if fl == 'y': return 'male'\n",
        "if ll == 'm': \n",
        "  if l == 2: return 'female'\n",
        "  if l == 3: return 'male'\n",
        "  if l == 4: return 'male'\n",
        "  if l == 5: return 'male'\n",
        "  if l == 6: return 'male'\n",
        "  if l == 7: return 'male'\n",
        "  if l == 10: return 'male'\n",
        "if ll == 'n': \n",
        "  if fl == 'a': return 'male'\n",
        "  if fl == 'b': return 'male'\n",
        "  if fl == 'c': return 'female'\n",
        "  if fl == 'd': return 'male'\n",
        "  if fl == 'e': return 'female'\n",
        "  if fl == 'f': return 'male'\n",
        "  if fl == 'g': return 'female'\n",
        "  if fl == 'h': return 'male'\n",
        "  if fl == 'i': return 'male'\n",
        "  if fl == 'j': return 'female'\n",
        "  if fl == 'k': return 'female'\n",
        "  if fl == 'l': return 'female'\n",
        "  if fl == 'm': return 'female'\n",
        "  if fl == 'n': return 'male'\n",
        "  if fl == 'o': return 'male'\n",
        "  if fl == 'p': return 'male'\n",
        "  if fl == 'q': return 'male'\n",
        "  if fl == 'r': return 'female'\n",
        "  if fl == 's': return 'male'\n",
        "  if fl == 't': return 'male'\n",
        "  if fl == 'u': return 'male'\n",
        "  if fl == 'v': return 'male'\n",
        "  if fl == 'w': return 'male'\n",
        "  if fl == 'y': return 'male'\n",
        "  if fl == 'z': return 'male'\n",
        "if ll == 'o': \n",
        "  if fl == 'a': return 'male'\n",
        "  if fl == 'b': return 'male'\n",
        "  if fl == 'c': return 'female'\n",
        "  if fl == 'd': return 'male'\n",
        "  if fl == 'e': return 'male'\n",
        "  if fl == 'f': return 'male'\n",
        "  if fl == 'g': return 'male'\n",
        "  if fl == 'h': return 'male'\n",
        "  if fl == 'i': return 'male'\n",
        "  if fl == 'j': return 'male'\n",
        "  if fl == 'k': return 'female'\n",
        "  if fl == 'l': return 'male'\n",
        "  if fl == 'm': return 'male'\n",
        "  if fl == 'n': return 'male'\n",
        "  if fl == 'o': return 'male'\n",
        "  if fl == 'p': return 'male'\n",
        "  if fl == 'r': return 'male'\n",
        "  if fl == 's': return 'male'\n",
        "  if fl == 't': return 'male'\n",
        "  if fl == 'u': return 'male'\n",
        "  if fl == 'v': return 'male'\n",
        "  if fl == 'w': return 'male'\n",
        "  if fl == 'y': return 'female'\n",
        "  if fl == 'z': return 'male'\n",
        "if ll == 'p': \n",
        "  if fl == 'b': return 'male'\n",
        "  if fl == 'c': return 'male'\n",
        "  if fl == 'f': return 'male'\n",
        "  if fl == 'g': return 'male'\n",
        "  if fl == 'k': return 'female'\n",
        "  if fl == 'n': return 'male'\n",
        "  if fl == 'p': return 'male'\n",
        "  if fl == 's': return 'male'\n",
        "  if fl == 't': return 'male'\n",
        "  if fl == 'w': return 'male'\n",
        "if ll == 'r': \n",
        "  if fl == 'a': return 'male'\n",
        "  if fl == 'b': return 'male'\n",
        "  if fl == 'c': return 'male'\n",
        "  if fl == 'd': return 'female'\n",
        "  if fl == 'e': return 'male'\n",
        "  if fl == 'f': return 'male'\n",
        "  if fl == 'g': return 'male'\n",
        "  if fl == 'h': return 'female'\n",
        "  if fl == 'i': return 'male'\n",
        "  if fl == 'j': return 'female'\n",
        "  if fl == 'k': return 'male'\n",
        "  if fl == 'l': return 'male'\n",
        "  if fl == 'm': return 'male'\n",
        "  if fl == 'n': return 'male'\n",
        "  if fl == 'o': return 'male'\n",
        "  if fl == 'p': return 'male'\n",
        "  if fl == 'r': return 'male'\n",
        "  if fl == 's': return 'male'\n",
        "  if fl == 't': return 'male'\n",
        "  if fl == 'v': return 'male'\n",
        "  if fl == 'w': return 'male'\n",
        "  if fl == 'x': return 'male'\n",
        "if ll == 's': \n",
        "  if fl == 'a': return 'male'\n",
        "  if fl == 'b': return 'male'\n",
        "  if fl == 'c': return 'male'\n",
        "  if fl == 'd': return 'male'\n",
        "  if fl == 'e': return 'male'\n",
        "  if fl == 'f': return 'male'\n",
        "  if fl == 'g': return 'female'\n",
        "  if fl == 'h': return 'male'\n",
        "  if fl == 'i': return 'female'\n",
        "  if fl == 'j': return 'male'\n",
        "  if fl == 'k': return 'male'\n",
        "  if fl == 'l': return 'male'\n",
        "  if fl == 'm': return 'male'\n",
        "  if fl == 'n': return 'male'\n",
        "  if fl == 'o': return 'male'\n",
        "  if fl == 'p': return 'female'\n",
        "  if fl == 'q': return 'male'\n",
        "  if fl == 'r': return 'male'\n",
        "  if fl == 's': return 'male'\n",
        "  if fl == 't': return 'male'\n",
        "  if fl == 'u': return 'male'\n",
        "  if fl == 'v': return 'female'\n",
        "  if fl == 'w': return 'male'\n",
        "  if fl == 'x': return 'male'\n",
        "  if fl == 'y': return 'male'\n",
        "  if fl == 'z': return 'male'\n",
        "if ll == 't': \n",
        "  if fl == 'a': return 'male'\n",
        "  if fl == 'b': return 'male'\n",
        "  if fl == 'c': return 'male'\n",
        "  if fl == 'd': return 'male'\n",
        "  if fl == 'e': return 'male'\n",
        "  if fl == 'f': return 'male'\n",
        "  if fl == 'g': return 'male'\n",
        "  if fl == 'h': return 'male'\n",
        "  if fl == 'i': return 'male'\n",
        "  if fl == 'j': return 'female'\n",
        "  if fl == 'k': return 'male'\n",
        "  if fl == 'l': return 'female'\n",
        "  if fl == 'm': return 'female'\n",
        "  if fl == 'n': return 'female'\n",
        "  if fl == 'p': return 'male'\n",
        "  if fl == 'q': return 'male'\n",
        "  if fl == 'r': return 'male'\n",
        "  if fl == 's': return 'male'\n",
        "  if fl == 't': return 'male'\n",
        "  if fl == 'v': return 'male'\n",
        "  if fl == 'w': return 'male'\n",
        "  if fl == 'y': return 'female'\n",
        "if ll == 'u': \n",
        "  if fl == 'b': return 'female'\n",
        "  if fl == 'd': return 'male'\n",
        "  if fl == 'e': return 'male'\n",
        "  if fl == 'i': return 'female'\n",
        "  if fl == 'j': return 'male'\n",
        "  if fl == 'l': return 'female'\n",
        "  if fl == 'm': return 'male'\n",
        "  if fl == 'p': return 'female'\n",
        "  if fl == 's': return 'male'\n",
        "  if fl == 'v': return 'male'\n",
        "if ll == 'v': return 'male'\n",
        "if ll == 'w': \n",
        "  if fl == 'a': return 'male'\n",
        "  if fl == 'b': return 'male'\n",
        "  if fl == 'd': return 'female'\n",
        "  if fl == 'h': return 'male'\n",
        "  if fl == 'l': return 'male'\n",
        "  if fl == 'm': return 'male'\n",
        "  if fl == 'r': return 'female'\n",
        "  if fl == 's': return 'male'\n",
        "  if fl == 'w': return 'female'\n",
        "if ll == 'x': \n",
        "  if fl == 'a': return 'female'\n",
        "  if fl == 'b': return 'female'\n",
        "  if fl == 'd': return 'female'\n",
        "  if fl == 'f': return 'male'\n",
        "  if fl == 'k': return 'male'\n",
        "  if fl == 'l': return 'male'\n",
        "  if fl == 'm': return 'female'\n",
        "  if fl == 'r': return 'male'\n",
        "  if fl == 's': return 'female'\n",
        "  if fl == 't': return 'female'\n",
        "if ll == 'y': \n",
        "  if fl == 'a': return 'female'\n",
        "  if fl == 'b': return 'female'\n",
        "  if fl == 'c': return 'female'\n",
        "  if fl == 'd': return 'female'\n",
        "  if fl == 'e': return 'female'\n",
        "  if fl == 'f': return 'female'\n",
        "  if fl == 'g': return 'female'\n",
        "  if fl == 'h': return 'male'\n",
        "  if fl == 'i': return 'female'\n",
        "  if fl == 'j': return 'female'\n",
        "  if fl == 'k': return 'female'\n",
        "  if fl == 'l': return 'female'\n",
        "  if fl == 'm': return 'female'\n",
        "  if fl == 'n': return 'female'\n",
        "  if fl == 'o': return 'female'\n",
        "  if fl == 'p': return 'female'\n",
        "  if fl == 'q': return 'male'\n",
        "  if fl == 'r': return 'male'\n",
        "  if fl == 's': return 'male'\n",
        "  if fl == 't': return 'male'\n",
        "  if fl == 'v': return 'female'\n",
        "  if fl == 'w': return 'male'\n",
        "  if fl == 'y': return 'male'\n",
        "  if fl == 'z': return 'male'\n",
        "if ll == 'z': \n",
        "  if fl == 'a': return 'male'\n",
        "  if fl == 'b': return 'female'\n",
        "  if fl == 'e': return 'male'\n",
        "  if fl == 'f': return 'male'\n",
        "  if fl == 'h': return 'male'\n",
        "  if fl == 'i': return 'female'\n",
        "  if fl == 'j': return 'male'\n",
        "  if fl == 'l': return 'female'\n",
        "  if fl == 'm': return 'male'\n",
        "  if fl == 'r': return 'female'\n",
        "  if fl == 'x': return 'male'\n",
        "\n"
       ]
      }
     ],
     "prompt_number": 136
    },
    {
     "cell_type": "markdown",
     "metadata": {},
     "source": [
      "Decision trees are classifiers that classify as a nested sequence of if-then statements.\n",
      "\n",
      "Variables can be binary, categorical, or numeric.\n",
      "\n",
      "For numerical variables, they divide the feature space into axis-parallel rectangles and associated probabilities.\n",
      "\n",
      "Decision trees are generally grown as follows:\n",
      "\n",
      "- take a set of data\n",
      "- consider splits along every possible feature and value\n",
      "- pick the best split according to the minimal impurity of the corresponding label set\n",
      "- split according to that feature and value\n",
      "- repeat the process on each subset (branch)\n",
      "- stop if a minimum impurity or set size is reached\n",
      "\n",
      "A better way of doing this is to split like the above, into small terminal nodes (deliberate overfitting), then start merging terminal nodes back together again, based on cross-validated error (\"pruning\"). This is what CART does, and leads to better overall performance."
     ]
    },
    {
     "cell_type": "heading",
     "level": 1,
     "metadata": {},
     "source": [
      "Document Classification"
     ]
    },
    {
     "cell_type": "code",
     "collapsed": false,
     "input": [
      "from nltk.corpus import movie_reviews"
     ],
     "language": "python",
     "metadata": {},
     "outputs": [],
     "prompt_number": 137
    },
    {
     "cell_type": "code",
     "collapsed": false,
     "input": [
      "documents = [(list(movie_reviews.words(fileid)),category)\n",
      "                 for category in movie_reviews.categories()\n",
      "                     for fileid in movie_reviews.fileids(category)]"
     ],
     "language": "python",
     "metadata": {},
     "outputs": [],
     "prompt_number": 138
    },
    {
     "cell_type": "code",
     "collapsed": false,
     "input": [
      "pyrandom.shuffle(documents)"
     ],
     "language": "python",
     "metadata": {},
     "outputs": [],
     "prompt_number": 139
    },
    {
     "cell_type": "code",
     "collapsed": false,
     "input": [
      "all_words = nltk.FreqDist(w.lower() for w in movie_reviews.words())"
     ],
     "language": "python",
     "metadata": {},
     "outputs": [],
     "prompt_number": 140
    },
    {
     "cell_type": "code",
     "collapsed": false,
     "input": [
      "word_features = all_words.keys()[:2000]"
     ],
     "language": "python",
     "metadata": {},
     "outputs": [],
     "prompt_number": 141
    },
    {
     "cell_type": "code",
     "collapsed": false,
     "input": [
      "def document_features(document):\n",
      "    document_words = set(document)\n",
      "    features = {}\n",
      "    for w in word_features:\n",
      "        features[w] = (w in document_words)\n",
      "    return features"
     ],
     "language": "python",
     "metadata": {},
     "outputs": [],
     "prompt_number": 142
    },
    {
     "cell_type": "code",
     "collapsed": false,
     "input": [
      "print document_features(documents[0][0])"
     ],
     "language": "python",
     "metadata": {},
     "outputs": [
      {
       "output_type": "stream",
       "stream": "stdout",
       "text": [
        "{'limited': False, 'four': False, 'woods': False, 'woody': False, 'captain': False, 'hate': False, 'consider': False, 'relationships': False, 'whose': True, 'buddy': False, 'themes': False, 'presents': False, 'edward': False, 'under': False, 'lord': False, 'worth': False, 'rescue': False, 'every': True, 'jack': False, 'bringing': False, 'school': False, 'skills': False, 'ups': False, 'enjoy': False, 'force': False, 'tired': False, 'miller': False, 'direct': False, 'second': True, 'street': False, 'even': True, '+': False, 'above': False, 'new': False, 'poorly': False, 'ever': False, 'disney': False, 'told': False, 'hero': False, 'mel': False, 'human': False, 'men': False, 'here': False, 'studio': False, 'cult': False, '100': False, 'kids': True, 'daughter': False, 'leaves': False, 'changed': True, 'credit': False, 'military': False, 'changes': False, 'fantastic': False, 'julie': False, 'explained': False, 'julia': False, 'highly': False, 'brought': False, 'moral': False, 'actions': False, 'total': False, 'sarah': False, 'plot': True, 'would': True, 'army': False, 'hospital': False, 'music': False, 'therefore': False, 'recommend': False, 'strike': False, 'survive': False, 'type': False, 'until': False, 'speaking': False, 'successful': False, 'brings': False, 'wars': False, 'award': False, 'hurt': True, 'phone': False, 'adult': False, 'excellent': False, '90': False, 'hold': False, 'must': False, 'shoot': False, 'word': True, 'room': True, '1997': False, '1996': False, '1999': False, '1998': False, 'blade': False, 'movies': False, 'era': False, 'ms': False, 'mr': False, 'my': True, 'example': False, 'give': False, 'climax': False, 'laughs': False, 'want': False, 'times': True, 'end': False, 'thing': False, 'provide': False, 'travel': False, 'sitting': False, 'feature': False, 'machine': True, 'how': True, 'amazing': False, 'writers': False, 'answer': False, 'beach': False, 'badly': False, 'elizabeth': False, 'beauty': False, 'mess': False, 'after': True, 'wrong': True, 'president': False, 'law': False, 'danny': False, 'attempt': False, 'third': True, 'appreciate': False, 'lost': True, 'green': False, 'ultimate': False, 'keeps': False, 'worst': False, 'order': False, 'office': False, 'over': False, 'before': True, 'fit': True, 'personal': False, ',': True, 'writing': False, 'better': True, 'production': False, 'compelling': False, 'hidden': False, 'then': True, 'them': True, 'safe': False, 'break': False, 'band': False, 'effects': True, 'they': True, 'one': True, 'alex': False, 'rocky': False, 'debut': False, 'l': False, 'grows': False, 'each': False, 'went': False, 'side': False, 'mean': False, 'meets': False, 'series': True, 'truman': False, 'sounds': False, 'driving': False, 'god': False, 'cheesy': False, 'content': False, 're': True, 'got': False, 'turning': False, 'little': False, 'free': False, 'standard': False, 'masterpiece': False, 'struggle': False, 'wanted': False, 'created': False, 'starts': False, 'days': True, 'creates': False, 'isn': False, 'uses': False, 'onto': False, 'already': False, 'features': False, 'fantasy': False, 'another': True, 'wasn': False, 'comic': False, 'toy': False, 'top': False, 'girls': False, 'fiction': False, 'needed': False, 'master': False, 'too': False, 'tom': False, 'hollywood': True, 'john': True, 'carrey': False, 'urban': False, 'murder': False, 'serve': False, 'took': False, 'japanese': False, 'predictable': False, 'somewhat': False, 'helen': False, 'wasted': False, 'begins': False, 'trek': False, 'target': False, 'roles': False, 'likely': False, 'project': False, 'matter': True, 'silly': False, 'williams': False, 'feeling': False, 'powers': False, 'screenplay': False, 'fashion': False, 'sees': False, 'modern': False, 'mind': False, 'talking': False, 'manner': False, 'seen': True, 'seem': False, 'tells': False, 'ray': False, 'forced': False, 'strength': False, 'genuine': False, 'thoroughly': False, 'latter': False, 'responsible': True, '-': True, 'amusing': False, 'forces': False, 'blue': False, 'nobody': False, 'though': False, 'bruce': False, 'cinematic': False, 'involving': False, 'mouth': False, 'plenty': False, 'the': True, 'thriller': False, 'singer': False, 'don': True, 'cops': False, 'professor': False, 'camp': False, 'm': False, 'dog': False, 'definitely': False, 'entertaining': False, 'scream': False, 'came': False, 'saying': False, 'queen': False, 'ending': False, 'attempts': False, 'radio': False, 'subtle': False, 'enjoyed': False, 'situations': False, 'explain': False, 'theme': False, 'rich': False, 'folks': False, 'personality': False, 'do': False, 'godzilla': True, 'wide': False, 'de': True, 'stop': False, '13': False, 'christopher': False, 'despite': False, 'nasty': False, 'dr': False, 'hall': False, 'runs': False, 'bar': False, 'nicely': False, 'guns': True, 'twice': False, 'bad': False, 'shots': False, 'release': True, 'headed': False, 'decides': False, 'disaster': False, 'fair': False, 'decided': False, 'result': False, 'fail': False, 'disturbing': False, 'best': False, 'subject': False, 'said': False, 'lots': False, 'away': False, 'portrayed': False, 'r': False, 'discovers': False, 'drawn': False, 'approach': False, 'we': True, 'never': True, 'terms': False, 'nature': False, 'weak': False, 'however': False, 'boss': False, 'news': True, 'cop': False, 'accident': False, 'country': False, 'ill': False, 'against': False, 'players': False, 'faces': False, 'asked': False, 'tough': False, 'character': True, 'tony': False, 'trust': False, 'speak': False, 'puts': False, 'three': False, 'been': True, '.': True, 'much': True, 'interest': False, 'basic': False, 'expected': False, 'board': False, 'life': False, 'easy': False, 'drugs': False, 'filmmaker': False, 'substance': False, 'child': False, 'catch': False, 'worked': False, 'exception': False, 'has': True, 'air': True, 'ugly': False, 'near': False, 'suppose': False, 'voice': True, 'spawn': False, 'seven': False, 'played': False, 'is': True, 'it': True, 'ii': False, 'shame': False, 'creepy': False, 'in': True, 'if': True, 'hong': False, 'things': True, 'make': True, 'jerry': False, 'complex': False, 'several': True, 'showing': False, 'fairly': False, 'pick': False, 'evil': True, 'hand': False, 'characters': False, 'opportunity': False, 'kid': True, 'kept': False, 'lucas': False, 'charlie': False, 'contact': False, 'greatest': True, 'mother': True, 'jean': False, 'musical': False, 'left': False, 'just': False, 'aside': False, 'thanks': False, 'victim': False, 'campbell': False, 'yes': False, 'yet': False, 'previous': False, 'terrific': False, 'thankfully': False, 'instance': False, 'had': False, 'animation': False, 'ok': False, 'innocent': False, 'prison': False, 'save': False, 'humanity': False, 'gave': False, 'casting': False, 'breaks': False, 'possible': False, 'possibly': False, 'tarzan': False, 'background': False, 'destroy': False, 'unique': False, 'dreams': False, 'apart': False, 'desire': True, 'hunt': False, 'officer': False, 'night': False, 'security': False, 'right': True, 'old': True, 'deal': False, 'people': True, 'somehow': True, 'dead': False, 'jennifer': False, 'born': False, 'escape': False, 'confusing': False, 'humor': True, 'for': True, 'bottom': False, 'opposite': False, 'fox': False, '/': False, 'creative': False, 'witty': True, 'everything': False, 'shakespeare': False, 'christmas': False, 'core': False, 'protagonist': False, 'starring': False, 'memorable': False, 'post': False, 'super': True, 'dollars': False, 'months': False, 'o': False, 'plus': False, 'slightly': False, 'presence': True, 'son': False, 'down': False, 'lies': False, 'crowd': False, 'support': False, 'constantly': False, 'fight': False, 'stuck': False, 'anderson': False, 'way': True, 'jane': False, 'call': False, 'was': True, 'war': False, 'happy': False, 'head': False, 'form': False, 'offer': False, 'batman': False, 'becoming': False, 'ford': False, 'taken': False, 'talents': False, 'hear': False, 'true': False, 'inside': True, 'tell': False, 'crystal': False, 'emotional': False, 'moore': False, 'classic': False, 'nudity': False, 'proves': False, 'exist': False, 'believable': False, 'ship': False, 'annoying': False, 'trip': False, 'physical': False, 'dying': False, 'no': True, 'when': True, 'actor': False, 'reality': False, 'tim': False, 'interested': False, 'role': False, 'oscar': False, 'test': False, 'picture': False, 'brothers': True, 'dies': False, 'felt': False, 'convincing': False, 'journey': False, 'died': False, 'jones': False, 'younger': False, 'longer': False, 'together': False, 'time': True, 'serious': False, 'paced': False, 'songs': False, 'concept': False, 'managed': False, 'vampires': False, 'remarkable': False, 'impression': False, 'dance': False, 'rob': False, 'focus': False, 'leads': True, 'theaters': False, 'manages': True, 'ice': False, 'battle': False, 'certainly': False, 'father': True, 'finally': False, 'me': False, 'keeping': False, 'seemingly': False, 'choice': True, 'vegas': False, 'lynch': False, 'join': False, 'trouble': False, 'minute': False, 'cool': False, 'slapstick': False, 'impressive': False, 'presented': False, 'did': False, 'turns': False, 'brother': False, 'leave': False, 'team': False, 'quick': False, 'guy': False, 'work': True, 'says': False, 'porn': False, 'dealing': False, 'discover': False, 'sign': False, 'adds': False, 'appear': True, 'current': False, 'suspect': False, 'goes': True, 'falling': False, 'appeal': True, 'filled': False, 'supporting': False, 'henry': False, 'french': False, 'travolta': False, 'water': False, 'witch': False, 'alone': True, 'along': False, 'appears': False, 'change': False, 'wait': False, 'box': False, 'boy': False, 'brilliant': False, 'guilty': False, 'usually': False, 'bob': False, 'myers': False, 'teenage': False, 'love': False, 'humour': False, 'extra': False, 'merely': False, 'bloody': False, 'fake': False, 'fbi': False, 'rarely': False, 'sympathetic': False, 'russell': False, 'working': False, 'prove': False, 'angry': False, 'dude': False, 'intense': False, 'live': False, 'wonderfully': False, 'wondering': False, 'films': True, 'angels': False, 'today': False, 'loving': False, 'club': False, 'apparent': True, 'visual': False, 'effort': True, 'fly': False, 'graphic': False, 'car': False, 'originally': False, 'soul': False, 'believes': False, 'reviews': False, 'can': True, 'following': False, 'making': False, 'heart': False, 'crazy': False, 'figure': False, 'confused': False, 'agent': True, 'heard': False, 'critic': False, 'sharp': False, 'dennis': False, 'steve': False, 'means': False, '1': False, 'pure': False, 'spielberg': False, 'information': False, 'may': True, 'max': False, 'mad': False, 'date': True, 'such': False, 'heroes': False, 'guys': False, 'man': True, 'natural': False, 'remember': True, 'maybe': False, 'tale': False, 'so': False, 'talk': False, 'typical': False, 'cute': False, 'breaking': False, 'indeed': False, 'years': True, 'course': False, 'cold': False, 'still': False, 'apes': False, 'group': True, 'interesting': False, 'jim': False, 'hot': True, 'window': False, 'offers': False, 'hanks': False, 'main': False, 'into': False, 'happened': False, 'non': False, 'killer': False, 'touching': False, 'half': False, 'not': True, 'now': True, 'killed': False, 'nor': False, 'name': True, 'james': False, 'didn': True, 'realistic': False, 'rock': False, 'entirely': False, 'creature': False, 'ed': False, 'directing': False, 'yeah': False, 'ex': False, 'year': False, 'girl': False, 'surprise': False, 'intended': False, 'living': True, 'ultimately': False, 'jackson': False, 'enjoyable': False, 'space': True, 'looking': False, 'seriously': False, 'formula': False, 'shows': False, 'earlier': False, 'monster': False, 'million': False, 'brooks': False, 'quite': False, 'inevitable': False, 'care': True, 'couldn': False, 'language': False, 'british': True, 'honest': False, 'motion': False, 'turn': False, 'place': False, 'think': False, 'first': True, 'emotion': False, 'flying': True, 'saving': False, 'yourself': False, 'long': True, 'directly': False, 'carry': False, 'impossible': True, 'message': False, 'open': False, 'george': False, 'city': False, 'given': False, 'silent': False, 'caught': False, 'anyone': True, 'returns': False, '2': False, 'white': False, 'friend': False, 'gives': False, 'subplot': False, 'slasher': False, 'eyes': False, 'mostly': True, 'that': True, 'season': False, 'alan': False, 'viewing': True, 'released': False, 'ridiculous': False, 'than': True, 'boyfriend': False, '10': False, 'television': True, 'bored': False, 'unfortunately': False, 'rival': False, 'future': False, 'were': True, 'and': True, 'sam': False, 'turned': False, 'sad': False, 'say': False, 'suspense': False, 'rent': False, 'allen': False, 'saw': False, 'any': True, 'kevin': False, 'ideas': False, 'note': False, 'potential': False, 'take': False, 'performance': False, 'begin': True, 'sure': False, 'pain': False, 'normal': False, 'track': False, 'price': True, 'knew': False, 'suspects': False, 'falls': False, 'pair': True, 'america': False, ']': False, 'forever': False, 'especially': True, 'surprising': False, 'failure': False, 'considered': False, 'average': False, 'later': False, 'drive': False, 'mrs': False, 'professional': False, 'detective': False, 'rating': False, 'walking': False, 'shot': False, 'show': False, 'cheap': False, 'bright': False, 'ground': False, 'slow': False, 'title': False, 'written': False, 'crime': False, 'only': False, 'going': False, 'black': False, 'get': True, 'routine': False, 'truly': False, 'cannot': False, 'nearly': False, 'flicks': False, 'reveal': False, 'artist': False, 'naked': False, 'jokes': False, 'stupid': False, 'roger': False, 'scott': False, 'where': True, 'husband': False, 'seat': False, 'gangster': False, 'college': False, 'sean': True, 'wonder': False, 'fails': False, 'gags': False, 'ways': False, 'review': False, '3': False, 'between': True, 'reading': False, 'across': True, 'notice': False, 'screen': True, 'jr': False, 'killing': False, 'blame': False, 'come': True, 'talented': False, 'mob': False, 'many': False, 'quiet': False, 'somewhere': False, 's': True, 'remake': True, 'comes': True, 'among': True, 'characterization': False, 'color': False, 'effective': False, 'period': False, 'pop': False, 'expectations': False, 'anti': False, 'bizarre': False, 'crew': False, 'boat': False, 'considering': False, 'arts': False, 'cares': False, 'west': False, 'filmmakers': False, 'mark': False, 'mars': False, 'featuring': False, 'hardly': False, 'mary': False, 'wants': False, 'direction': False, 'dramatic': False, 'former': False, 'those': True, 'case': False, 'myself': False, 'these': True, 'cash': False, 'arnold': False, 'cast': False, 'situation': False, 'eventually': False, 'twists': False, 'middle': False, 'someone': False, 'technology': False, 'mediocre': False, 'different': False, 'doctor': False, 'pay': False, 'same': False, 'check': True, 'speech': False, 'damon': False, 'events': False, 'week': False, 'visually': False, 'driver': False, 'director': True, 'running': True, 'driven': False, 'totally': False, 'cartoon': False, 'theater': False, 'floor': False, 'without': True, 'relief': False, 'model': False, 'parody': False, 'summer': True, 'being': False, 'money': False, 'actress': False, 'violent': False, 'kill': False, 'aspect': False, 'touch': False, 'baldwin': False, 'death': False, 'thinking': False, 'rose': False, 'seems': True, 'except': False, 'setting': False, '4': False, 'real': False, 'aspects': False, 'around': True, 'spectacular': False, 'read': False, 'early': True, 'world': True, 'lady': False, 'adams': False, 'patrick': True, 'audience': True, 'laughing': False, 'fully': False, 'eddie': False, 'images': False, 'joan': False, 'thinks': False, 'provided': False, 'mood': True, 'willis': False, 'overly': False, 'provides': False, 'welcome': False, 'business': False, 'seconds': False, 'credits': False, 'starship': False, 'exciting': False, 'throw': False, 'on': True, 'stone': False, 'central': False, 'oh': False, 'island': False, 'industry': False, 'violence': False, 'favorite': False, 'generated': False, 'stand': False, 'act': False, 'bond': False, 'or': True, 'road': False, 'image': False, 'rising': False, 'gary': False, 'burton': False, 'portrayal': False, 'happening': False, 'your': False, 'her': True, 'aren': False, 'there': True, 'hey': False, 'start': False, 'low': False, 'stars': False, 'complete': False, 'enough': True, 'seagal': False, 'ended': False, 'gore': False, 'trying': False, 'with': True, 'spice': False, 'football': False, 'pull': False, 'rush': False, 'romantic': False, 'pulp': False, 'gone': False, 'taylor': False, 'johnny': False, 'cinema': False, 'taste': False, 'certain': False, 'am': False, 'al': False, 'deep': False, 'fellow': False, 'imagination': False, 'as': True, 'at': True, 'girlfriend': False, 'watched': False, 'moves': False, 'spends': False, 'film': True, 'again': False, 'comedies': False, 'cinematography': False, '5': False, 'you': True, 'poor': False, 'flaws': False, 'finale': False, 'carpenter': False, 'includes': False, 'important': False, 'chris': False, 'building': False, 'calls': False, 'wife': False, 'directors': True, 'u': False, 'original': True, 'all': True, 'sci': False, 'forget': False, 'chinese': False, 'lack': False, 'cameron': False, 'follow': True, 'children': True, 'apartment': False, 'hunting': False, 'tv': False, 'spirit': False, 'to': True, 'smile': False, 'sound': False, 'woman': True, 'worse': False, 'song': False, 'very': False, 'horror': False, 'fat': False, 'fan': False, 'decide': False, 'fall': False, 'awful': False, 'difference': False, '`': False, 'heaven': False, '--': False, 'list': True, 'large': False, 'harry': False, 'small': False, 'flick': False, 'ten': False, 'streets': False, 'ted': False, 'past': False, 'rate': True, 'design': False, 'lawyer': False, 'pass': False, 'further': False, 'what': False, 'sub': False, 'richard': False, 'brief': False, 'emotions': False, 'jedi': False, 'version': False, 'public': False, 'hasn': False, 'full': False, 'supposedly': False, 'revenge': False, 'hours': False, 'shouldn': True, 'strong': False, 'legend': False, 'search': False, 'ahead': False, 'inspired': False, 'allows': False, 'jackie': False, 'experience': False, 'amount': False, 'social': False, 'action': True, 'followed': False, 'family': False, 'suddenly': False, 'put': True, 'eye': False, 'takes': False, 'contains': False, 'two': True, '6': False, 'mysterious': False, 'minor': False, 'more': True, 'teen': False, 'flat': False, 'door': False, 'knows': False, 'company': False, 'excuse': False, 'basically': False, 'particular': False, 'known': False, 'town': True, 'none': True, 'hour': False, 'science': False, 'learn': False, 'male': False, 'history': False, 'beautiful': False, 'brown': False, 'share': False, 'accept': False, 'states': False, 'sense': True, 'station': False, 'lacks': False, 'species': False, '!': False, 'huge': True, 'needs': False, 'court': False, 'goal': False, 'rather': True, 'plans': False, 'acts': False, 'fame': False, 'occasionally': False, 'either': True, 'okay': False, 'tried': False, 'soundtrack': False, 'tries': False, 'plane': False, 'blood': False, 'coming': False, 'fi': False, 'a': True, 'contrived': False, 'short': False, 'loud': False, 'perhaps': False, 'media': False, 'pleasure': False, 'dream': False, 'playing': False, 'help': True, 'developed': False, 'soon': False, 'attitude': False, 'scientist': False, 'through': False, 'hell': False, 'its': False, 'romance': False, 'style': False, 'comedic': False, '20': False, 'actually': False, 'late': True, 'parts': True, 'stephen': False, 'damme': False, 'might': True, 'wouldn': False, 'good': True, 'return': False, 'food': False, 'viewers': False, 'mystery': False, 'easily': False, 'always': False, 'level': False, 'goofy': True, 'die': False, 'found': False, 'trailer': False, 'heavy': True, 'everyone': False, 'generation': False, 'house': True, 'energy': False, 'hard': False, 'idea': True, 'gun': False, 'engaging': False, 'expect': False, 'beyond': False, 'event': False, 'really': False, 'deals': False, 'robert': False, 'since': True, 'douglas': False, 'acting': False, 'hill': False, '7': False, 'ass': False, 'pathetic': False, 'story': False, 'reason': True, 'rated': False, 'members': False, 'imagine': False, 'ask': False, 'horse': False, 'laughable': False, 'beginning': False, 'thrown': False, 'producers': False, 'terrible': False, 'american': True, 'expecting': False, 'twenty': True, 'major': True, 'feel': False, 'number': False, 'feet': False, 'done': False, 'bland': False, 'miss': False, 'guess': True, '\"': True, 'heads': False, 'script': False, 'leading': False, 'least': True, 'player': False, 'wonderful': False, 'store': False, 'relationship': False, 'behind': False, 'hotel': False, 'park': False, 'part': True, 'believe': False, 'grace': False, 'king': False, 'kind': False, 'b': False, 'double': False, 'determined': False, 'marriage': False, 'supposed': False, 'toward': False, 'outstanding': False, 'nights': False, 'built': False, 'zero': False, 'self': False, 'also': False, 'superior': False, 'finding': False, 'play': False, 'towards': False, 'english': False, 'reach': False, 'most': True, 'virus': False, 'charm': False, 'plan': False, 'nothing': True, 'extremely': False, 'screenwriter': False, 'stands': False, 'performances': False, 'clear': False, 'sometimes': False, 'cover': False, 'storyline': True, 'latest': False, 'thomas': False, 'particularly': False, 'gold': False, 'fine': False, 'find': True, 'impact': False, 'giant': True, 'writer': False, 'failed': False, 'wayne': False, 'pretty': False, '8': False, 'his': True, 'hit': False, 'meanwhile': False, 'famous': False, 'feels': True, 'rest': False, 'during': False, 'frightening': False, 'him': False, 'generally': False, 'common': False, 'x': False, 'vincent': False, 'wrote': False, 'set': False, 'art': False, 'intelligence': False, 'scenes': True, 'culture': False, 'see': False, 'individual': False, 'dumb': False, 'are': True, 'close': False, 'learns': False, 'pictures': False, 'please': False, 'fans': False, 'won': False, 'various': False, 'probably': True, 'numerous': False, 'available': False, 'recently': False, 'creating': False, 'missing': True, 'attention': False, 'premise': False, 'genre': False, 'both': False, 'c': False, 'last': True, 'barely': False, 'became': False, 'annie': False, 'forgotten': False, 'whole': True, 'finds': False, 'liked': False, 'point': True, 'simple': False, 'sweet': False, 'acted': False, 'whatever': False, 'hollow': False, 'dimensional': False, 'simply': False, 'likes': False, 'throughout': False, 'mission': True, '[': False, 'devil': False, 'humorous': True, 'create': False, 'political': False, 'due': False, 'teacher': False, 'whom': False, 'secret': True, 'damn': False, 'pg': False, 'meeting': False, 'dialogue': False, 'gay': False, 'fire': False, 'else': False, 'anthony': False, 'lives': True, 'wedding': False, 'intriguing': False, 'look': False, 'solid': False, 'straight': False, 'bill': False, 'budget': False, 'pace': False, 'while': False, 'match': False, 'fun': True, 'animated': False, 'robin': False, 'hoping': False, 'century': False, 'disappointing': False, 'itself': False, 'ready': False, 'chase': False, 'funny': False, 'kills': False, 'grant': False, 'rules': True, 'virtually': False, 'grand': False, '9': False, 'conflict': False, 'development': False, 'used': False, 'blair': False, 'moment': False, '000': False, 'moving': False, 'purpose': False, 'haunting': False, 'weird': False, 'recent': False, 'dark': False, 'task': False, 'older': False, 'spent': False, 'obviously': False, 'person': False, 'edge': False, 'kelly': False, 'chemistry': True, 'spend': False, 'questions': False, 'using': False, 'cut': True, '$': False, 'surprises': False, 'parents': False, 'surprised': False, 'build': False, 'big': True, 'couple': True, 'matters': False, 'game': False, 'bit': False, 'd': True, 'follows': False, 'continue': False, 'popular': False, 'often': False, 'absolutely': False, 'some': True, 'back': False, 'martial': False, 'added': False, 'sight': False, 'scale': False, 'decision': False, 'anne': False, 'epic': False, 't': True, 'be': True, 'run': True, 'lose': False, 'costumes': False, 'feelings': False, 'step': False, 'nowhere': True, 'crap': False, 'by': True, 'faith': False, 'anything': True, 'drama': False, 'deserves': False, 'stuart': False, 'seeing': False, 'jimmy': False, 'aliens': False, 'within': False, 'appropriate': False, 'steven': False, 'question': False, 'fast': False, 'doubt': True, 'forward': False, ':': False, 'opens': False, 'files': False, 'himself': False, 'an': True, 'murphy': False, 'boys': False, 'larry': False, 'hopes': False, 'episode': True, 'line': False, 'dull': False, 'directed': False, 'up': True, 'us': False, 'planet': False, 'similar': False, 'called': True, 'constant': False, 'adults': False, 'chan': False, 'doesn': True, 'single': False, 'phantom': False, 'nick': False, 'points': False, 'actors': True, 'nice': False, 'elements': False, 'problems': False, 'liners': False, 'william': False, 'meaning': False, 'utterly': False, 'ago': False, 'land': False, 'e': False, 'dvd': False, 'age': False, 'depth': False, 'narrative': False, 'far': False, 'fresh': False, 'menace': False, 'having': False, 'once': False, 'jason': False, 'results': False, 'alien': False, 'gang': False, 'go': False, 'kate': False, 'issues': False, 'seemed': False, 'simon': False, 'young': False, 'send': False, 'helps': False, 'include': False, 'sent': False, 'outside': True, 'continues': False, 'telling': False, 'entire': False, 'magic': False, 'shock': False, 'michael': False, 'ryan': False, 'try': False, 'race': False, 'carter': False, 'visuals': False, 'video': False, 'earth': False, 'odd': False, 'clich': False, 'plays': False, 'power': False, 'giving': False, 'vampire': False, 'waiting': False, ';': False, 'body': False, 'led': False, 'lee': False, 'growing': False, 'let': False, 'others': False, 'sexy': False, 'extreme': False, 'great': False, 'talent': False, 'broken': True, 'technical': False, 'involved': False, '30': False, 'titanic': False, 'leaving': False, 'opinion': False, 'makes': True, 'involves': False, 'named': True, 'win': False, 'manage': False, 'private': False, 'wit': False, 'names': False, 'singing': False, 'standing': False, 'use': False, 'from': True, '&': False, 'remains': False, 'next': False, 'few': True, 'camera': True, 'themselves': False, 'sort': False, 'clever': True, 'babe': False, 'comparison': False, 'started': False, 'becomes': True, 'about': True, 'charming': False, 'train': False, 'baby': False, 'rare': False, 'women': False, 'animals': False, 'f': False, 'this': True, 'ride': False, 'hopkins': False, 'obvious': False, 'thin': False, 'of': True, 'meet': False, 'control': False, 'tarantino': False, 'process': False, 'pieces': False, 'high': True, 'villain': False, 'something': True, 'united': False, 'mulan': False, 'sit': False, 'cliches': False, 'six': False, 'brian': False, 'animal': False, 'instead': False, 'comedy': False, 'intelligent': False, 'stock': False, 'fare': False, 'tension': True, 'watch': True, 'realized': False, 'light': False, 'lame': False, 'lines': True, 'element': False, 'claire': False, 'realizes': False, 'allow': False, 'holds': True, 'producer': False, 'move': True, 'produced': False, 'including': False, 'looks': True, 'cruise': False, 'mentioned': False, 'bunch': False, 'perfect': False, 'write': False, 'affleck': False, 'la': False, 'chosen': False, 'll': True, 'winning': True, 'willing': False, 'criminal': False, 'dad': False, 'freeman': False, 'crash': False, 'catherine': False, 'material': False, 'mention': False, 'snake': False, 'kiss': False, 'hands': False, 'front': False, 'cage': False, 'day': True, 'billy': False, 'truth': False, 'doing': False, 'adventure': False, 'product': True, 'society': False, 'books': False, 'filmmaking': False, 'our': False, 'patch': False, 'sexual': True, 'special': False, 'out': True, 'matt': False, 'matrix': False, \"'\": True, 'entertainment': False, 'shallow': False, 'critics': True, 'hilarious': False, 'cause': False, 'red': False, 'frank': False, 'completely': False, 'york': False, 'flynt': False, 'princess': False, 'scary': False, 'g': False, 'could': False, 'david': False, 'length': False, 'austin': False, 'south': False, 'succeeds': False, 'powerful': False, 'scene': True, 'owner': False, 'quality': False, 'sadly': False, 'fascinating': False, 'accent': False, 'system': False, 'their': True, 'attack': False, 'perfectly': False, 'final': False, 'lot': True, 'academy': False, 'exactly': True, 'sex': False, 'herself': False, 'haven': True, 'loved': False, 'ben': False, 'boring': False, 'tommy': False, 'roberts': False, 'appealing': False, 'loves': False, 'lover': False, 'viewer': False, 'teenagers': False, 'williamson': False, 'have': True, 'need': False, 'apparently': False, 'clearly': False, 'able': True, 'mix': False, 'which': True, 'jail': False, '=': False, 'unless': False, 'who': True, 'eight': False, 'device': False, 'why': True, 'face': False, 'looked': False, 'movie': True, 'fact': False, 'affair': False, 'atmosphere': False, 'charles': False, 'anyway': False, 'bring': False, 'soldiers': False, 'fear': False, 'decade': False, 'filmed': False, 'based': False, 'jay': False, '(': True, 'winner': False, 'woo': False, 'should': True, 'score': False, 'local': False, 'hope': False, 'meant': False, 'watching': True, 'beat': False, 'familiar': False, 'overall': False, 'lucky': False, 'community': False, 'ones': False, 'words': False, 'kong': False, 'brain': False, 'married': False, 'stuff': False, 'she': True, 'dangerous': False, 'gibson': False, 'view': False, 'frame': False, 'humans': False, 'computer': False, 'desperate': False, 'nuclear': False, 'superb': False, 'genius': True, 'state': False, 'horrible': False, 'neither': False, 'speed': False, 'ends': False, 'ability': False, 'opening': False, 'deliver': False, 'job': False, 'joe': False, 'key': False, 'police': False, 'hits': False, 'career': False, 'joke': False, 'taking': False, 'drug': False, 'etc': False, 'admit': False, 'figures': False, 'otherwise': False, 'co': False, 'wall': False, 'walk': False, 'laugh': False, 'sequences': False, 'respect': False, 'addition': False, 'decent': False, 'slowly': False, 'treat': False, 'waste': True, 'troopers': False, 'mike': False, 'general': False, 'reeves': False, 'present': False, 'novel': False, 'unlike': False, 'plain': False, 'appearance': True, 'will': False, 'stunning': False, 'fault': False, 'wild': False, 'likable': False, 've': False, 'almost': True, 'thus': False, 'surprisingly': False, 'surface': False, 'audiences': False, 'partner': True, ')': True, 'began': True, 'cross': False, 'member': False, 'matthew': False, 'strange': False, 'party': False, 'gets': True, 'difficult': True, 'emotionally': False, 'eccentric': False, 'upon': False, 'effect': False, 'beast': False, 'cinematographer': False, 'student': False, 'identity': False, 'keep': False, 'off': True, 'center': False, 'i': True, 'well': True, 'fighting': False, 'thought': False, 'sheer': False, 'sets': False, 'position': False, 'usual': False, 'cameo': False, 'less': True, 'moments': False, 'tone': False, 'paul': False, 'field': False, 'jeff': False, 'smith': False, 'realize': False, 'reasons': False, 'add': True, 'other': True, 'attractive': False, 'smart': False, 'fate': False, 'government': False, 'five': True, 'know': True, 'press': False, 'immediately': False, 'necessary': False, 'like': True, 'success': False, 'loses': False, 'martin': False, 'become': False, 'funniest': False, 'works': False, 'adaptation': False, 'because': False, 'sequence': False, 'footage': True, 'alive': False, 'hair': False, 'home': True, 'peter': False, 'happens': False, 'unfunny': False, 'lead': False, 'literally': False, 'avoid': False, 'does': True, 'leader': False, '?': False, 'although': False, 'worthy': False, 'amy': False, 'stage': False, 'sister': False, 'actual': False, 'asks': False, 'getting': False, 'introduced': False, 'documentary': False, 'equally': False, 'own': False, 'satire': False, 'washington': False, 'guard': False, 'promise': False, 'female': False, 'quickly': False, 'pointless': False, 'van': False, '*': False, 'biggest': False, 'buy': False, 'bus': False, 'sequel': False, 'but': True, 'delivers': False, 'editing': False, 'bug': False, 'he': True, 'count': False, 'made': True, 'wise': False, 'places': False, 'whether': False, 'wish': False, 'j': False, 'placed': False, 'stories': False, 'problem': False, 'piece': False, 'minutes': False, 'twist': False, 'shooting': False, 'happen': True, 'compared': False, 'incredible': False, 'offensive': False, 'detail': False, 'book': False, 'details': False, 'sick': False, 'incredibly': False, 'conclusion': False, 'star': False, 'class': False, 'shown': False, 'stay': False, 'chance': False, 'sandler': False, 'friends': False, 'ghost': False, 'understand': False}\n"
       ]
      }
     ],
     "prompt_number": 143
    },
    {
     "cell_type": "code",
     "collapsed": false,
     "input": [
      "featuresets = [(document_features(d),c) for d,c in documents]\n",
      "training_set = featuresets[:100]\n",
      "test_set = featuresets[100:]"
     ],
     "language": "python",
     "metadata": {},
     "outputs": [],
     "prompt_number": 144
    },
    {
     "cell_type": "code",
     "collapsed": false,
     "input": [
      "classifier = nltk.NaiveBayesClassifier.train(training_set)"
     ],
     "language": "python",
     "metadata": {},
     "outputs": [],
     "prompt_number": 145
    },
    {
     "cell_type": "code",
     "collapsed": false,
     "input": [
      "nltk.classify.accuracy(classifier,test_set)"
     ],
     "language": "python",
     "metadata": {},
     "outputs": [
      {
       "output_type": "pyout",
       "prompt_number": 146,
       "text": [
        "0.7268421052631578"
       ]
      }
     ],
     "prompt_number": 146
    },
    {
     "cell_type": "code",
     "collapsed": false,
     "input": [
      "classifier.show_most_informative_features(5)"
     ],
     "language": "python",
     "metadata": {},
     "outputs": [
      {
       "output_type": "stream",
       "stream": "stdout",
       "text": [
        "Most Informative Features\n",
        "              throughout = True              pos : neg    =      9.0 : 1.0"
       ]
      },
      {
       "output_type": "stream",
       "stream": "stdout",
       "text": [
        "\n",
        "                      tv = True              neg : pos    =      8.3 : 1.0\n",
        "                   works = True              pos : neg    =      6.3 : 1.0\n",
        "                     tom = True              pos : neg    =      6.1 : 1.0\n",
        "                  nicely = True              pos : neg    =      6.1 : 1.0\n"
       ]
      }
     ],
     "prompt_number": 147
    },
    {
     "cell_type": "heading",
     "level": 1,
     "metadata": {},
     "source": [
      "Parts of Speech Tagging"
     ]
    },
    {
     "cell_type": "code",
     "collapsed": false,
     "input": [
      "from nltk.corpus import brown"
     ],
     "language": "python",
     "metadata": {},
     "outputs": [],
     "prompt_number": 148
    },
    {
     "cell_type": "code",
     "collapsed": false,
     "input": [
      "suffixes = nltk.FreqDist()\n",
      "for word in brown.words():\n",
      "    word = word.lower()\n",
      "    suffixes.inc(word[-1:])\n",
      "    suffixes.inc(word[-2:])\n",
      "    suffixes.inc(word[-3:])"
     ],
     "language": "python",
     "metadata": {},
     "outputs": [],
     "prompt_number": 149
    },
    {
     "cell_type": "code",
     "collapsed": false,
     "input": [
      "common = suffixes.keys()[:100]\n",
      "print common"
     ],
     "language": "python",
     "metadata": {},
     "outputs": [
      {
       "output_type": "stream",
       "stream": "stdout",
       "text": [
        "['e', ',', '.', 's', 'd', 't', 'he', 'n', 'a', 'of', 'the', 'y', 'r', 'to', 'in', 'f', 'o', 'ed', 'nd', 'is', 'on', 'l', 'g', 'and', 'ng', 'er', 'as', 'ing', 'h', 'at', 'es', 'or', 're', 'it', '``', 'an', \"''\", 'm', ';', 'i', 'ly', 'ion', 'en', 'al', '?', 'nt', 'be', 'hat', 'st', 'his', 'th', 'll', 'le', 'ce', 'by', 'ts', 'me', 've', \"'\", 'se', 'ut', 'was', 'for', 'ent', 'ch', 'k', 'w', 'ld', '`', 'rs', 'ted', 'ere', 'her', 'ne', 'ns', 'ith', 'ad', 'ry', ')', '(', 'te', '--', 'ay', 'ty', 'ot', 'p', 'nce', \"'s\", 'ter', 'om', 'ss', ':', 'we', 'are', 'c', 'ers', 'uld', 'had', 'so', 'ey']\n"
       ]
      }
     ],
     "prompt_number": 150
    },
    {
     "cell_type": "code",
     "collapsed": false,
     "input": [
      "def pos_features(w):\n",
      "    features = {}\n",
      "    for s in common:\n",
      "        features[s] = w.lower().endswith(s)\n",
      "    return features"
     ],
     "language": "python",
     "metadata": {},
     "outputs": [
      {
       "ename": "SyntaxError",
       "evalue": "invalid syntax (<ipython-input-151-244398874352>, line 4)",
       "output_type": "pyerr",
       "traceback": [
        "\u001b[0;36m  File \u001b[0;32m\"<ipython-input-151-244398874352>\"\u001b[0;36m, line \u001b[0;32m4\u001b[0m\n\u001b[0;31m    features[s] = w.lower().endswith(s)from nltk.corpus import brown\u001b[0m\n\u001b[0m                                          ^\u001b[0m\n\u001b[0;31mSyntaxError\u001b[0m\u001b[0;31m:\u001b[0m invalid syntax\n"
       ]
      }
     ],
     "prompt_number": 151
    },
    {
     "cell_type": "code",
     "collapsed": false,
     "input": [
      "tagged_words = brown.tagged_words(categories='news')"
     ],
     "language": "python",
     "metadata": {},
     "outputs": []
    },
    {
     "cell_type": "code",
     "collapsed": false,
     "input": [
      "featuresets = [(pos_features(w),c) for w,c in tagged_words]\n",
      "n = len(featuresets)\n",
      "print n"
     ],
     "language": "python",
     "metadata": {},
     "outputs": []
    },
    {
     "cell_type": "code",
     "collapsed": false,
     "input": [
      "training_set = featuresets[n//10:]\n",
      "test_set = featuresets[:n//10]"
     ],
     "language": "python",
     "metadata": {},
     "outputs": []
    },
    {
     "cell_type": "code",
     "collapsed": false,
     "input": [
      "classifier = nltk.DecisionTreeClassifier.train(training_set)"
     ],
     "language": "python",
     "metadata": {},
     "outputs": []
    },
    {
     "cell_type": "code",
     "collapsed": false,
     "input": [
      "nltk.classify.accuracy(classifier,test_set)"
     ],
     "language": "python",
     "metadata": {},
     "outputs": []
    },
    {
     "cell_type": "code",
     "collapsed": false,
     "input": [
      "classifier.classify(pos_features('cats'))"
     ],
     "language": "python",
     "metadata": {},
     "outputs": []
    },
    {
     "cell_type": "code",
     "collapsed": false,
     "input": [
      "print classifier.pseudocode(depth=4)"
     ],
     "language": "python",
     "metadata": {},
     "outputs": []
    },
    {
     "cell_type": "code",
     "collapsed": false,
     "input": [],
     "language": "python",
     "metadata": {},
     "outputs": []
    }
   ],
   "metadata": {}
  }
 ]
}