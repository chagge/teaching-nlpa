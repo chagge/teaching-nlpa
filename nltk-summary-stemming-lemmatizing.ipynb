{
 "metadata": {
  "name": "nltk-summary-stemming-lemmatizing"
 },
 "nbformat": 3,
 "nbformat_minor": 0,
 "worksheets": [
  {
   "cells": [
    {
     "cell_type": "code",
     "collapsed": false,
     "input": [
      "from nltk.stem import SnowballStemmer,PorterStemmer,WordNetLemmatizer"
     ],
     "language": "python",
     "metadata": {},
     "outputs": [],
     "prompt_number": 39
    },
    {
     "cell_type": "heading",
     "level": 1,
     "metadata": {},
     "source": [
      "Grammar"
     ]
    },
    {
     "cell_type": "markdown",
     "metadata": {},
     "source": [
      "Recall:\n",
      "\n",
      "- inflection - systematic alteration of words according to grammatical rules\n",
      "- declension - nouns, adjectives, articles, pronouns - number, gender, case\n",
      "- conjugation - verbs - person, number, tense, gender, aspect, mood, voice\n",
      "\n",
      "Some of the terms:\n",
      "\n",
      "- person, number tense, gender... pretty obvious\n",
      "- voice - relationship between verb and its arguments (subject, object, ...)\n",
      "- aspect - ongoing, completed, habitual, consequential, ...\n",
      "- mood - actual, hypothetical, counterfactual, wished for, conditional, command, question, ..."
     ]
    },
    {
     "cell_type": "heading",
     "level": 1,
     "metadata": {},
     "source": [
      "Porter Stemmer on English"
     ]
    },
    {
     "cell_type": "code",
     "collapsed": false,
     "input": [
      "en_nouns = \\\n",
      "[\n",
      "    \"house houses house's\",\n",
      "    \"child children\",\n",
      "]\n",
      "en_verbs = \\\n",
      "[\n",
      "    \"walk walked walking walks\",\n",
      "    \"see saw sees seen seeing\",\n",
      "]\n",
      "en_cases = en_nouns + en_verbs"
     ],
     "language": "python",
     "metadata": {},
     "outputs": [],
     "prompt_number": 43
    },
    {
     "cell_type": "code",
     "collapsed": false,
     "input": [
      "pen = PorterStemmer()\n",
      "for c in en_cases:\n",
      "    for w in c.split():\n",
      "        print pen.stem(w),\n",
      "    print"
     ],
     "language": "python",
     "metadata": {},
     "outputs": [
      {
       "output_type": "stream",
       "stream": "stdout",
       "text": [
        "hous hous house'\n",
        "child children\n",
        "walk walk walk walk\n",
        "see saw see seen see\n"
       ]
      }
     ],
     "prompt_number": 44
    },
    {
     "cell_type": "heading",
     "level": 1,
     "metadata": {},
     "source": [
      "Snowball Stemmer on German"
     ]
    },
    {
     "cell_type": "code",
     "collapsed": false,
     "input": [
      "de_nouns = \\\n",
      "[\n",
      "    u\"Bruder Bruders Br\u00fcder Br\u00fcdern\",\n",
      "    u\"Leuchte Leuchten\",\n",
      "    u\"Haus Hauses Hause H\u00e4user H\u00e4usern\",\n",
      "]\n",
      "de_verbs = \\\n",
      "[\n",
      "    u\"geb geben gebe gibst gibt gebt gab gabst gaben gabt gegeben g\u00e4be g\u00e4bst g\u00e4b g\u00e4ben g\u00e4bet\",\n",
      "    u\"fangen fang fange f\u00e4ngst f\u00e4ngt fangen fangt fing fingst fingen fingt\",\n",
      "    u\"backen backe backst backt backte backtest backten backtet gebackt gebackte\",\n",
      "    u\"b\u00e4ckst b\u00e4ckt bukest b\u00fckest\",\n",
      "    \n",
      "]\n",
      "de_cases = de_nouns+de_verbs"
     ],
     "language": "python",
     "metadata": {},
     "outputs": [],
     "prompt_number": 36
    },
    {
     "cell_type": "code",
     "collapsed": false,
     "input": [
      "des = SnowballStemmer(\"german\")\n",
      "for c in de_cases:\n",
      "    for w in c.split():\n",
      "        print des.stem(w),\n",
      "    print"
     ],
     "language": "python",
     "metadata": {},
     "outputs": [
      {
       "output_type": "stream",
       "stream": "stdout",
       "text": [
        "brud brud brud brud\n",
        "leucht leucht\n",
        "haus haus haus haus haus\n",
        "geb geb geb gibst gibt gebt gab gabst gab gabt gegeb gab gabst gab gab gabet\n",
        "fang fang fang fang fangt fang fangt fing fing fing fingt\n",
        "back back back backt backt backt backt backtet gebackt gebackt\n",
        "back backt buk buk\n"
       ]
      }
     ],
     "prompt_number": 38
    },
    {
     "cell_type": "heading",
     "level": 1,
     "metadata": {},
     "source": [
      "WordNet Lemmatization"
     ]
    },
    {
     "cell_type": "code",
     "collapsed": false,
     "input": [
      "wnl = WordNetLemmatizer()"
     ],
     "language": "python",
     "metadata": {},
     "outputs": [],
     "prompt_number": 40
    },
    {
     "cell_type": "code",
     "collapsed": false,
     "input": [
      "for c in en_nouns:\n",
      "    for w in c.split():\n",
      "        print wnl.lemmatize(w,pos='n'),\n",
      "    print"
     ],
     "language": "python",
     "metadata": {},
     "outputs": [
      {
       "output_type": "stream",
       "stream": "stdout",
       "text": [
        "house house house's\n",
        "child child\n"
       ]
      }
     ],
     "prompt_number": 45
    },
    {
     "cell_type": "code",
     "collapsed": false,
     "input": [
      "for c in en_verbs:\n",
      "    for w in c.split():\n",
      "        print wnl.lemmatize(w,pos='v'),\n",
      "    print"
     ],
     "language": "python",
     "metadata": {},
     "outputs": [
      {
       "output_type": "stream",
       "stream": "stdout",
       "text": [
        "walk walk walk walk\n",
        "see saw see see see\n"
       ]
      }
     ],
     "prompt_number": 46
    },
    {
     "cell_type": "code",
     "collapsed": false,
     "input": [
      "for c in en_verbs+en_nouns:\n",
      "    for w in c.split():\n",
      "        print wnl.lemmatize(w),\n",
      "    print"
     ],
     "language": "python",
     "metadata": {},
     "outputs": [
      {
       "output_type": "stream",
       "stream": "stdout",
       "text": [
        "walk walked walking walk\n",
        "see saw see seen seeing\n",
        "house house house's\n",
        "child child\n"
       ]
      }
     ],
     "prompt_number": 47
    },
    {
     "cell_type": "code",
     "collapsed": false,
     "input": [],
     "language": "python",
     "metadata": {},
     "outputs": []
    }
   ],
   "metadata": {}
  }
 ]
}