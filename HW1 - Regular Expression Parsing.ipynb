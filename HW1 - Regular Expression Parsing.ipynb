{
 "metadata": {
  "name": "HW1 - Regular Expression Parsing"
 },
 "nbformat": 3,
 "nbformat_minor": 0,
 "worksheets": [
  {
   "cells": [
    {
     "cell_type": "heading",
     "level": 1,
     "metadata": {},
     "source": [
      "HW1 - Regular Expression Parsing"
     ]
    },
    {
     "cell_type": "markdown",
     "metadata": {},
     "source": [
      "Here is a set of strings with balanced parentheses."
     ]
    },
    {
     "cell_type": "code",
     "collapsed": false,
     "input": [
      "yes1 = \"x (a b c) y\"\n",
      "yes2 = \"((((x))))\"\n",
      "yes3 = \"a (b (c d) ((e)) f) (g)\""
     ],
     "language": "python",
     "metadata": {},
     "outputs": []
    },
    {
     "cell_type": "markdown",
     "metadata": {},
     "source": [
      "Here is a set of strings with unbalanced parentheses."
     ]
    },
    {
     "cell_type": "code",
     "collapsed": false,
     "input": [
      "no1 = \"(a b c\"\n",
      "no2 = \"((())))\"\n",
      "no3 = \"a (b (c d) (e)) f) (g)\""
     ],
     "language": "python",
     "metadata": {},
     "outputs": []
    },
    {
     "cell_type": "markdown",
     "metadata": {},
     "source": [
      "Write a function `check_balanced` that uses regular expressions\n",
      "to check whether the parentheses are balanced.\n",
      "Note that you can't do this with a single regular expression,\n",
      "you need to write a little loop around it.\n",
      "Your code structure might differ a little from the\n",
      "function below, but it shouldn't be much longer."
     ]
    },
    {
     "cell_type": "code",
     "collapsed": false,
     "input": [
      "import re\n",
      "def check_balanced(s):\n",
      "    ...\n",
      "    while ...:\n",
      "        ...\n",
      "        ... = re.subn(...)\n",
      "        ...\n",
      "    ..."
     ],
     "language": "python",
     "metadata": {},
     "outputs": []
    },
    {
     "cell_type": "markdown",
     "metadata": {},
     "source": [
      "Now show that it works."
     ]
    },
    {
     "cell_type": "code",
     "collapsed": false,
     "input": [
      "print check_balanced(yes1)\n",
      "print check_balanced(yes2)\n",
      "print check_balanced(yes3)"
     ],
     "language": "python",
     "metadata": {},
     "outputs": []
    },
    {
     "cell_type": "code",
     "collapsed": false,
     "input": [
      "print check_balanced(no1)\n",
      "print check_balanced(no2)\n",
      "print check_balanced(no3)"
     ],
     "language": "python",
     "metadata": {},
     "outputs": []
    },
    {
     "cell_type": "code",
     "collapsed": false,
     "input": [],
     "language": "python",
     "metadata": {},
     "outputs": []
    }
   ],
   "metadata": {}
  }
 ]
}