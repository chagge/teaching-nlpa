{
 "metadata": {
  "name": "HW2 - Improve Tagging with Wordnet"
 },
 "nbformat": 3,
 "nbformat_minor": 0,
 "worksheets": [
  {
   "cells": [
    {
     "cell_type": "code",
     "collapsed": false,
     "input": [
      "import nltk\n",
      "import tagutils; reload(tagutils)\n",
      "from tagutils import *\n",
      "from IPython.core.display import HTML\n",
      "from nltk.corpus import brown\n",
      "import random as pyrand\n",
      "from tagutils import *"
     ],
     "language": "python",
     "metadata": {},
     "outputs": [],
     "prompt_number": 1
    },
    {
     "cell_type": "heading",
     "level": 1,
     "metadata": {},
     "source": [
      "Evaluation Framework"
     ]
    },
    {
     "cell_type": "code",
     "collapsed": false,
     "input": [
      "sents = list(brown.tagged_sents())\n",
      "n = len(sents)\n",
      "test = sorted(list(set(range(0,n,10))))\n",
      "training = sorted(list(set(range(n))-set(test)))\n",
      "training_set = [sents[i] for i in training]\n",
      "test_set = [sents[i] for i in test]"
     ],
     "language": "python",
     "metadata": {},
     "outputs": [],
     "prompt_number": 5
    },
    {
     "cell_type": "code",
     "collapsed": false,
     "input": [
      "print len(training_set)\n",
      "print len(test_set)"
     ],
     "language": "python",
     "metadata": {},
     "outputs": [
      {
       "output_type": "stream",
       "stream": "stdout",
       "text": [
        "51606\n",
        "5734\n"
       ]
      }
     ],
     "prompt_number": 7
    },
    {
     "cell_type": "code",
     "collapsed": false,
     "input": [
      "t0 = nltk.DefaultTagger('NN')\n",
      "t1 = nltk.UnigramTagger(training_set, backoff=t0)\n",
      "t2 = nltk.BigramTagger(training_set, backoff=t1)\n",
      "t2.evaluate(test_set)"
     ],
     "language": "python",
     "metadata": {},
     "outputs": [
      {
       "output_type": "pyout",
       "prompt_number": 6,
       "text": [
        "0.9236947791164659"
       ]
      }
     ],
     "prompt_number": 6
    },
    {
     "cell_type": "heading",
     "level": 1,
     "metadata": {},
     "source": [
      "Wordnet-Based Improvements"
     ]
    },
    {
     "cell_type": "code",
     "collapsed": false,
     "input": [
      "import nltk.tag.api\n",
      "# help(nltk.tag.api.TaggerI)"
     ],
     "language": "python",
     "metadata": {},
     "outputs": [],
     "prompt_number": 14
    },
    {
     "cell_type": "markdown",
     "metadata": {},
     "source": [
      "Your homework consists of implementing new taggers based on Wordnet.\n",
      "With regular taggers, we have a problem of sparsity; that is, we don't know\n",
      "what tag to assign to a word if we have never seen it in a context.\n",
      "\n",
      "However, for many words, Wordnet may give us useful information to help with\n",
      "tagging. You need to work out some ideas, implement them, and test them.\n",
      "\n",
      "There are different implementation strategies, but a simple one might be:\n",
      "\n",
      "- write classes that map token sequences to other token sequences using\n",
      "  WordNet; for example, you might map an input sentence to some collection\n",
      "  of hyponyms\n",
      "- then, apply the regular NLTK n-gram taggers to the modified output sequences\n",
      "- use backoff (as above) when the WordNet mapping fails for some reason\n",
      "  (you can't find the word, or maybe the mapping would be ambiguous and\n",
      "  you don't know how to handle it)\n",
      "\n",
      "This may not be the best strategy, but it's a good way of getting started.\n",
      "\n",
      "Another strategy is to use use WordNet to generate a cloud of related words\n",
      "around a given word, and then see whether you can find bigrams in an existing\n",
      "model for any of the related words.\n",
      "\n",
      "Implement your model(s) so that they conform to the NLTK tagging APIs,\n",
      "perform evaluations on the training and test sets defined above,\n",
      "and be ready to present your results (idea, evaluation, results) in \n",
      "the exercises.\n",
      "\n"
     ]
    },
    {
     "cell_type": "code",
     "collapsed": false,
     "input": [],
     "language": "python",
     "metadata": {},
     "outputs": []
    }
   ],
   "metadata": {}
  }
 ]
}