{
 "metadata": {
  "name": "nlpa-downloading-tomsawyer"
 },
 "nbformat": 3,
 "nbformat_minor": 0,
 "worksheets": [
  {
   "cells": [
    {
     "cell_type": "heading",
     "level": 1,
     "metadata": {},
     "source": [
      "Downloading Text from the Internet"
     ]
    },
    {
     "cell_type": "markdown",
     "metadata": {},
     "source": [
      "Here is a simple example of how to download and reformat text from the Internet."
     ]
    },
    {
     "cell_type": "markdown",
     "metadata": {},
     "source": [
      "Let's start by using `curl` to get some text data.\n",
      "We need the `-L` because this is a URL with a redirect built in."
     ]
    },
    {
     "cell_type": "code",
     "collapsed": false,
     "input": [
      "!curl -L 'http://goo.gl/g3aE4' > tomsawyer.html"
     ],
     "language": "python",
     "metadata": {},
     "outputs": [
      {
       "output_type": "stream",
       "stream": "stdout",
       "text": [
        "  % Total    % Received % Xferd  Average Speed   Time    Time     Time  Current\r\n",
        "                                 Dload  Upload   Total   Spent    Left  Speed\r\n",
        "\r",
        "  0     0    0     0    0     0      0      0 --:--:-- --:--:-- --:--:--     0\r",
        "100   336    0   336    0     0   5905      0 --:--:-- --:--:-- --:--:-- 22400\r\n"
       ]
      },
      {
       "output_type": "stream",
       "stream": "stdout",
       "text": [
        "\r",
        "  0  467k    0  1192    0     0   1606      0  0:04:58 --:--:--  0:04:58  1606"
       ]
      },
      {
       "output_type": "stream",
       "stream": "stdout",
       "text": [
        "\r",
        " 45  467k   45  210k    0     0   137k      0  0:00:03  0:00:01  0:00:02  263k"
       ]
      },
      {
       "output_type": "stream",
       "stream": "stdout",
       "text": [
        "\r",
        "100  467k  100  467k    0     0   182k      0  0:00:02  0:00:02 --:--:--  255k\r",
        "100  467k  100  467k    0     0   182k      0  0:00:02  0:00:02 --:--:--  255k\r\n"
       ]
      }
     ],
     "prompt_number": 21
    },
    {
     "cell_type": "markdown",
     "metadata": {},
     "source": [
      "For single pages, `curl` is generally the best tool to use.\n",
      "For whole directory trees and mirroring, `wget` is what people usually use."
     ]
    },
    {
     "cell_type": "markdown",
     "metadata": {},
     "source": [
      "If we look at it, we got the page in HTML format."
     ]
    },
    {
     "cell_type": "code",
     "collapsed": false,
     "input": [
      "!head tomsawyer.html"
     ],
     "language": "python",
     "metadata": {},
     "outputs": [
      {
       "output_type": "stream",
       "stream": "stdout",
       "text": [
        "\r\n",
        "\r\n",
        "<HTML>\r\n",
        "<HEAD>\r\n",
        "<TITLE>The Adventures of Tom Sawyer </TITLE>\r\n",
        "</HEAD>\r\n",
        "<BODY BGCOLOR=\"#FFFFF2\">\r\n",
        "<CENTER><B>Twain, Mark, 1835-1910. The Adventures of Tom Sawyer </B>\r\n",
        "<BR>\r\n",
        "Electronic Text Center, University of Virginia Library</CENTER>\r\n"
       ]
      }
     ],
     "prompt_number": 22
    },
    {
     "cell_type": "markdown",
     "metadata": {},
     "source": [
      "Now let's convert it to text format (we could also have used `lynx -dump URL` directly).\n",
      "There are several other tools for converting HTML to text; they may or may not work better."
     ]
    },
    {
     "cell_type": "code",
     "collapsed": false,
     "input": [
      "!lynx -dump tomsawyer.html > tomsawyer.txt"
     ],
     "language": "python",
     "metadata": {},
     "outputs": [],
     "prompt_number": 23
    },
    {
     "cell_type": "markdown",
     "metadata": {},
     "source": [
      "The output is pretty good, but has some extra spaces at the beginning."
     ]
    },
    {
     "cell_type": "code",
     "collapsed": false,
     "input": [
      "!head tomsawyer.txt"
     ],
     "language": "python",
     "metadata": {},
     "outputs": [
      {
       "output_type": "stream",
       "stream": "stdout",
       "text": [
        "            Twain, Mark, 1835-1910. The Adventures of Tom Sawyer\r\n",
        "           Electronic Text Center, University of Virginia Library\r\n",
        "\r\n",
        "                   | [1]Table of Contents for this work |\r\n",
        "\r\n",
        "           | [2]All on-line databases | [3]Etext Center Homepage |\r\n",
        "     __________________________________________________________________\r\n",
        "\r\n",
        "   About the electronic version\r\n",
        "   The Adventures of Tom Sawyer\r\n"
       ]
      }
     ],
     "prompt_number": 24
    },
    {
     "cell_type": "code",
     "collapsed": false,
     "input": [
      "!sed '1000,1020!d' tomsawyer.txt"
     ],
     "language": "python",
     "metadata": {},
     "outputs": [
      {
       "output_type": "stream",
       "stream": "stdout",
       "text": [
        "   curtain of a second-story window. Was the sacred presence there? He\r\n",
        "   climbed the fence, threaded his stealthy way through the plants, till\r\n",
        "   he stood under that window; he looked up at it long, and with emotion;\r\n",
        "   then he laid him down on the ground under it, disposing himself upon\r\n",
        "   his back, with his hands clasped upon his breast and holding his poor\r\n",
        "   wilted flower. And thus he would\r\n",
        "            _____________________________________________________\r\n",
        "\r\n",
        "                                    -43-\r\n",
        "\r\n",
        "   die -- out in the cold world, with no shelter over his homeless head,\r\n",
        "   no friendly hand to wipe the death-damps from his brow, no loving face\r\n",
        "   to bend pityingly over him when the great agony came. And thus she\r\n",
        "   would see him when she looked out upon the glad morning, and oh! would\r\n",
        "   she drop one little tear upon his poor, lifeless form, would she heave\r\n",
        "   one little sigh to see a bright young life so rudely blighted, so\r\n",
        "   untimely cut down?\r\n",
        "\r\n",
        "      The window went up, a maid-servant's discordant voice profaned the\r\n",
        "   holy calm, and a deluge of water drenched the prone martyr's remains!\r\n",
        "\r\n"
       ]
      }
     ],
     "prompt_number": 25
    },
    {
     "cell_type": "markdown",
     "metadata": {},
     "source": [
      "Let's fix these with `sed`."
     ]
    },
    {
     "cell_type": "code",
     "collapsed": false,
     "input": [
      "!sed 's/^ *//' -i tomsawyer.txt"
     ],
     "language": "python",
     "metadata": {},
     "outputs": [],
     "prompt_number": 26
    },
    {
     "cell_type": "markdown",
     "metadata": {},
     "source": [
      "Also, there's a header at the beginning of the file (we can see that from the web page)."
     ]
    },
    {
     "cell_type": "code",
     "collapsed": false,
     "input": [
      "!sed '/About the print/,+10!d' tomsawyer.txt"
     ],
     "language": "python",
     "metadata": {},
     "outputs": [
      {
       "output_type": "stream",
       "stream": "stdout",
       "text": [
        "About the print version\r\n",
        "The Adventures of Tom Sawyer\r\n",
        "Mark Twain\r\n",
        "Harper and Brothers\r\n",
        "New York and London\r\n",
        "1903\r\n",
        "\r\n",
        "Author's National Edition: The Writings of Mark Twain, Vol. XII\r\n",
        "\r\n",
        "Spell-check not performed due to presence of dialect.\r\n",
        "Published: 1876\r\n"
       ]
      }
     ],
     "prompt_number": 27
    },
    {
     "cell_type": "code",
     "collapsed": false,
     "input": [
      "!sed '1,/About the print/d' -i tomsawyer.txt"
     ],
     "language": "python",
     "metadata": {},
     "outputs": [],
     "prompt_number": 28
    },
    {
     "cell_type": "code",
     "collapsed": false,
     "input": [
      "!head tomsawyer.txt"
     ],
     "language": "python",
     "metadata": {},
     "outputs": [
      {
       "output_type": "stream",
       "stream": "stdout",
       "text": [
        "The Adventures of Tom Sawyer\r\n",
        "Mark Twain\r\n",
        "Harper and Brothers\r\n",
        "New York and London\r\n",
        "1903\r\n",
        "\r\n",
        "Author's National Edition: The Writings of Mark Twain, Vol. XII\r\n",
        "\r\n",
        "Spell-check not performed due to presence of dialect.\r\n",
        "Published: 1876\r\n"
       ]
      }
     ],
     "prompt_number": 29
    },
    {
     "cell_type": "heading",
     "level": 1,
     "metadata": {},
     "source": [
      "Other Converters"
     ]
    },
    {
     "cell_type": "markdown",
     "metadata": {},
     "source": [
      "If you don't like that kind of editing, there are a bunch of other converters you can use.\n",
      "To find them, use `apt-cache search` or `synaptic` on Ubuntu or Debian.\n",
      "Other Linux distributions have their own search tools.\n",
      "You can also check [Freecode](http://www.freecode.com/) (AKA Freshmeat)"
     ]
    },
    {
     "cell_type": "code",
     "collapsed": false,
     "input": [
      "!apt-cache search html text converter\n",
      "# install with \"sudo apt-get install ...\" if needed"
     ],
     "language": "python",
     "metadata": {},
     "outputs": [
      {
       "output_type": "stream",
       "stream": "stdout",
       "text": [
        "html2text - advanced HTML to text converter\r\n"
       ]
      },
      {
       "output_type": "stream",
       "stream": "stdout",
       "text": [
        "poppler-utils - PDF utilities (based on Poppler)\r\n",
        "xmlto - XML-to-any converter\r\n",
        "wap-wml-tools - Wireless Markup Language development and test tools\r\n"
       ]
      },
      {
       "output_type": "stream",
       "stream": "stdout",
       "text": [
        "highlight - Universal source code to formatted text converter\r\n",
        "highlight-common - source code to formatted text converter (architecture independent files)\r\n",
        "html2ps - HTML to PostScript converter\r\n"
       ]
      },
      {
       "output_type": "stream",
       "stream": "stdout",
       "text": [
        "khmerconverter - converts between legacy Khmer encodings and Unicode\r\n",
        "libghc-pandoc-dev - general markup converter\r\n",
        "libghc-pandoc-doc - general markup converter\r\n",
        "libghc-pandoc-prof - general markup converter\r\n",
        "libhighlight-perl - perl bindings for highlight source code to formatted text converter\r\n"
       ]
      },
      {
       "output_type": "stream",
       "stream": "stdout",
       "text": [
        "mira-assembler - Whole Genome Shotgun and EST Sequence Assembler\r\n",
        "pandoc - general markup converter\r\n",
        "php-text-wiki - transforms Wiki and BBCode markup into XHTML, LaTeX or plain text markup\r\n",
        "pod2pdf - Plain Old Documentation to Portable Document Format converter\r\n",
        "python-pdfminer - PDF parser and analyser\r\n",
        "python-zope.app.renderer - Zope 3 Text Renderer Framework\r\n",
        "src2tex - A converter from source program files to TeX format files\r\n",
        "stx2any - Converter from structured plain text to other formats\r\n"
       ]
      },
      {
       "output_type": "stream",
       "stream": "stdout",
       "text": [
        "t2html - text to HTML converter implemented in Perl\r\n",
        "txt2html - Text to HTML converter\r\n",
        "uni2ascii - UTF-8 to 7-bit ASCII and vice versa converter\r\n",
        "unrtf - RTF to other formats converter\r\n",
        "vilistextum - a HTML to text converter\r\n",
        "wp2x - WordPerfect 5.x documents to whatever converter\r\n",
        "yodl - Your Own Document Language (Yodl) is a pre-document language\r\n",
        "yodl-doc - Documenation for Your Own Document Language (Yodl)\r\n"
       ]
      }
     ],
     "prompt_number": 33
    },
    {
     "cell_type": "code",
     "collapsed": false,
     "input": [
      "!html2text tomsawyer.html | sed '1000,1020!d'"
     ],
     "language": "python",
     "metadata": {},
     "outputs": [
      {
       "output_type": "stream",
       "stream": "stdout",
       "text": [
        "his speckled straw hat. He now looked exceedingly improved and uncomfortable.\r\n",
        "He was fully as uncomfortable as he looked; for there was a restraint about\r\n",
        "whole clothes and cleanliness that galled him. He hoped that Mary would forget\r\n",
        "his shoes, but the hope was blighted; she coated them thoroughly with tallow,\r\n",
        "as was the\r\n",
        "\r\n",
        "===============================================================================\r\n",
        "\r\n",
        "                                     -48-\r\n",
        "\r\n",
        "\r\n",
        "custom, and brought them out. He lost his temper and said he was always being\r\n",
        "made to do everything he didn't want to do. But Mary said, persuasively:\r\n",
        "\u00a0\u00a0\u00a0\"Please, Tom -- that's a good boy.\"\r\n",
        "\u00a0\u00a0\u00a0So he got into the shoes snarling. Mary was soon ready, and the three\r\n",
        "children set out for Sunday-school -- a place that Tom hated with his whole\r\n",
        "heart; but Sid and Mary were fond of it.\r\n",
        "\u00a0\u00a0\u00a0Sabbath-school hours were from nine to half-past ten; and then church\r\n",
        "service. Two of the children always remained for the sermon voluntarily, and\r\n",
        "the other always remained too -- for stronger reasons. The church's high-\r\n",
        "backed, uncushioned pews would seat about three hundred persons; the edifice\r\n"
       ]
      }
     ],
     "prompt_number": 31
    },
    {
     "cell_type": "code",
     "collapsed": false,
     "input": [
      "!vilistextum tomsawyer.html - | sed '1000,1020!d'"
     ],
     "language": "python",
     "metadata": {},
     "outputs": [
      {
       "output_type": "stream",
       "stream": "stdout",
       "text": [
        "pityingly over him when the great agony came. And thus she would see him\r\n",
        "when she looked out upon the glad morning, and oh! would she drop one little\r\n",
        "tear upon his poor, lifeless form, would she heave one little sigh to see a\r\n",
        "bright young life so rudely blighted, so untimely cut down?\r\n",
        "\r\n",
        "\ufffd\ufffd\ufffdThe window went up, a maid-servant's discordant voice profaned the holy\r\n",
        "calm, and a deluge of water drenched the prone martyr's remains!\r\n",
        "\r\n",
        "\ufffd\ufffd\ufffdThe strangling hero sprang up with a relieving snort. There was a whiz as\r\n",
        "of a missile in the air, mingled with the murmur of a curse, a sound as of\r\n",
        "shivering glass followed, and a small, vague form went over the fence and\r\n",
        "shot away in the gloom.\r\n",
        "\r\n",
        "\ufffd\ufffd\ufffdNot long after, as Tom, all undressed for bed, was surveying his drenched\r\n",
        "garments by the light of a tallow dip, Sid woke up; but if he had any dim\r\n",
        "idea of making any \"references to allusions,\" he thought better of it and\r\n",
        "held his peace, for there was danger in Tom's eye.\r\n",
        "\r\n",
        "\ufffd\ufffd\ufffdTom turned in without the added vexation of prayers, and Sid made mental\r\n",
        "note of the omission.\r\n",
        "\r\n"
       ]
      }
     ],
     "prompt_number": 32
    }
   ],
   "metadata": {}
  }
 ]
}