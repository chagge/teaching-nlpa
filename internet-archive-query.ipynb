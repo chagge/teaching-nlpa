{
 "metadata": {
  "name": "internet-archive-query"
 },
 "nbformat": 3,
 "nbformat_minor": 0,
 "worksheets": [
  {
   "cells": [
    {
     "cell_type": "heading",
     "level": 1,
     "metadata": {},
     "source": [
      "Querying and Downloading from the Internet Archive"
     ]
    },
    {
     "cell_type": "markdown",
     "metadata": {},
     "source": [
      "This worksheet shows how to query the Internet Archive with JSON and how to download from it."
     ]
    },
    {
     "cell_type": "code",
     "collapsed": false,
     "input": [
      "import urllib2\n",
      "import json\n",
      "import re\n",
      "import pprint\n",
      "pp = pprint.PrettyPrinter(indent=4).pprint\n",
      "Q = urllib2.quote\n",
      "U = urllib2.unquote"
     ],
     "language": "python",
     "metadata": {},
     "outputs": [],
     "prompt_number": 127
    },
    {
     "cell_type": "markdown",
     "metadata": {},
     "source": [
      "We construct a url-encoded query (can we also post JSON?)."
     ]
    },
    {
     "cell_type": "code",
     "collapsed": false,
     "input": [
      "query = Q(\"title:(alice in wonderland) AND format:(djvu)\")\n",
      "columns = \"&\".join([Q(s) for s in \"fl[]=identifier fl[]=source fl[]=title\".split()])\n",
      "params = \"rows=100&page=1&output=json\"\n",
      "url = \"http://archive.org/advancedsearch.php?q=\"+query+\"&\"+columns+\"&\"+params\n",
      "print url"
     ],
     "language": "python",
     "metadata": {},
     "outputs": [
      {
       "output_type": "stream",
       "stream": "stdout",
       "text": [
        "http://archive.org/advancedsearch.php?q=title%3A%28alice%20in%20wonderland%29%20AND%20format%3A%28djvu%29&fl%5B%5D%3Didentifier&fl%5B%5D%3Dsource&fl%5B%5D%3Dtitle&rows=100&page=1&output=json\n"
       ]
      }
     ],
     "prompt_number": 97
    },
    {
     "cell_type": "code",
     "collapsed": false,
     "input": [
      "# could we also post the query?\n",
      "#jdata = json.dumps({\"username\":\"...\", \"password\":\"...\"})\n",
      "#urllib2.urlopen(\"http://www.example.com/\", jdata)"
     ],
     "language": "python",
     "metadata": {},
     "outputs": [],
     "prompt_number": 128
    },
    {
     "cell_type": "markdown",
     "metadata": {},
     "source": [
      "Now we read and parse the response."
     ]
    },
    {
     "cell_type": "code",
     "collapsed": false,
     "input": [
      "response = urllib2.urlopen(url).read()\n",
      "response = json.loads(response)[\"response\"]\n",
      "response.keys()"
     ],
     "language": "python",
     "metadata": {},
     "outputs": [
      {
       "output_type": "pyout",
       "prompt_number": 129,
       "text": [
        "[u'start', u'numFound', u'docs']"
       ]
      }
     ],
     "prompt_number": 129
    },
    {
     "cell_type": "code",
     "collapsed": false,
     "input": [
      "response[\"numFound\"]"
     ],
     "language": "python",
     "metadata": {},
     "outputs": [
      {
       "output_type": "pyout",
       "prompt_number": 131,
       "text": [
        "43"
       ]
      }
     ],
     "prompt_number": 131
    },
    {
     "cell_type": "code",
     "collapsed": false,
     "input": [
      "len(response[\"docs\"])"
     ],
     "language": "python",
     "metadata": {},
     "outputs": [
      {
       "output_type": "pyout",
       "prompt_number": 132,
       "text": [
        "43"
       ]
      }
     ],
     "prompt_number": 132
    },
    {
     "cell_type": "markdown",
     "metadata": {},
     "source": [
      "Each doc contains a title and an identifier (we asked for those):"
     ]
    },
    {
     "cell_type": "code",
     "collapsed": false,
     "input": [
      "for i,e in enumerate(response[\"docs\"][:10]):\n",
      "    print i,e[\"title\"],e[\"identifier\"]"
     ],
     "language": "python",
     "metadata": {},
     "outputs": [
      {
       "output_type": "stream",
       "stream": "stdout",
       "text": [
        "0 Alice In Wonderland caralic\n",
        "1 Alice's Adventures In Wonderland AlicesAdventuresInWonderland\n",
        "2 Alice's Adventures in Wonderland AlicesAdventuresInWonderland_917\n",
        "3 Alice in Wonderland aliceinwonderla00carrgoog\n",
        "4 Alice's Adventures in Wonderland alicesadventure00jackgoog\n",
        "5 Alice's Adventures in Wonderland AlicesAdventuresInWonderland_841\n",
        "6 Alice's adventures in Wonderland alicesadventure00tenngoog\n",
        "7 Alice's Adventures in Wonderland alicesadventures00011gut\n",
        "8 Alice's adventures in Wonderland adventuresalices00carrrich\n",
        "9 Alice in Wonderland aliceinwonderlan00carriala\n"
       ]
      }
     ],
     "prompt_number": 101
    },
    {
     "cell_type": "code",
     "collapsed": false,
     "input": [
      "identifier = response[\"docs\"][5][\"identifier\"]\n",
      "identifier"
     ],
     "language": "python",
     "metadata": {},
     "outputs": [
      {
       "output_type": "pyout",
       "prompt_number": 102,
       "text": [
        "u'AlicesAdventuresInWonderland_841'"
       ]
      }
     ],
     "prompt_number": 102
    },
    {
     "cell_type": "heading",
     "level": 1,
     "metadata": {},
     "source": [
      "Retrieving Details using the Identifier"
     ]
    },
    {
     "cell_type": "markdown",
     "metadata": {},
     "source": [
      "Once we have the identifier for a document, we can retrieve more info about it,\n",
      "again in JSON."
     ]
    },
    {
     "cell_type": "code",
     "collapsed": false,
     "input": [
      "hit = urllib2.urlopen(\"http://archive.org/details/\"+Q(identifier)+\"?output=json\").read()\n",
      "hit = json.loads(hit)\n",
      "print hit.keys()\n",
      "print hit[\"server\"]"
     ],
     "language": "python",
     "metadata": {},
     "outputs": [
      {
       "output_type": "stream",
       "stream": "stdout",
       "text": [
        "[u'files', u'misc', u'server', u'item', u'creativecommons', u'dir', u'metadata']\n",
        "ia701208.us.archive.org\n"
       ]
      }
     ],
     "prompt_number": 111
    },
    {
     "cell_type": "markdown",
     "metadata": {},
     "source": [
      "We're particularly interested in the files."
     ]
    },
    {
     "cell_type": "code",
     "collapsed": false,
     "input": [
      "print hit[\"files\"].items()[0][1].keys()"
     ],
     "language": "python",
     "metadata": {},
     "outputs": [
      {
       "output_type": "stream",
       "stream": "stdout",
       "text": [
        "[u'sha1', u'format', u'source', u'mtime', u'crc32', u'md5', u'original', u'size']\n"
       ]
      }
     ],
     "prompt_number": 112
    },
    {
     "cell_type": "markdown",
     "metadata": {},
     "source": [
      "The file list contains information about formats, sources, sizes, etc.\n",
      "We're looking for text."
     ]
    },
    {
     "cell_type": "code",
     "collapsed": false,
     "input": [
      "fname = None\n",
      "for k,v in hit[\"files\"].items():\n",
      "    print repr(v[\"format\"]),repr(v[\"source\"]),k\n",
      "    if v[\"format\"]==\"DjVuTXT\": fname = k\n",
      "print fname"
     ],
     "language": "python",
     "metadata": {},
     "outputs": [
      {
       "output_type": "stream",
       "stream": "stdout",
       "text": [
        "u'DjVu' u'derivative' /86311283-Original-Version-of-Alice-s-Adventures-in-Wonderland-by-Lewis-Carroll.djvu\n",
        "u'Abbyy GZ' u'derivative' /86311283-Original-Version-of-Alice-s-Adventures-in-Wonderland-by-Lewis-Carroll_abbyy.gz\n",
        "u'Image Container PDF' u'original' /86311283-Original-Version-of-Alice-s-Adventures-in-Wonderland-by-Lewis-Carroll.pdf\n",
        "u'Metadata' u'original' /AlicesAdventuresInWonderland_841_meta.xml\n",
        "u'Single Page Processed JP2 ZIP' u'derivative' /86311283-Original-Version-of-Alice-s-Adventures-in-Wonderland-by-Lewis-Carroll_jp2.zip\n",
        "u'DjVuTXT' u'derivative' /86311283-Original-Version-of-Alice-s-Adventures-in-Wonderland-by-Lewis-Carroll_djvu.txt\n",
        "u'Scandata' u'derivative' /86311283-Original-Version-of-Alice-s-Adventures-in-Wonderland-by-Lewis-Carroll_scandata.xml\n",
        "u'EPUB' u'derivative' /86311283-Original-Version-of-Alice-s-Adventures-in-Wonderland-by-Lewis-Carroll.epub\n",
        "u'Metadata' u'original' /AlicesAdventuresInWonderland_841_files.xml\n",
        "u'Animated GIF' u'derivative' /86311283-Original-Version-of-Alice-s-Adventures-in-Wonderland-by-Lewis-Carroll.gif\n",
        "u'Djvu XML' u'derivative' /86311283-Original-Version-of-Alice-s-Adventures-in-Wonderland-by-Lewis-Carroll_djvu.xml\n",
        "u'Additional Text PDF' u'derivative' /86311283-Original-Version-of-Alice-s-Adventures-in-Wonderland-by-Lewis-Carroll_text.pdf\n",
        "/86311283-Original-Version-of-Alice-s-Adventures-in-Wonderland-by-Lewis-Carroll_djvu.txt\n"
       ]
      }
     ],
     "prompt_number": 123
    },
    {
     "cell_type": "heading",
     "level": 1,
     "metadata": {},
     "source": [
      "Retrieving the File"
     ]
    },
    {
     "cell_type": "markdown",
     "metadata": {},
     "source": [
      "We can retrieve files from the `archive.org/download` URL, combining the identifier for the document and the specific file name."
     ]
    },
    {
     "cell_type": "code",
     "collapsed": false,
     "input": [
      "text = urllib2.urlopen(\"http://archive.org/download/\"+Q(identifier)+fname).read()\n",
      "text = text.decode(\"utf-8\")\n",
      "text[:400]"
     ],
     "language": "python",
     "metadata": {},
     "outputs": [
      {
       "output_type": "pyout",
       "prompt_number": 138,
       "text": [
        "u'\\n\\n\\n1 \\n\\n\\n\\n\\nwtx \\n\\n\\n\\n\\n\\n% \\xa7eb vtfy \"tired of $LM&$ \\nby nzr sisfer* ojl. tdthlmnh \\n\\ndo : once or \"twice, sit ka.A \\nfittfottL tufa i&& Irotk ktv \\nS^^Mt Si ^ r w<t ^ riding, frat it \\nk<U Ko pictures or conversation*- in lt } ajruL wh&*. is tfa, \\nU&& of a- (rook t -ikoiL^kir Alice, , wii&out- pictures &<r can.* \\n-VtrScrtio-ns t So ska, MCLS cons.ttle.rino> <-7i. fi\\xa3r own niind, \\n^aS w&^ as S/te- Could, fa'"
       ]
      }
     ],
     "prompt_number": 138
    },
    {
     "cell_type": "markdown",
     "metadata": {},
     "source": [
      "We can now continue to process this text, for example with NLTK."
     ]
    },
    {
     "cell_type": "code",
     "collapsed": false,
     "input": [
      "import nltk\n",
      "tokens = nltk.tokenize.word_tokenize(text)"
     ],
     "language": "python",
     "metadata": {},
     "outputs": [],
     "prompt_number": 139
    },
    {
     "cell_type": "code",
     "collapsed": false,
     "input": [
      "tokens[200:300]"
     ],
     "language": "python",
     "metadata": {},
     "outputs": [
      {
       "output_type": "pyout",
       "prompt_number": 140,
       "text": [
        "[u'.', u'\\u25a0', u'/I', u'nor', u'way', u'\"', u'to', u'Uar', u'^', u'U', u'T', u'^', u'Ub', u'say', u'~', u'6', u'>', u'rfs', u'\\xab', u'#', u\"'\", u'cU', u'\\xb1', u'r', u',', u'dear', u';', u'*', u'UtL', u'U', u'too', u'\\xa3', u'*', u'\\xa3', u'e', u'r', u'(', u'vji', u'*', u'n.', u'$', u'U', u'idLca.', u'3', u'i&', u'A', u'ovtr', u'*', u'.', u'\\xa3', u'&-', u'-WO-rcLS', u')', u'tir', u'occurred', u'&', u'A-', u'*', u'*', u'*', u'that', u's', u'^', u'e', u'oll', u'^', u'H', u'tfi', u'kavt', u'woTuLkfttL', u'at', u'-tiiis', u',', u'(', u'rat', u'ai', u'Ofb', u'tirae', u',', u'l&', u'alt', u'\\u2022', u'seemed', u'auitl', u'natural', u'}', u'>', u'bu.t', u'wAe', u'*', u'.', u'\\xb1', u'kt', u'raUit', u'actadly', u'-took', u'QL', u'w', u'atch.', u'out']"
       ]
      }
     ],
     "prompt_number": 140
    },
    {
     "cell_type": "code",
     "collapsed": false,
     "input": [],
     "language": "python",
     "metadata": {},
     "outputs": []
    }
   ],
   "metadata": {}
  }
 ]
}