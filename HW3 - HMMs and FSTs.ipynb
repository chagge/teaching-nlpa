{
 "metadata": {
  "name": "HW3 - HMMs and FSTs"
 },
 "nbformat": 3,
 "nbformat_minor": 0,
 "worksheets": [
  {
   "cells": [
    {
     "cell_type": "heading",
     "level": 1,
     "metadata": {},
     "source": [
      "Transform HMMs into FSTs"
     ]
    },
    {
     "cell_type": "markdown",
     "metadata": {},
     "source": [
      "Assume you are given a Hidden Markov Model (HMM) described\n",
      "by a transition matrix $A$ and an emission matrix $B$,\n",
      "with $n$ states and $m$ symbols.\n",
      "Assume state $0$ is the start state.\n",
      "\n",
      "Write a function that converts the Hidden Markov Model into an\n",
      "equivalent FST and demonstrate that the two models give equivalent results.\n"
     ]
    },
    {
     "cell_type": "code",
     "collapsed": false,
     "input": [
      "def hmm_to_fst(A,B):\n",
      "    \"\"\"Convert an HMM to an equivalent FST. State 0\n",
      "    is always the start state, and state n-1 is always\n",
      "    the accept state.\"\"\"\n",
      "    n,n1 = A.shape\n",
      "    assert n==n1\n",
      "    m,n2 = B.shape\n",
      "    assert n==n2\n",
      "    if accept is None: accept_state = n-1\n",
      "    raise Exception(\"IMPLEMENT ME\")\n",
      "    return fst"
     ],
     "language": "python",
     "metadata": {},
     "outputs": []
    },
    {
     "cell_type": "markdown",
     "metadata": {},
     "source": [
      "For the following, just call the OpenFST functions."
     ]
    },
    {
     "cell_type": "code",
     "collapsed": false,
     "input": [
      "def fst_log_probability(fst,s):\n",
      "    \"\"\"Find the lowest cost path corresponding to the string `s`\n",
      "    through `fst`. The string `s` is given as a 1D numpy array.\"\"\"\n",
      "    raise Exception(\"IMPLEMENT ME\")\n",
      "    return log_p"
     ],
     "language": "python",
     "metadata": {},
     "outputs": [],
     "prompt_number": 3
    },
    {
     "cell_type": "markdown",
     "metadata": {},
     "source": [
      "For the following, you can use the Viterbi algorithm from lecture as a starting point."
     ]
    },
    {
     "cell_type": "code",
     "collapsed": false,
     "input": [
      "def hmm_log_probability(A,B,s):\n",
      "    \"\"\"Find the lowest cost path through the HMM corresponding\n",
      "    to the given string `s`.\"\"\"\n",
      "    raise Exception(\"IMPLEMENT ME\")\n",
      "    return log_p"
     ],
     "language": "python",
     "metadata": {},
     "outputs": [],
     "prompt_number": 4
    },
    {
     "cell_type": "markdown",
     "metadata": {},
     "source": [
      "Now write some unit tests."
     ]
    },
    {
     "cell_type": "code",
     "collapsed": false,
     "input": [
      "A = ones((1,1))\n",
      "B = ones((1,1))\n",
      "assert abs(hmm_log_probability(A,B,zeros(10,'i'))) < 1e-4\n",
      "\n",
      "fst = hmm_to_fst(A,B)\n",
      "assert abs(fst_log_probability(fst,zeros(10,'i'))) < 1e-4\n",
      "\n",
      "# more meaningful unit tests"
     ],
     "language": "python",
     "metadata": {},
     "outputs": []
    },
    {
     "cell_type": "markdown",
     "metadata": {},
     "source": [
      "And write some general purpose random tests."
     ]
    },
    {
     "cell_type": "code",
     "collapsed": false,
     "input": [
      "for trial in range(10):\n",
      "    A = rand((10,10))\n",
      "    # normalize appropriately\n",
      "    B = rand((17,10))\n",
      "    # normalize appropriately\n",
      "    fst = hmm_to_fst(A,B)\n",
      "    for trial2 in range(10):\n",
      "        s = array(10*rand(7),'i')\n",
      "        p1 = fst_log_probability(fst,s)\n",
      "        p2 = hmm_log_probability(A,B,s)\n",
      "        assert abs(p1-p2)/min(abs(p1),abs(p2)) < 1e-4"
     ],
     "language": "python",
     "metadata": {},
     "outputs": []
    }
   ],
   "metadata": {}
  }
 ]
}