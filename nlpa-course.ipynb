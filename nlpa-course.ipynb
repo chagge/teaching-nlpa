{
 "metadata": {
  "name": "nlpa-course"
 },
 "nbformat": 3,
 "nbformat_minor": 0,
 "worksheets": [
  {
   "cells": [
    {
     "cell_type": "code",
     "collapsed": false,
     "input": [
      "from IPython.core.display import Image,HTML\n",
      "from IPython.lib.display import YouTubeVideo"
     ],
     "language": "python",
     "metadata": {},
     "outputs": [],
     "prompt_number": 8
    },
    {
     "cell_type": "heading",
     "level": 1,
     "metadata": {},
     "source": [
      "Introduction to Natural Language Processing and Applications"
     ]
    },
    {
     "cell_type": "markdown",
     "metadata": {},
     "source": [
      "Goals of the course:\n",
      "\n",
      "- understanding of major concepts and algorithms in text and natural language processing\n",
      "- acquire the skills to work with research code in NLP, and make contributions to it\n",
      "\n",
      "*It is not just sufficient to memorize some terms and algorithms, you must be able to apply them.*"
     ]
    },
    {
     "cell_type": "markdown",
     "metadata": {},
     "source": [
      "Course Content:\n",
      "\n",
      "- text processing and encoding\n",
      "- string algorithms, edit distance\n",
      "- statistical language models\n",
      "- spell correction\n",
      "- n-gram models\n",
      "- word sense disambiguation\n",
      "- Markov models, parts-of-speech tagging\n",
      "- probabilistic grammars and parsing\n",
      "- text alignment, clustering, text categorization\n",
      "- statistical machine translation\n",
      "- applications in speech recognition, handwriting recognition, and OCR\n",
      "- language acquisition\n",
      "- machine learning for NLP\n",
      "- cognitive and psychological aspects of NLP"
     ]
    },
    {
     "cell_type": "code",
     "collapsed": false,
     "input": [
      "YouTubeVideo(\"https://www.youtube.com/watch?v=PHzoX2AIzqo\")"
     ],
     "language": "python",
     "metadata": {},
     "outputs": [
      {
       "html": [
        "\n",
        "            <iframe\n",
        "                width=\"400\"\n",
        "                height=\"300\"\n",
        "                src=\"http://www.youtube.com/embed/https://www.youtube.com/watch?v=PHzoX2AIzqo\"\n",
        "                frameborder=\"0\"\n",
        "                allowfullscreen\n",
        "            ></iframe>\n",
        "        "
       ],
       "output_type": "pyout",
       "prompt_number": 24,
       "text": [
        "<IPython.lib.display.YouTubeVideo at 0x3e6d710>"
       ]
      }
     ],
     "prompt_number": 24
    },
    {
     "cell_type": "heading",
     "level": 2,
     "metadata": {},
     "source": [
      "IUPR Home Page"
     ]
    },
    {
     "cell_type": "code",
     "collapsed": false,
     "input": [
      "HTML(\"<iframe src='http://www.iupr.com/' width=1000 height=500>\")"
     ],
     "language": "python",
     "metadata": {},
     "outputs": [
      {
       "html": [
        "<iframe src='http://www.iupr.com/' width=1000 height=500>"
       ],
       "output_type": "pyout",
       "prompt_number": 20,
       "text": [
        "<IPython.core.display.HTML at 0x3e6d510>"
       ]
      }
     ],
     "prompt_number": 20
    },
    {
     "cell_type": "heading",
     "level": 2,
     "metadata": {},
     "source": [
      "NLPA Home Page"
     ]
    },
    {
     "cell_type": "code",
     "collapsed": false,
     "input": [
      "HTML(\"<iframe src='http://nlpa.iupr.com/' width=1000 height=500>\")"
     ],
     "language": "python",
     "metadata": {},
     "outputs": [
      {
       "html": [
        "<iframe src='http://nlpa.iupr.com/' width=1000 height=500>"
       ],
       "output_type": "pyout",
       "prompt_number": 21,
       "text": [
        "<IPython.core.display.HTML at 0x3e6d610>"
       ]
      }
     ],
     "prompt_number": 21
    },
    {
     "cell_type": "heading",
     "level": 2,
     "metadata": {},
     "source": [
      "Oral Exam Guide"
     ]
    },
    {
     "cell_type": "code",
     "collapsed": false,
     "input": [
      "HTML(\"<iframe src='http://goo.gl/SllCx' width=1000 height=500>\")"
     ],
     "language": "python",
     "metadata": {},
     "outputs": [
      {
       "html": [
        "<iframe src='http://goo.gl/SllCx' width=1000 height=500>"
       ],
       "output_type": "pyout",
       "prompt_number": 23,
       "text": [
        "<IPython.core.display.HTML at 0x3e6d290>"
       ]
      }
     ],
     "prompt_number": 23
    },
    {
     "cell_type": "heading",
     "level": 2,
     "metadata": {},
     "source": [
      "Keep in Mind"
     ]
    },
    {
     "cell_type": "markdown",
     "metadata": {},
     "source": [
      "- after each lecture, identify definition, concepts, algorithms, proofs\n",
      "- do all the exercises\n",
      "- come up with, and solve, your own problems"
     ]
    },
    {
     "cell_type": "code",
     "collapsed": false,
     "input": [],
     "language": "python",
     "metadata": {},
     "outputs": []
    }
   ],
   "metadata": {}
  }
 ]
}