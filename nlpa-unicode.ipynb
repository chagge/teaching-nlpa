{
 "metadata": {
  "name": "nlpa-unicode"
 },
 "nbformat": 3,
 "nbformat_minor": 0,
 "worksheets": [
  {
   "cells": [
    {
     "cell_type": "code",
     "collapsed": false,
     "input": [
      "import unicodedata"
     ],
     "language": "python",
     "metadata": {},
     "outputs": [],
     "prompt_number": 18
    },
    {
     "cell_type": "heading",
     "level": 1,
     "metadata": {},
     "source": [
      "ASCII and Unicode Strings"
     ]
    },
    {
     "cell_type": "markdown",
     "metadata": {},
     "source": [
      "Python has two types of \"strings\": byte strings and unicode strings.\n",
      "\n",
      "In fact, byte strings are used to represent multiple different kinds of data:\n",
      "\n",
      "- ASCII strings\n",
      "- arbitrary binary arrays of bytes\n",
      "- UTF-8 encoded unicode (as well as other encodings)\n",
      "\n",
      "These distinctions are not marked in the type.  \n",
      "In contrast, Unicode strings are always just strings.\n",
      "\n",
      "Syntax to note is:\n",
      "\n",
      "- strings are written as `\"...\"`\n",
      "- unicode strings are written as `u\"...\"`\n",
      "- non-printable characters can be *escaped* in various ways\n",
      "  - `\\x10` - byte 16 (hexadecimal)\n",
      "  - `\\10` - byte 8 (octal)\n",
      "  - `\\t` `\\n` `\\r` etc. - special characters\n",
      "- inside Unicode\n",
      "  - `\\uxxxx` 16 bit unicode character\n",
      "  - `\\Uxxxxxxxx` 32 bit unicode character\n"
     ]
    },
    {
     "cell_type": "code",
     "collapsed": false,
     "input": [
      "\"\\10\""
     ],
     "language": "python",
     "metadata": {},
     "outputs": [
      {
       "output_type": "pyout",
       "prompt_number": 82,
       "text": [
        "'\\\\d10'"
       ]
      }
     ],
     "prompt_number": 82
    },
    {
     "cell_type": "code",
     "collapsed": false,
     "input": [
      "type(\"Hello, World\")"
     ],
     "language": "python",
     "metadata": {},
     "outputs": [
      {
       "output_type": "pyout",
       "prompt_number": 19,
       "text": [
        "str"
       ]
      }
     ],
     "prompt_number": 19
    },
    {
     "cell_type": "code",
     "collapsed": false,
     "input": [
      "type(u\"Hallo, wie g\u00e4hhhtsch?\")"
     ],
     "language": "python",
     "metadata": {},
     "outputs": [
      {
       "output_type": "pyout",
       "prompt_number": 20,
       "text": [
        "unicode"
       ]
      }
     ],
     "prompt_number": 20
    },
    {
     "cell_type": "markdown",
     "metadata": {},
     "source": [
      "The functions `ord` and `unichr` convert individual characters."
     ]
    },
    {
     "cell_type": "code",
     "collapsed": false,
     "input": [
      "unichr(77)"
     ],
     "language": "python",
     "metadata": {},
     "outputs": [
      {
       "output_type": "pyout",
       "prompt_number": 2,
       "text": [
        "u'M'"
       ]
      }
     ],
     "prompt_number": 2
    },
    {
     "cell_type": "code",
     "collapsed": false,
     "input": [
      "ord(u\"\u3044\")"
     ],
     "language": "python",
     "metadata": {},
     "outputs": [
      {
       "output_type": "pyout",
       "prompt_number": 127,
       "text": [
        "12356"
       ]
      }
     ],
     "prompt_number": 127
    },
    {
     "cell_type": "markdown",
     "metadata": {},
     "source": [
      "We refer to the number (integer) of a Unicode character as its *codepoint*.\n",
      "\n",
      "Unicode is really primarily an assignment of codepoints to characters and their properties. \n",
      "\n",
      "(The second important part of Unicode is encodings; we look at those below.)"
     ]
    },
    {
     "cell_type": "markdown",
     "metadata": {},
     "source": [
      "The function `unicode` converts a string to a unicode string."
     ]
    },
    {
     "cell_type": "code",
     "collapsed": false,
     "input": [
      "unicode(\"abc\")"
     ],
     "language": "python",
     "metadata": {},
     "outputs": [
      {
       "output_type": "pyout",
       "prompt_number": 128,
       "text": [
        "u'abc'"
       ]
      }
     ],
     "prompt_number": 128
    },
    {
     "cell_type": "markdown",
     "metadata": {},
     "source": [
      "You can use `str` to convert from Unicode to a string, but it won't work for strings that can't be represented in ASCII.  You really need a *codec* (coder-decoder); see below."
     ]
    },
    {
     "cell_type": "code",
     "collapsed": false,
     "input": [
      "str(u\"abc\")"
     ],
     "language": "python",
     "metadata": {},
     "outputs": [
      {
       "output_type": "pyout",
       "prompt_number": 129,
       "text": [
        "'abc'"
       ]
      }
     ],
     "prompt_number": 129
    },
    {
     "cell_type": "code",
     "collapsed": false,
     "input": [
      "str(u\"\u00e4bc\")"
     ],
     "language": "python",
     "metadata": {},
     "outputs": [
      {
       "ename": "UnicodeEncodeError",
       "evalue": "'ascii' codec can't encode character u'\\xe4' in position 0: ordinal not in range(128)",
       "output_type": "pyerr",
       "traceback": [
        "\u001b[1;31m---------------------------------------------------------------------------\u001b[0m\n\u001b[1;31mUnicodeEncodeError\u001b[0m                        Traceback (most recent call last)",
        "\u001b[1;32m<ipython-input-130-3d6f994274e9>\u001b[0m in \u001b[0;36m<module>\u001b[1;34m()\u001b[0m\n\u001b[1;32m----> 1\u001b[1;33m \u001b[0mstr\u001b[0m\u001b[1;33m(\u001b[0m\u001b[1;34mu\"\u00e4bc\"\u001b[0m\u001b[1;33m)\u001b[0m\u001b[1;33m\u001b[0m\u001b[0m\n\u001b[0m",
        "\u001b[1;31mUnicodeEncodeError\u001b[0m: 'ascii' codec can't encode character u'\\xe4' in position 0: ordinal not in range(128)"
       ]
      }
     ],
     "prompt_number": 130
    },
    {
     "cell_type": "markdown",
     "metadata": {},
     "source": [
      "Note that there is a diference between displaying output and printing it; the former uses\n",
      "the `repr` method, that tries to represent code in an ASCII/source friendly way independent\n",
      "of encoding."
     ]
    },
    {
     "cell_type": "code",
     "collapsed": false,
     "input": [
      "print repr(unichr(0x200))\n",
      "unichr(0x200)"
     ],
     "language": "python",
     "metadata": {},
     "outputs": [
      {
       "output_type": "stream",
       "stream": "stdout",
       "text": [
        "u'\\u0200'\n"
       ]
      },
      {
       "output_type": "pyout",
       "prompt_number": 123,
       "text": [
        "u'\\u0200'"
       ]
      }
     ],
     "prompt_number": 123
    },
    {
     "cell_type": "code",
     "collapsed": false,
     "input": [
      "print unichr(0x200)"
     ],
     "language": "python",
     "metadata": {},
     "outputs": [
      {
       "output_type": "stream",
       "stream": "stdout",
       "text": [
        "\u0200\n"
       ]
      }
     ],
     "prompt_number": 124
    },
    {
     "cell_type": "markdown",
     "metadata": {},
     "source": [
      "Let's get an impression of what characters exist in Unicode."
     ]
    },
    {
     "cell_type": "code",
     "collapsed": false,
     "input": [
      "for i in range(0x0100,0x4000,256):\n",
      "    print \"%4x\"%i,\"\".join([unichr(j) for j in range(i,i+256,7)])"
     ],
     "language": "python",
     "metadata": {},
     "outputs": [
      {
       "output_type": "stream",
       "stream": "stdout",
       "text": [
        " 100 \u0100\u0107\u010e\u0115\u011c\u0123\u012a\u0131\u0138\u013f\u0146\u014d\u0154\u015b\u0162\u0169\u0170\u0177\u017e\u0185\u018c\u0193\u019a\u01a1\u01a8\u01af\u01b6\u01bd\u01c4\u01cb\u01d2\u01d9\u01e0\u01e7\u01ee\u01f5\u01fc\n",
        " 200 \u0200\u0207\u020e\u0215\u021c\u0223\u022a\u0231\u0238\u023f\u0246\u024d\u0254\u025b\u0262\u0269\u0270\u0277\u027e\u0285\u028c\u0293\u029a\u02a1\u02a8\u02af\u02b6\u02bd\u02c4\u02cb\u02d2\u02d9\u02e0\u02e7\u02ee\u02f5\u02fc\n",
        " 300 \u0338\u031c\u0323\u032a\u0331\u034d\u0354\u0300\u0307\u030e\u033f\u0346\u035b\u0369\u0315\u0362\u0370\u0377;\u0385\u038c\u0393\u039a\u03a1\u03a8\u03af\u03b6\u03bd\u03c4\u03cb\u03d2\u03d9\u03e0\u03e7\u03ee\u03f5\u03fc\n",
        " 400 \u0400\u0407\u040e\u0415\u041c\u0423\u042a\u0431\u0438\u043f\u0446\u044d\u0454\u045b\u0462\u0469\u0470\u0477\u047e\u0485\u048c\u0493\u049a\u04a1\u04a8\u04af\u04b6\u04bd\u04c4\u04cb\u04d2\u04d9\u04e0\u04e7\u04ee\u04f5\u04fc\n",
        " 500 \u0500\u0507\u050e\u0515\u051c\u0523\u052a\u0531\u0538\u053f\u0546\u054d\u0554\u055b\u0562\u0569\u0570\u0577\u057e\u0585\u058c\u05b6\u05bd\u059a\u0593\u05a1\u05a8\u05af\u05c4\u05cb\u05d2\u05d9\u05e0\u05e7\u05ee\u05f5\u05fc\n",
        " 600 \u0600\u0607\u060e\u0615\u061c\u0623\u062a\u0631\u0638\u063f\u0646\u064d\u0654\u065b\u0662\u0669\u0670\u0677\u067e\u0685\u068c\u0693\u069a\u06a1\u06a8\u06af\u06b6\u06bd\u06c4\u06cb\u06d2\u06d9\u06e0\u06e7\u06ee\u06f5\u06fc\n",
        " 700 \u0700\u0707\u070e\u0715\u071c\u0723\u072a\u0731\u0738\u0746\u073f\u074d\u0754\u075b\u0762\u0769\u0770\u0777\u077e\u0785\u078c\u0793\u079a\u07a1\u07a8\u07af\u07b6\u07bd\u07c4\u07cb\u07d2\u07d9\u07e0\u07e7\u07ee\u07f5\u07fc\n",
        " 800 \u0800\u0807\u080e\u0815\u081c\u0823\u082a\u0831\u0838\u083f\u0846\u084d\u0854\u085b\u0862\u0869\u0870\u0877\u087e\u0885\u088c\u0893\u089a\u08a1\u08a8\u08af\u08b6\u08bd\u08c4\u08cb\u08d2\u08d9\u08e0\u08e7\u08ee\u08f5\u08fc\n",
        " 900 \u0900\u0907\u090e\u0915\u091c\u0923\u092a\u0931\u0938\u093f\u0946\u094d\u0954\u091c\u093c\u0962\u0969\u0970\u0977\u097e\u0985\u098c\u0993\u099a\u09a1\u09a8\u09af\u09b6\u09bd\u09c4\u09cb\u09d2\u09d9\u09e0\u09e7\u09ee\u09f5\u09fc\n",
        " a00 \u0a00\u0a07\u0a0e\u0a15\u0a1c\u0a23\u0a2a\u0a31\u0a38\u0a3f\u0a46\u0a4d\u0a54\u0a1c\u0a3c\u0a62\u0a69\u0a70\u0a77\u0a7e\u0a85\u0a8c\u0a93\u0a9a\u0aa1\u0aa8\u0aaf\u0ab6\u0abd\u0ac4\u0acb\u0ad2\u0ad9\u0ae0\u0ae7\u0aee\u0af5\u0afc\n",
        " b00 \u0b00\u0b07\u0b0e\u0b15\u0b1c\u0b23\u0b2a\u0b31\u0b38\u0b3f\u0b46\u0b4d\u0b54\u0b5b\u0b62\u0b69\u0b70\u0b77\u0b7e\u0b85\u0b8c\u0b93\u0b9a\u0ba1\u0ba8\u0baf\u0bb6\u0bbd\u0bc4\u0bcb\u0bd2\u0bd9\u0be0\u0be7\u0bee\u0bf5\u0bfc\n",
        " c00 \u0c00\u0c07\u0c0e\u0c15\u0c1c\u0c23\u0c2a\u0c31\u0c38\u0c3f\u0c46\u0c4d\u0c54\u0c5b\u0c62\u0c69\u0c70\u0c77\u0c7e\u0c85\u0c8c\u0c93\u0c9a\u0ca1\u0ca8\u0caf\u0cb6\u0cbd\u0cc4\u0ccb\u0cd2\u0cd9\u0ce0\u0ce7\u0cee\u0cf5\u0cfc\n",
        " d00 \u0d00\u0d07\u0d0e\u0d15\u0d1c\u0d23\u0d2a\u0d31\u0d38\u0d3f\u0d46\u0d4d\u0d54\u0d5b\u0d62\u0d69\u0d70\u0d77\u0d7e\u0d85\u0d8c\u0d93\u0d9a\u0da1\u0da8\u0daf\u0db6\u0dbd\u0dc4\u0dcb\u0dd2\u0dd9\u0de0\u0de7\u0dee\u0df5\u0dfc\n",
        " e00 \u0e00\u0e07\u0e0e\u0e15\u0e1c\u0e23\u0e2a\u0e31\u0e38\u0e3f\u0e46\u0e4d\u0e54\u0e5b\u0e62\u0e69\u0e70\u0e77\u0e7e\u0e85\u0e8c\u0e93\u0e9a\u0ea1\u0ea8\u0eaf\u0eb6\u0ebd\u0ec4\u0ecb\u0ed2\u0ed9\u0ee0\u0ee7\u0eee\u0ef5\u0efc\n",
        " f00 \u0f00\u0f07\u0f0e\u0f15\u0f1c\u0f23\u0f2a\u0f31\u0f38\u0f3f\u0f46\u0f4c\u0fb7\u0f54\u0f5b\u0f62\u0f40\u0fb5\u0f70\u0f77\u0f7e\u0f85\u0f8c\u0f92\u0fb7\u0f9a\u0fa1\u0fa8\u0faf\u0fb6\u0fbd\u0fc4\u0fcb\u0fd2\u0fd9\u0fe0\u0fe7\u0fee\u0ff5\u0ffc\n",
        "1000 \u1000\u1007\u100e\u1015\u101c\u1023\u102a\u1031\u1038\u103f\u1046\u104d\u1054\u105b\u1062\u1069\u1070\u1077\u107e\u1085\u108c\u1093\u109a\u10a1\u10a8\u10af\u10b6\u10bd\u10c4\u10cb\u10d2\u10d9\u10e0\u10e7\u10ee\u10f5\u10fc\n",
        "1100 \u1100\u1107\u110e\u1115\u111c\u1123\u112a\u1131\u1138\u113f\u1146\u114d\u1154\u115b\u1162\u1169\u1170\u1177\u117e\u1185\u118c\u1193\u119a\u11a1\u11a8\u11af\u11b6\u11bd\u11c4\u11cb\u11d2\u11d9\u11e0\u11e7\u11ee\u11f5\u11fc\n",
        "1200 \u1200\u1207\u120e\u1215\u121c\u1223\u122a\u1231\u1238\u123f\u1246\u124d\u1254\u125b\u1262\u1269\u1270\u1277\u127e\u1285\u128c\u1293\u129a\u12a1\u12a8\u12af\u12b6\u12bd\u12c4\u12cb\u12d2\u12d9\u12e0\u12e7\u12ee\u12f5\u12fc\n",
        "1300 \u1300\u1307\u130e\u1315\u131c\u1323\u132a\u1331\u1338\u133f\u1346\u134d\u1354\u135b\u1362\u1369\u1370\u1377\u137e\u1385\u138c\u1393\u139a\u13a1\u13a8\u13af\u13b6\u13bd\u13c4\u13cb\u13d2\u13d9\u13e0\u13e7\u13ee\u13f5\u13fc\n",
        "1400 \u1400\u1407\u140e\u1415\u141c\u1423\u142a\u1431\u1438\u143f\u1446\u144d\u1454\u145b\u1462\u1469\u1470\u1477\u147e\u1485\u148c\u1493\u149a\u14a1\u14a8\u14af\u14b6\u14bd\u14c4\u14cb\u14d2\u14d9\u14e0\u14e7\u14ee\u14f5\u14fc\n",
        "1500 \u1500\u1507\u150e\u1515\u151c\u1523\u152a\u1531\u1538\u153f\u1546\u154d\u1554\u155b\u1562\u1569\u1570\u1577\u157e\u1585\u158c\u1593\u159a\u15a1\u15a8\u15af\u15b6\u15bd\u15c4\u15cb\u15d2\u15d9\u15e0\u15e7\u15ee\u15f5\u15fc\n",
        "1600 \u1600\u1607\u160e\u1615\u161c\u1623\u162a\u1631\u1638\u163f\u1646\u164d\u1654\u165b\u1662\u1669\u1670\u1677\u167e\u1685\u168c\u1693\u169a\u16a1\u16a8\u16af\u16b6\u16bd\u16c4\u16cb\u16d2\u16d9\u16e0\u16e7\u16ee\u16f5\u16fc\n",
        "1700 \u1700\u1707\u170e\u1715\u171c\u1723\u172a\u1731\u1738\u173f\u1746\u174d\u1754\u175b\u1762\u1769\u1770\u1777\u177e\u1785\u178c\u1793\u179a\u17a1\u17a8\u17af\u17b6\u17bd\u17c4\u17cb\u17d2\u17d9\u17e0\u17e7\u17ee\u17f5\u17fc\n",
        "1800 \u1800\u1807\u180e\u1815\u181c\u1823\u182a\u1831\u1838\u183f\u1846\u184d\u1854\u185b\u1862\u1869\u1870\u1877\u187e\u1885\u188c\u1893\u189a\u18a1\u18a8\u18af\u18b6\u18bd\u18c4\u18cb\u18d2\u18d9\u18e0\u18e7\u18ee\u18f5\u18fc\n",
        "1900 \u1900\u1907\u190e\u1915\u191c\u1923\u192a\u1931\u1938\u193f\u1946\u194d\u1954\u195b\u1962\u1969\u1970\u1977\u197e\u1985\u198c\u1993\u199a\u19a1\u19a8\u19af\u19b6\u19bd\u19c4\u19cb\u19d2\u19d9\u19e0\u19e7\u19ee\u19f5\u19fc\n",
        "1a00 \u1a00\u1a07\u1a0e\u1a15\u1a1c\u1a23\u1a2a\u1a31\u1a38\u1a3f\u1a46\u1a4d\u1a54\u1a5b\u1a62\u1a69\u1a70\u1a77\u1a7e\u1a85\u1a8c\u1a93\u1a9a\u1aa1\u1aa8\u1aaf\u1ab6\u1abd\u1ac4\u1acb\u1ad2\u1ad9\u1ae0\u1ae7\u1aee\u1af5\u1afc\n",
        "1b00 \u1b00\u1b07\u1b0e\u1b15\u1b1c\u1b23\u1b2a\u1b31\u1b38\u1b3f\u1b46\u1b4d\u1b54\u1b5b\u1b62\u1b69\u1b70\u1b77\u1b7e\u1b85\u1b8c\u1b93\u1b9a\u1ba1\u1ba8\u1baf\u1bb6\u1bbd\u1bc4\u1bcb\u1bd2\u1bd9\u1be0\u1be7\u1bee\u1bf5\u1bfc\n",
        "1c00 \u1c00\u1c07\u1c0e\u1c15\u1c1c\u1c23\u1c2a\u1c31\u1c38\u1c3f\u1c46\u1c4d\u1c54\u1c5b\u1c62\u1c69\u1c70\u1c77\u1c7e\u1c85\u1c8c\u1c93\u1c9a\u1ca1\u1ca8\u1caf\u1cb6\u1cbd\u1cc4\u1ccb\u1ce7\u1cd9\u1cd2\u1ce0\u1cee\u1cf5\u1cfc\n",
        "1d00 \u1d00\u1d07\u1d0e\u1d15\u1d1c\u1d23\u1d2a\u1d31\u1d38\u1d3f\u1d46\u1d4d\u1d54\u1d5b\u1d62\u1d69\u1d70\u1d77\u1d7e\u1d85\u1d8c\u1d93\u1d9a\u1da1\u1da8\u1daf\u1db6\u1dbd\u1dc4\u1dcb\u1dd2\u1dd9\u1de0\u1de7\u1dee\u1df5\u1dfc\n",
        "1e00 \u1e00\u1e07\u1e0e\u1e15\u1e1c\u1e23\u1e2a\u1e31\u1e38\u1e3f\u1e46\u1e4d\u1e54\u1e5b\u1e62\u1e69\u1e70\u1e77\u1e7e\u1e85\u1e8c\u1e93\u1e9a\u1ea1\u1ea8\u1eaf\u1eb6\u1ebd\u1ec4\u1ecb\u1ed2\u1ed9\u1ee0\u1ee7\u1eee\u1ef5\u1efc\n",
        "1f00 \u1f00\u1f07\u1f0e\u1f15\u1f1c\u1f23\u1f2a\u1f31\u1f38\u1f3f\u1f46\u1f4d\u1f54\u1f5b\u1f62\u1f69\u1f70\u03af\u1f7e\u1f85\u1f8c\u1f93\u1f9a\u1fa1\u1fa8\u1faf\u1fb6\u1fbd\u1fc4\u0389\u1fd2\u1fd9\u1fe0\u1fe7\u0385\u1ff5\u1ffc\n",
        "2000 \u2002\u2007\u200e\u2015\u201c\u2023\u202a\u2031\u2038\u203f\u2046\u204d\u2054\u205b\u2062\u2069\u2070\u2077\u207e\u2085\u208c\u2093\u209a\u20a1\u20a8\u20af\u20b6\u20bd\u20c4\u20cb\u20d2\u20d9\u20e0\u20ee\u20e7\u20f5\u20fc\n",
        "2100 \u2100\u2107\u210e\u2115\u211c\u2123K\u2131\u2138\u213f\u2146\u214d\u2154\u215b\u2162\u2169\u2170\u2177\u217e\u2185\u218c\u2193\u219a\u21a1\u21a8\u21af\u21b6\u21bd\u21c4\u21cb\u21d2\u21d9\u21e0\u21e7\u21ee\u21f5\u21fc\n",
        "2200 \u2200\u2207\u220e\u2215\u221c\u2223\u222a\u2231\u2238\u223f\u2246\u224d\u2254\u225b\u2262\u2269\u2270\u2277\u227e\u2285\u228c\u2293\u229a\u22a1\u22a8\u22af\u22b6\u22bd\u22c4\u22cb\u22d2\u22d9\u22e0\u22e7\u22ee\u22f5\u22fc\n",
        "2300 \u2300\u2307\u230e\u2315\u231c\u2323\u3009\u2331\u2338\u233f\u2346\u234d\u2354\u235b\u2362\u2369\u2370\u2377\u237e\u2385\u238c\u2393\u239a\u23a1\u23a8\u23af\u23b6\u23bd\u23c4\u23cb\u23d2\u23d9\u23e0\u23e7\u23ee\u23f5\u23fc\n",
        "2400 \u2400\u2407\u240e\u2415\u241c\u2423\u242a\u2431\u2438\u243f\u2446\u244d\u2454\u245b\u2462\u2469\u2470\u2477\u247e\u2485\u248c\u2493\u249a\u24a1\u24a8\u24af\u24b6\u24bd\u24c4\u24cb\u24d2\u24d9\u24e0\u24e7\u24ee\u24f5\u24fc\n",
        "2500 \u2500\u2507\u250e\u2515\u251c\u2523\u252a\u2531\u2538\u253f\u2546\u254d\u2554\u255b\u2562\u2569\u2570\u2577\u257e\u2585\u258c\u2593\u259a\u25a1\u25a8\u25af\u25b6\u25bd\u25c4\u25cb\u25d2\u25d9\u25e0\u25e7\u25ee\u25f5\u25fc\n",
        "2600 \u2600\u2607\u260e\u2615\u261c\u2623\u262a\u2631\u2638\u263f\u2646\u264d\u2654\u265b\u2662\u2669\u2670\u2677\u267e\u2685\u268c\u2693\u269a\u26a1\u26a8\u26af\u26b6\u26bd\u26c4\u26cb\u26d2\u26d9\u26e0\u26e7\u26ee\u26f5\u26fc\n",
        "2700 \u2700\u2707\u270e\u2715\u271c\u2723\u272a\u2731\u2738\u273f\u2746\u274d\u2754\u275b\u2762\u2769\u2770\u2777\u277e\u2785\u278c\u2793\u279a\u27a1\u27a8\u27af\u27b6\u27bd\u27c4\u27cb\u27d2\u27d9\u27e0\u27e7\u27ee\u27f5\u27fc\n",
        "2800 \u2800\u2807\u280e\u2815\u281c\u2823\u282a\u2831\u2838\u283f\u2846\u284d\u2854\u285b\u2862\u2869\u2870\u2877\u287e\u2885\u288c\u2893\u289a\u28a1\u28a8\u28af\u28b6\u28bd\u28c4\u28cb\u28d2\u28d9\u28e0\u28e7\u28ee\u28f5\u28fc\n",
        "2900 \u2900\u2907\u290e\u2915\u291c\u2923\u292a\u2931\u2938\u293f\u2946\u294d\u2954\u295b\u2962\u2969\u2970\u2977\u297e\u2985\u298c\u2993\u299a\u29a1\u29a8\u29af\u29b6\u29bd\u29c4\u29cb\u29d2\u29d9\u29e0\u29e7\u29ee\u29f5\u29fc\n",
        "2a00 \u2a00\u2a07\u2a0e\u2a15\u2a1c\u2a23\u2a2a\u2a31\u2a38\u2a3f\u2a46\u2a4d\u2a54\u2a5b\u2a62\u2a69\u2a70\u2a77\u2a7e\u2a85\u2a8c\u2a93\u2a9a\u2aa1\u2aa8\u2aaf\u2ab6\u2abd\u2ac4\u2acb\u2ad2\u2ad9\u2ae0\u2ae7\u2aee\u2af5\u2afc\n",
        "2b00 \u2b00\u2b07\u2b0e\u2b15\u2b1c\u2b23\u2b2a\u2b31\u2b38\u2b3f\u2b46\u2b4d\u2b54\u2b5b\u2b62\u2b69\u2b70\u2b77\u2b7e\u2b85\u2b8c\u2b93\u2b9a\u2ba1\u2ba8\u2baf\u2bb6\u2bbd\u2bc4\u2bcb\u2bd2\u2bd9\u2be0\u2be7\u2bee\u2bf5\u2bfc\n",
        "2c00 \u2c00\u2c07\u2c0e\u2c15\u2c1c\u2c23\u2c2a\u2c31\u2c38\u2c3f\u2c46\u2c4d\u2c54\u2c5b\u2c62\u2c69\u2c70\u2c77\u2c7e\u2c85\u2c8c\u2c93\u2c9a\u2ca1\u2ca8\u2caf\u2cb6\u2cbd\u2cc4\u2ccb\u2cd2\u2cd9\u2ce0\u2ce7\u2cee\u2cf5\u2cfc\n",
        "2d00 \u2d00\u2d07\u2d0e\u2d15\u2d1c\u2d23\u2d2a\u2d31\u2d38\u2d3f\u2d46\u2d4d\u2d54\u2d5b\u2d62\u2d69\u2d70\u2d77\u2d7e\u2d85\u2d8c\u2d93\u2d9a\u2da1\u2da8\u2daf\u2db6\u2dbd\u2dc4\u2dcb\u2dd2\u2dd9\u2de0\u2de7\u2dee\u2df5\u2dfc\n",
        "2e00 \u2e00\u2e07\u2e0e\u2e15\u2e1c\u2e23\u2e2a\u2e31\u2e38\u2e3f\u2e46\u2e4d\u2e54\u2e5b\u2e62\u2e69\u2e70\u2e77\u2e7e\u2e85\u2e8c\u2e93\u2e9a\u2ea1\u2ea8\u2eaf\u2eb6\u2ebd\u2ec4\u2ecb\u2ed2\u2ed9\u2ee0\u2ee7\u2eee\u2ef5\u2efc\n",
        "2f00 \u2f00\u2f07\u2f0e\u2f15\u2f1c\u2f23\u2f2a\u2f31\u2f38\u2f3f\u2f46\u2f4d\u2f54\u2f5b\u2f62\u2f69\u2f70\u2f77\u2f7e\u2f85\u2f8c\u2f93\u2f9a\u2fa1\u2fa8\u2faf\u2fb6\u2fbd\u2fc4\u2fcb\u2fd2\u2fd9\u2fe0\u2fe7\u2fee\u2ff5\u2ffc\n",
        "3000 \u3000\u3007\u300e\u3015\u301c\u3023\u302a\u3031\u3038\u303f\u3046\u304d\u3054\u305b\u3062\u3069\u3070\u3077\u307e\u3085\u308c\u3093\u309a\u30a1\u30a8\u30af\u30b6\u30bd\u30c4\u30cb\u30d2\u30d9\u30e0\u30e7\u30ee\u30f5\u30fc\n",
        "3100 \u3100\u3107\u310e\u3115\u311c\u3123\u312a\u3131\u3138\u313f\u3146\u314d\u3154\u315b\u3162\u3169\u3170\u3177\u317e\u3185\u318c\u3193\u319a\u31a1\u31a8\u31af\u31b6\u31bd\u31c4\u31cb\u31d2\u31d9\u31e0\u31e7\u31ee\u31f5\u31fc\n",
        "3200 \u3200\u3207\u320e\u3215\u321c\u3223\u322a\u3231\u3238\u323f\u3246\u324d\u3254\u325b\u3262\u3269\u3270\u3277\u327e\u3285\u328c\u3293\u329a\u32a1\u32a8\u32af\u32b6\u32bd\u32c4\u32cb\u32d2\u32d9\u32e0\u32e7\u32ee\u32f5\u32fc\n",
        "3300 \u3300\u3307\u330e\u3315\u331c\u3323\u332a\u3331\u3338\u333f\u3346\u334d\u3354\u335b\u3362\u3369\u3370\u3377\u337e\u3385\u338c\u3393\u339a\u33a1\u33a8\u33af\u33b6\u33bd\u33c4\u33cb\u33d2\u33d9\u33e0\u33e7\u33ee\u33f5\u33fc\n",
        "3400 \u3400\u3407\u340e\u3415\u341c\u3423\u342a\u3431\u3438\u343f\u3446\u344d\u3454\u345b\u3462\u3469\u3470\u3477\u347e\u3485\u348c\u3493\u349a\u34a1\u34a8\u34af\u34b6\u34bd\u34c4\u34cb\u34d2\u34d9\u34e0\u34e7\u34ee\u34f5\u34fc\n",
        "3500 \u3500\u3507\u350e\u3515\u351c\u3523\u352a\u3531\u3538\u353f\u3546\u354d\u3554\u355b\u3562\u3569\u3570\u3577\u357e\u3585\u358c\u3593\u359a\u35a1\u35a8\u35af\u35b6\u35bd\u35c4\u35cb\u35d2\u35d9\u35e0\u35e7\u35ee\u35f5\u35fc\n",
        "3600 \u3600\u3607\u360e\u3615\u361c\u3623\u362a\u3631\u3638\u363f\u3646\u364d\u3654\u365b\u3662\u3669\u3670\u3677\u367e\u3685\u368c\u3693\u369a\u36a1\u36a8\u36af\u36b6\u36bd\u36c4\u36cb\u36d2\u36d9\u36e0\u36e7\u36ee\u36f5\u36fc\n",
        "3700 \u3700\u3707\u370e\u3715\u371c\u3723\u372a\u3731\u3738\u373f\u3746\u374d\u3754\u375b\u3762\u3769\u3770\u3777\u377e\u3785\u378c\u3793\u379a\u37a1\u37a8\u37af\u37b6\u37bd\u37c4\u37cb\u37d2\u37d9\u37e0\u37e7\u37ee\u37f5\u37fc\n",
        "3800 \u3800\u3807\u380e\u3815\u381c\u3823\u382a\u3831\u3838\u383f\u3846\u384d\u3854\u385b\u3862\u3869\u3870\u3877\u387e\u3885\u388c\u3893\u389a\u38a1\u38a8\u38af\u38b6\u38bd\u38c4\u38cb\u38d2\u38d9\u38e0\u38e7\u38ee\u38f5\u38fc\n",
        "3900 \u3900\u3907\u390e\u3915\u391c\u3923\u392a\u3931\u3938\u393f\u3946\u394d\u3954\u395b\u3962\u3969\u3970\u3977\u397e\u3985\u398c\u3993\u399a\u39a1\u39a8\u39af\u39b6\u39bd\u39c4\u39cb\u39d2\u39d9\u39e0\u39e7\u39ee\u39f5\u39fc\n",
        "3a00 \u3a00\u3a07\u3a0e\u3a15\u3a1c\u3a23\u3a2a\u3a31\u3a38\u3a3f\u3a46\u3a4d\u3a54\u3a5b\u3a62\u3a69\u3a70\u3a77\u3a7e\u3a85\u3a8c\u3a93\u3a9a\u3aa1\u3aa8\u3aaf\u3ab6\u3abd\u3ac4\u3acb\u3ad2\u3ad9\u3ae0\u3ae7\u3aee\u3af5\u3afc\n",
        "3b00 \u3b00\u3b07\u3b0e\u3b15\u3b1c\u3b23\u3b2a\u3b31\u3b38\u3b3f\u3b46\u3b4d\u3b54\u3b5b\u3b62\u3b69\u3b70\u3b77\u3b7e\u3b85\u3b8c\u3b93\u3b9a\u3ba1\u3ba8\u3baf\u3bb6\u3bbd\u3bc4\u3bcb\u3bd2\u3bd9\u3be0\u3be7\u3bee\u3bf5\u3bfc\n",
        "3c00 \u3c00\u3c07\u3c0e\u3c15\u3c1c\u3c23\u3c2a\u3c31\u3c38\u3c3f\u3c46\u3c4d\u3c54\u3c5b\u3c62\u3c69\u3c70\u3c77\u3c7e\u3c85\u3c8c\u3c93\u3c9a\u3ca1\u3ca8\u3caf\u3cb6\u3cbd\u3cc4\u3ccb\u3cd2\u3cd9\u3ce0\u3ce7\u3cee\u3cf5\u3cfc\n",
        "3d00 \u3d00\u3d07\u3d0e\u3d15\u3d1c\u3d23\u3d2a\u3d31\u3d38\u3d3f\u3d46\u3d4d\u3d54\u3d5b\u3d62\u3d69\u3d70\u3d77\u3d7e\u3d85\u3d8c\u3d93\u3d9a\u3da1\u3da8\u3daf\u3db6\u3dbd\u3dc4\u3dcb\u3dd2\u3dd9\u3de0\u3de7\u3dee\u3df5\u3dfc\n",
        "3e00 \u3e00\u3e07\u3e0e\u3e15\u3e1c\u3e23\u3e2a\u3e31\u3e38\u3e3f\u3e46\u3e4d\u3e54\u3e5b\u3e62\u3e69\u3e70\u3e77\u3e7e\u3e85\u3e8c\u3e93\u3e9a\u3ea1\u3ea8\u3eaf\u3eb6\u3ebd\u3ec4\u3ecb\u3ed2\u3ed9\u3ee0\u3ee7\u3eee\u3ef5\u3efc\n",
        "3f00 \u3f00\u3f07\u3f0e\u3f15\u3f1c\u3f23\u3f2a\u3f31\u3f38\u3f3f\u3f46\u3f4d\u3f54\u3f5b\u3f62\u3f69\u3f70\u3f77\u3f7e\u3f85\u3f8c\u3f93\u3f9a\u3fa1\u3fa8\u3faf\u3fb6\u3fbd\u3fc4\u3fcb\u3fd2\u3fd9\u3fe0\u3fe7\u3fee\u3ff5\u3ffc\n"
       ]
      }
     ],
     "prompt_number": 17
    },
    {
     "cell_type": "heading",
     "level": 1,
     "metadata": {},
     "source": [
      "Encoding and Decoding"
     ]
    },
    {
     "cell_type": "markdown",
     "metadata": {},
     "source": [
      "There are three kind of \"strings\" you have to think about:\n",
      "\n",
      "- ASCII - the traditional US-English character set, used for most programming\n",
      "    - 128 code points\n",
      "    - 7 bits per character\n",
      "- Unicode - the full character set representing all characters in the world\n",
      "    - 110000 characters in 100 scripts\n",
      "- UTF-8 - an encoding of Unicode\n",
      "    - encoded Unicode with 8 bits per character\n",
      "\n",
      "Important property:\n",
      "\n",
      "The UTF-8, ASCII, and Unicode are all \"the same\" if all the characters are in the ASCII character set.\n",
      "\n",
      "In Python, encoding and decoding is performed via the `encode` and `decode` methods.\n",
      "They take a *codec* name as an argument (`ascii` or `utf-8` are the only ones that are\n",
      "relevant to us), plus an optional argument saying what should happen if a string\n",
      "is not de/encodable."
     ]
    },
    {
     "cell_type": "code",
     "collapsed": false,
     "input": [
      "u\"abc\".encode(\"ascii\")"
     ],
     "language": "python",
     "metadata": {},
     "outputs": [
      {
       "output_type": "pyout",
       "prompt_number": 61,
       "text": [
        "'abc'"
       ]
      }
     ],
     "prompt_number": 61
    },
    {
     "cell_type": "code",
     "collapsed": false,
     "input": [
      "u\"\u00e4bc\".encode(\"ascii\",\"replace\")"
     ],
     "language": "python",
     "metadata": {},
     "outputs": [
      {
       "output_type": "pyout",
       "prompt_number": 66,
       "text": [
        "'?bc'"
       ]
      }
     ],
     "prompt_number": 66
    },
    {
     "cell_type": "markdown",
     "metadata": {},
     "source": [
      "Let's look at a non-ASCII character.  As you can see here, the German umlaut \"\u00e4\" turns into a two character sequence when encoded in UTF-8.  Each character has the high bit set.  You can look up the exact encoding scheme online."
     ]
    },
    {
     "cell_type": "code",
     "collapsed": false,
     "input": [
      "u\"\u00e4bc\".encode(\"utf-8\")"
     ],
     "language": "python",
     "metadata": {},
     "outputs": [
      {
       "output_type": "pyout",
       "prompt_number": 67,
       "text": [
        "'\\xc3\\xa4bc'"
       ]
      }
     ],
     "prompt_number": 67
    },
    {
     "cell_type": "markdown",
     "metadata": {},
     "source": [
      "Some more unusual characters are encoded as four byte sequences in UTF-8."
     ]
    },
    {
     "cell_type": "code",
     "collapsed": false,
     "input": [
      "u\"\ud834\udf62\".encode(\"utf-8\")"
     ],
     "language": "python",
     "metadata": {},
     "outputs": [
      {
       "output_type": "pyout",
       "prompt_number": 68,
       "text": [
        "'\\xf0\\x9d\\x8d\\xa2'"
       ]
      }
     ],
     "prompt_number": 68
    },
    {
     "cell_type": "markdown",
     "metadata": {},
     "source": [
      "Note that although four bytes (i.e. 32 bits) are used for encoding this character, its codepoint is only 119650.\n",
      "That's because only a few bits are used from each 8 bit code."
     ]
    },
    {
     "cell_type": "code",
     "collapsed": false,
     "input": [
      "ord(u\"\ud834\udf62\")"
     ],
     "language": "python",
     "metadata": {},
     "outputs": [
      {
       "output_type": "pyout",
       "prompt_number": 83,
       "text": [
        "119650"
       ]
      }
     ],
     "prompt_number": 83
    },
    {
     "cell_type": "markdown",
     "metadata": {},
     "source": [
      "Of course, we can also decode."
     ]
    },
    {
     "cell_type": "code",
     "collapsed": false,
     "input": [
      "print '\\xc3\\xa4bc'.decode(\"utf-8\")"
     ],
     "language": "python",
     "metadata": {},
     "outputs": [
      {
       "output_type": "stream",
       "stream": "stdout",
       "text": [
        "\u00e4bc\n"
       ]
      }
     ],
     "prompt_number": 86
    },
    {
     "cell_type": "markdown",
     "metadata": {},
     "source": [
      "You get an error message if the decoding is not possible."
     ]
    },
    {
     "cell_type": "code",
     "collapsed": false,
     "input": [
      "print '\\xc3\\xa4bc'.decode(\"ascii\")"
     ],
     "language": "python",
     "metadata": {},
     "outputs": [
      {
       "ename": "UnicodeDecodeError",
       "evalue": "'ascii' codec can't decode byte 0xc3 in position 0: ordinal not in range(128)",
       "output_type": "pyerr",
       "traceback": [
        "\u001b[1;31m---------------------------------------------------------------------------\u001b[0m\n\u001b[1;31mUnicodeDecodeError\u001b[0m                        Traceback (most recent call last)",
        "\u001b[1;32m<ipython-input-87-d1315b67a57b>\u001b[0m in \u001b[0;36m<module>\u001b[1;34m()\u001b[0m\n\u001b[1;32m----> 1\u001b[1;33m \u001b[1;32mprint\u001b[0m \u001b[1;34m'\\xc3\\xa4bc'\u001b[0m\u001b[1;33m.\u001b[0m\u001b[0mdecode\u001b[0m\u001b[1;33m(\u001b[0m\u001b[1;34m\"ascii\"\u001b[0m\u001b[1;33m)\u001b[0m\u001b[1;33m\u001b[0m\u001b[0m\n\u001b[0m",
        "\u001b[1;31mUnicodeDecodeError\u001b[0m: 'ascii' codec can't decode byte 0xc3 in position 0: ordinal not in range(128)"
       ]
      }
     ],
     "prompt_number": 87
    },
    {
     "cell_type": "heading",
     "level": 1,
     "metadata": {},
     "source": [
      "File I/O"
     ]
    },
    {
     "cell_type": "markdown",
     "metadata": {},
     "source": [
      "Standard file descriptors in Python cannot encode/decode UTF-8."
     ]
    },
    {
     "cell_type": "code",
     "collapsed": false,
     "input": [
      "with open(\"temp\",\"w\") as stream: stream.write(u\"K\u00e4se und Brot\")"
     ],
     "language": "python",
     "metadata": {},
     "outputs": [
      {
       "ename": "UnicodeEncodeError",
       "evalue": "'ascii' codec can't encode character u'\\xe4' in position 1: ordinal not in range(128)",
       "output_type": "pyerr",
       "traceback": [
        "\u001b[1;31m---------------------------------------------------------------------------\u001b[0m\n\u001b[1;31mUnicodeEncodeError\u001b[0m                        Traceback (most recent call last)",
        "\u001b[1;32m<ipython-input-73-3a350ad9897f>\u001b[0m in \u001b[0;36m<module>\u001b[1;34m()\u001b[0m\n\u001b[1;32m----> 1\u001b[1;33m \u001b[1;32mwith\u001b[0m \u001b[0mopen\u001b[0m\u001b[1;33m(\u001b[0m\u001b[1;34m\"temp\"\u001b[0m\u001b[1;33m,\u001b[0m\u001b[1;34m\"w\"\u001b[0m\u001b[1;33m)\u001b[0m \u001b[1;32mas\u001b[0m \u001b[0mstream\u001b[0m\u001b[1;33m:\u001b[0m \u001b[0mstream\u001b[0m\u001b[1;33m.\u001b[0m\u001b[0mwrite\u001b[0m\u001b[1;33m(\u001b[0m\u001b[1;34mu\"K\u00e4se und Brot\"\u001b[0m\u001b[1;33m)\u001b[0m\u001b[1;33m\u001b[0m\u001b[0m\n\u001b[0m",
        "\u001b[1;31mUnicodeEncodeError\u001b[0m: 'ascii' codec can't encode character u'\\xe4' in position 1: ordinal not in range(128)"
       ]
      }
     ],
     "prompt_number": 73
    },
    {
     "cell_type": "markdown",
     "metadata": {},
     "source": [
      "To read and write Unicode, use the `codecs.open` function.\n",
      "It returns a standard file object, but it does the right kind of\n",
      "encoding/decoding for UTF-8."
     ]
    },
    {
     "cell_type": "code",
     "collapsed": false,
     "input": [
      "import codecs\n",
      "with codecs.open(\"temp\",\"w\",\"utf-8\") as stream: stream.write(u\"K\u00e4se und Brot\")"
     ],
     "language": "python",
     "metadata": {},
     "outputs": [],
     "prompt_number": 76
    },
    {
     "cell_type": "code",
     "collapsed": false,
     "input": [
      "with codecs.open(\"temp\",\"r\",\"utf-8\") as stream: print stream.read()"
     ],
     "language": "python",
     "metadata": {},
     "outputs": [
      {
       "output_type": "stream",
       "stream": "stdout",
       "text": [
        "K\u00e4se und Brot\n"
       ]
      }
     ],
     "prompt_number": 77
    },
    {
     "cell_type": "code",
     "collapsed": false,
     "input": [
      "!cat -v temp"
     ],
     "language": "python",
     "metadata": {},
     "outputs": [
      {
       "output_type": "stream",
       "stream": "stdout",
       "text": [
        "KM-CM-$se und Brot"
       ]
      }
     ],
     "prompt_number": 78
    },
    {
     "cell_type": "heading",
     "level": 1,
     "metadata": {},
     "source": [
      "Unicode Data"
     ]
    },
    {
     "cell_type": "markdown",
     "metadata": {},
     "source": [
      "The Unicode consortium defines a lot of information associated with each codepoint.\n",
      "In Python, you can query this information using the `unicodedata` library."
     ]
    },
    {
     "cell_type": "code",
     "collapsed": false,
     "input": [
      "import unicodedata"
     ],
     "language": "python",
     "metadata": {},
     "outputs": []
    },
    {
     "cell_type": "markdown",
     "metadata": {},
     "source": [
      "Information about each codepoint includes:\n",
      "\n",
      "- the full name of the character\n",
      "- the block it is from\n",
      "- a two letter category (e.g., \"Ll\" for Letter, lower case)\n",
      "- whether it is a combining character\n",
      "- the writing direction (BIDI)\n",
      "- what it decomposes into, if anything\n",
      "- whether it is a mirror of another character\n",
      "- the version of Unicode that defines it\n",
      "- additional information about some characters, like the numerical value of digits"
     ]
    },
    {
     "cell_type": "code",
     "collapsed": false,
     "input": [
      "unicodedata.name(u\"\u00e4\")"
     ],
     "language": "python",
     "metadata": {},
     "outputs": [
      {
       "output_type": "pyout",
       "prompt_number": 110,
       "text": [
        "'LATIN SMALL LETTER A WITH DIAERESIS'"
       ]
      }
     ],
     "prompt_number": 110
    },
    {
     "cell_type": "code",
     "collapsed": false,
     "input": [
      "unicodedata.category(u\"\u00e4\")"
     ],
     "language": "python",
     "metadata": {},
     "outputs": [
      {
       "output_type": "pyout",
       "prompt_number": 115,
       "text": [
        "'Ll'"
       ]
      }
     ],
     "prompt_number": 115
    },
    {
     "cell_type": "code",
     "collapsed": false,
     "input": [
      "ord(u\"\u00e4\")"
     ],
     "language": "python",
     "metadata": {},
     "outputs": [
      {
       "output_type": "pyout",
       "prompt_number": 111,
       "text": [
        "228"
       ]
      }
     ],
     "prompt_number": 111
    },
    {
     "cell_type": "code",
     "collapsed": false,
     "input": [
      "unicodedata.decimal(u\"3\")"
     ],
     "language": "python",
     "metadata": {},
     "outputs": [
      {
       "output_type": "pyout",
       "prompt_number": 112,
       "text": [
        "3"
       ]
      }
     ],
     "prompt_number": 112
    },
    {
     "cell_type": "code",
     "collapsed": false,
     "input": [
      "unicodedata.numeric(u\"\u56db\")"
     ],
     "language": "python",
     "metadata": {},
     "outputs": [
      {
       "output_type": "pyout",
       "prompt_number": 113,
       "text": [
        "4.0"
       ]
      }
     ],
     "prompt_number": 113
    },
    {
     "cell_type": "code",
     "collapsed": false,
     "input": [
      "unicodedata.category(u\"\u00df\")"
     ],
     "language": "python",
     "metadata": {},
     "outputs": [
      {
       "output_type": "pyout",
       "prompt_number": 114,
       "text": [
        "'Ll'"
       ]
      }
     ],
     "prompt_number": 114
    },
    {
     "cell_type": "heading",
     "level": 1,
     "metadata": {},
     "source": [
      "Decomposition and Normalization"
     ]
    },
    {
     "cell_type": "markdown",
     "metadata": {},
     "source": [
      "Various letters are really just combined forms of separate parts.\n",
      "\n",
      "For example, the letter \"\u00e4\" can be viewed as a combination of the letter \"a\" with the diacritic \" \u0308\".\n",
      "\n",
      "The Unicode consortium hasn't been consistent about how to represent these, so the same letter as it appears on the screen can be represented in two different ways."
     ]
    },
    {
     "cell_type": "code",
     "collapsed": false,
     "input": [
      "print u'\\u00e4'\n",
      "print u'a\\u0308'"
     ],
     "language": "python",
     "metadata": {},
     "outputs": [
      {
       "output_type": "stream",
       "stream": "stdout",
       "text": [
        "\u00e4\n",
        "\u00e4\n"
       ]
      }
     ],
     "prompt_number": 120
    },
    {
     "cell_type": "markdown",
     "metadata": {},
     "source": [
      "Although these strings look the same, they are represented differently."
     ]
    },
    {
     "cell_type": "code",
     "collapsed": false,
     "input": [
      "u'\\u00e4'==u'a\\u0308'"
     ],
     "language": "python",
     "metadata": {},
     "outputs": [
      {
       "output_type": "pyout",
       "prompt_number": 121,
       "text": [
        "False"
       ]
      }
     ],
     "prompt_number": 121
    },
    {
     "cell_type": "markdown",
     "metadata": {},
     "source": [
      "Unicodedata can decompose characters."
     ]
    },
    {
     "cell_type": "code",
     "collapsed": false,
     "input": [
      "unicodedata.decomposition(u\"\u00e4\")"
     ],
     "language": "python",
     "metadata": {},
     "outputs": [
      {
       "output_type": "pyout",
       "prompt_number": 30,
       "text": [
        "'0061 0308'"
       ]
      }
     ],
     "prompt_number": 30
    },
    {
     "cell_type": "markdown",
     "metadata": {},
     "source": [
      "More generally, it can normalize a string into one of four forms:\n",
      "\n",
      "- NFD - decomposed by canonical equivalence, combining characters arranged in specific order\n",
      "- NFC - decomposed and then recomposed by canonical equivalence\n",
      "- NFKD - decomposed by compatibility, combining characters arranged in specific order\n",
      "- NFKC - decomposed by compatibility, then recomposed by canonical equivalence\n",
      "\n",
      "What does this mean?\n",
      "\n",
      "- canonical equivalence: same appearance and same meaning when printed\n",
      "- compatible: distinct appearance but usually the same meaning\n",
      "\n",
      "For example, \"ff\" as a ligature is compatible with the two letters \"ff\", but not canonically equivalent (since they look different).\n",
      "\n",
      "- NFC - best compatibility with conversions from legacy encodings\n",
      "- NFKC - preferred for identifiers, best security\n",
      "- NFD - easier to process\n",
      "- NFKD - easier to process\n",
      "\n",
      "Yes, unfortunately, you do need to worry about this."
     ]
    },
    {
     "cell_type": "code",
     "collapsed": false,
     "input": [
      "for n in [\"NFC\",\"NFKC\",\"NFD\",\"NFKD\"]:\n",
      "    s = unicodedata.normalize(n,u\"\u00e4\")\n",
      "    print n,repr(s),s"
     ],
     "language": "python",
     "metadata": {},
     "outputs": [
      {
       "output_type": "stream",
       "stream": "stdout",
       "text": [
        "NFC u'\\xe4' \u00e4\n",
        "NFKC u'\\xe4' \u00e4\n",
        "NFD u'a\\u0308' \u00e4\n",
        "NFKD u'a\\u0308' \u00e4\n"
       ]
      }
     ],
     "prompt_number": 37
    },
    {
     "cell_type": "code",
     "collapsed": false,
     "input": [
      "print u\"r\\u0308\""
     ],
     "language": "python",
     "metadata": {},
     "outputs": [
      {
       "output_type": "stream",
       "stream": "stdout",
       "text": [
        "r\u0308\n"
       ]
      }
     ],
     "prompt_number": 106
    },
    {
     "cell_type": "code",
     "collapsed": false,
     "input": [
      "print u\"+\\u0308\""
     ],
     "language": "python",
     "metadata": {},
     "outputs": [
      {
       "output_type": "stream",
       "stream": "stdout",
       "text": [
        "+\u0308\n"
       ]
      }
     ],
     "prompt_number": 107
    },
    {
     "cell_type": "code",
     "collapsed": false,
     "input": [
      "print u\"\\u0308\""
     ],
     "language": "python",
     "metadata": {},
     "outputs": [
      {
       "output_type": "stream",
       "stream": "stdout",
       "text": [
        "\u0308\n"
       ]
      }
     ],
     "prompt_number": 108
    },
    {
     "cell_type": "code",
     "collapsed": false,
     "input": [
      "print u\" \\u0308\""
     ],
     "language": "python",
     "metadata": {},
     "outputs": [
      {
       "output_type": "stream",
       "stream": "stdout",
       "text": [
        " \u0308\n"
       ]
      }
     ],
     "prompt_number": 109
    },
    {
     "cell_type": "heading",
     "level": 1,
     "metadata": {},
     "source": [
      "Ligatures"
     ]
    },
    {
     "cell_type": "markdown",
     "metadata": {},
     "source": [
      "Many languages have ligatures.  In some languages and scripts (e.g., German), ligatures like \"\u00e4\" and \"\u00df\" have become letters in their own right.  In other scripts, ligatures are just different presentations depending on the context a character appears in; in those cases, Unicode does not represent ligatures as separate code points."
     ]
    },
    {
     "cell_type": "markdown",
     "metadata": {},
     "source": [
      "Here is an example in Arabic.  Note how the string looks very different when printed a character at a time vs. when printed as a word (also note that Arabic is a right-to-left language):"
     ]
    },
    {
     "cell_type": "code",
     "collapsed": false,
     "input": [
      "s = u\"\u0643\u062a\u0627\u0628\""
     ],
     "language": "python",
     "metadata": {},
     "outputs": [],
     "prompt_number": 91
    },
    {
     "cell_type": "code",
     "collapsed": false,
     "input": [
      "print s"
     ],
     "language": "python",
     "metadata": {},
     "outputs": [
      {
       "output_type": "stream",
       "stream": "stdout",
       "text": [
        "\u0643\u062a\u0627\u0628\n"
       ]
      }
     ],
     "prompt_number": 92
    },
    {
     "cell_type": "code",
     "collapsed": false,
     "input": [
      "for c in s: print c,\n",
      "print"
     ],
     "language": "python",
     "metadata": {},
     "outputs": [
      {
       "output_type": "stream",
       "stream": "stdout",
       "text": [
        "\u0643 \u062a \u0627 \u0628\n"
       ]
      }
     ],
     "prompt_number": 95
    },
    {
     "cell_type": "markdown",
     "metadata": {},
     "source": [
      "In contrast, the \"ffi\" ligature in English has its own Unicode codepoint."
     ]
    },
    {
     "cell_type": "code",
     "collapsed": false,
     "input": [
      "s = u\"a\\ufb03ne\""
     ],
     "language": "python",
     "metadata": {},
     "outputs": [],
     "prompt_number": 96
    },
    {
     "cell_type": "code",
     "collapsed": false,
     "input": [
      "print s"
     ],
     "language": "python",
     "metadata": {},
     "outputs": [
      {
       "output_type": "stream",
       "stream": "stdout",
       "text": [
        "a\ufb03ne\n"
       ]
      }
     ],
     "prompt_number": 97
    },
    {
     "cell_type": "code",
     "collapsed": false,
     "input": [
      "for c in s: print c,\n",
      "print"
     ],
     "language": "python",
     "metadata": {},
     "outputs": [
      {
       "output_type": "stream",
       "stream": "stdout",
       "text": [
        "a \ufb03 n e\n"
       ]
      }
     ],
     "prompt_number": 98
    },
    {
     "cell_type": "code",
     "collapsed": false,
     "input": [
      "s==u\"affine\""
     ],
     "language": "python",
     "metadata": {},
     "outputs": [
      {
       "output_type": "pyout",
       "prompt_number": 102,
       "text": [
        "False"
       ]
      }
     ],
     "prompt_number": 102
    },
    {
     "cell_type": "code",
     "collapsed": false,
     "input": [
      "unicodedata.normalize(\"NFKD\",s)"
     ],
     "language": "python",
     "metadata": {},
     "outputs": [
      {
       "output_type": "pyout",
       "prompt_number": 103,
       "text": [
        "u'affine'"
       ]
      }
     ],
     "prompt_number": 103
    },
    {
     "cell_type": "code",
     "collapsed": false,
     "input": [
      "unicodedata.normalize(\"NFKD\",s)==unicodedata.normalize(\"NFKD\",u\"affine\")"
     ],
     "language": "python",
     "metadata": {},
     "outputs": [
      {
       "output_type": "pyout",
       "prompt_number": 122,
       "text": [
        "True"
       ]
      }
     ],
     "prompt_number": 122
    },
    {
     "cell_type": "code",
     "collapsed": false,
     "input": [],
     "language": "python",
     "metadata": {},
     "outputs": []
    }
   ],
   "metadata": {}
  }
 ]
}