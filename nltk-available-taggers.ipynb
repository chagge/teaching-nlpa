{
 "metadata": {
  "name": "nltk-available-taggers"
 },
 "nbformat": 3,
 "nbformat_minor": 0,
 "worksheets": [
  {
   "cells": [
    {
     "cell_type": "code",
     "collapsed": false,
     "input": [
      "import nltk\n",
      "import tagutils; reload(tagutils)\n",
      "from tagutils import *"
     ],
     "language": "python",
     "metadata": {},
     "outputs": [],
     "prompt_number": 222
    },
    {
     "cell_type": "heading",
     "level": 1,
     "metadata": {},
     "source": [
      "Tagged Corpora"
     ]
    },
    {
     "cell_type": "code",
     "collapsed": false,
     "input": [
      "from nltk.corpus import brown"
     ],
     "language": "python",
     "metadata": {},
     "outputs": [],
     "prompt_number": 143
    },
    {
     "cell_type": "markdown",
     "metadata": {},
     "source": [
      "Remember that we were working with manually tagged corpora.\n",
      "The tags are awfully hard to visualize by themselves, so I'll\n",
      "use a simple color coding scheme to display them a little more\n",
      "clearly."
     ]
    },
    {
     "cell_type": "code",
     "collapsed": false,
     "input": [
      "stags([(\"World\",\"NN\")])"
     ],
     "language": "python",
     "metadata": {},
     "outputs": [
      {
       "output_type": "pyout",
       "prompt_number": 208,
       "text": [
        "\"<font color='blue' size=+1>World</font>\""
       ]
      }
     ],
     "prompt_number": 208
    },
    {
     "cell_type": "code",
     "collapsed": false,
     "input": [
      "HTML(stags(brown.tagged_sents()[100]))"
     ],
     "language": "python",
     "metadata": {},
     "outputs": [
      {
       "html": [
        "<font color='blue' size=+1>Daniel</font> personally <font color='red' size=+2>led</font> <font size=-2>the</font> <font color='blue' size=+1>fight</font> <font color='#c08000' size=+2>for</font> <font size=-2>the</font> <font color='blue' size=+1>measure</font> , which <font color='#8080ff' size=+1>he</font> had <font color='red' size=+2>watered</font> down considerably <font color='#c08000' size=+2>since</font> <font color='#8080ff' size=+1>its</font> <font color='blue' size=+1>rejection</font> <font color='#c08000' size=+2>by</font> two <font color='green'>previous</font> <font color='blue' size=+1>Legislatures</font> , <font color='#c08000' size=+2>in</font> <font size=-2>a</font> <font color='green'>public</font> <font color='blue' size=+1>hearing</font> <font color='#c08000' size=+2>before</font> <font size=-2>the</font> <font color='blue' size=+1>House</font> <font color='blue' size=+1>Committee</font> on <font color='blue' size=+1>Revenue</font> and <font color='blue' size=+1>Taxation</font> ."
       ],
       "output_type": "pyout",
       "prompt_number": 210,
       "text": [
        "<IPython.core.display.HTML at 0xc931790>"
       ]
      }
     ],
     "prompt_number": 210
    },
    {
     "cell_type": "heading",
     "level": 1,
     "metadata": {},
     "source": [
      "Some Test Sentences"
     ]
    },
    {
     "cell_type": "markdown",
     "metadata": {},
     "source": [
      "Let's create some untagged sample sentences"
     ]
    },
    {
     "cell_type": "code",
     "collapsed": false,
     "input": [
      "text = \"\"\"\n",
      "John loves Jane.\n",
      "\n",
      "Peter and John both like Mozart.\n",
      "\n",
      "Peter speaks like a politician.\n",
      "\n",
      "Banana flies like fruit.\n",
      "\n",
      "Some flies like banana.\n",
      "\n",
      "Think different.\n",
      "\n",
      "Think differently.\n",
      "\n",
      "John likes ice cream and Peter likes to sing.\n",
      "\n",
      "The man harvested a ripe coconut with a bush knife.\n",
      "\n",
      "On the basis of the physical interpretation of distance which has been\n",
      "indicated, we are also in a position to establish the distance between\n",
      "two points on a rigid body by means of measurements.\n",
      "\n",
      "We will not speak of all Queequeg's peculiarities here; how he eschewed \n",
      "coffee and hot rolls, and applied his undivided attention to beefsteaks, done rare.\n",
      "\n",
      "Voters in Catalonia delivered victory to separatist parties \n",
      "in a regional election on Sunday, raising the likelihood that Spain's\n",
      "most powerful economic region will hold an independence referendum that \n",
      "Madrid has vowed to block.\n",
      "\"\"\""
     ],
     "language": "python",
     "metadata": {},
     "outputs": [],
     "prompt_number": 212
    },
    {
     "cell_type": "code",
     "collapsed": false,
     "input": [
      "misc_sents = [nltk.word_tokenize(s) for s in nltk.sent_tokenize(text)]\n",
      "from nltk.corpus import gutenberg\n",
      "alice_sents = gutenberg.sents(\"carroll-alice.txt\")[130:140]\n",
      "sents = misc_sents+alice_sents\n",
      "sents[3]"
     ],
     "language": "python",
     "metadata": {},
     "outputs": [
      {
       "output_type": "pyout",
       "prompt_number": 215,
       "text": [
        "['Banana', 'flies', 'like', 'fruit', '.']"
       ]
      }
     ],
     "prompt_number": 215
    },
    {
     "cell_type": "heading",
     "level": 1,
     "metadata": {},
     "source": [
      "The Default Tagger"
     ]
    },
    {
     "cell_type": "code",
     "collapsed": false,
     "input": [
      "dtagged = [nltk.pos_tag(s) for s in sents]"
     ],
     "language": "python",
     "metadata": {},
     "outputs": [
      {
       "html": [
        "[0] <font color='blue' size=+1>John</font> <font color='red' size=+2>loves</font> <font color='blue' size=+1>Jane</font> .<p>\n",
        "[1] <font color='blue' size=+1>Peter</font> <font color='purple' size=+1>and</font> <font color='blue' size=+1>John</font> both <font color='red' size=+2>like</font> <font color='blue' size=+1>Mozart</font> .<p>\n",
        "[2] <font color='blue' size=+1>Peter</font> <font color='red' size=+2>speaks</font> <font color='purple' size=+1>like</font> <font size=-2>a</font> <font color='blue' size=+1>politician</font> .<p>\n",
        "[3] <i>[Banana]</i> <font color='red' size=+2>flies</font> <font color='purple' size=+1>like</font> <font color='blue' size=+1>fruit</font> .<p>\n",
        "[4] Some <font color='blue' size=+1>flies</font> <font color='purple' size=+1>like</font> <font color='blue' size=+1>banana</font> .<p>\n",
        "[5] <font color='blue' size=+1>John</font> <font color='red' size=+2>likes</font> <font color='blue' size=+1>ice</font> <font color='blue' size=+1>cream</font> <font color='purple' size=+1>and</font> <font color='blue' size=+1>Peter</font> <font color='red' size=+2>likes</font> to <font color='red' size=+2>sing</font> .<p>\n",
        "[6] <font size=-2>The</font> <font color='blue' size=+1>man</font> <font color='red' size=+2>harvested</font> <font size=-2>a</font> <font color='green'>ripe</font> <font color='blue' size=+1>coconut</font> <font color='#c08000' size=+2>with</font> <font size=-2>a</font> <font color='blue' size=+1>bush</font> <font color='blue' size=+1>knife</font> .<p>\n",
        "[7] <font color='#c08000' size=+2>On</font> <font size=-2>the</font> <font color='blue' size=+1>basis</font> <font color='#c08000' size=+2>of</font> <font size=-2>the</font> <font color='green'>physical</font> <font color='blue' size=+1>interpretation</font> <font color='#c08000' size=+2>of</font> <font color='blue' size=+1>distance</font> which has been <font color='red' size=+2>indicated</font> , <font color='#8080ff' size=+1>we</font> are also <font color='#c08000' size=+2>in</font> <font size=-2>a</font> <font color='blue' size=+1>position</font> to <font color='red' size=+2>establish</font> <font size=-2>the</font> <font color='blue' size=+1>distance</font> <font color='#c08000' size=+2>between</font> two <font color='blue' size=+1>points</font> <font color='#c08000' size=+2>on</font> <font size=-2>a</font> <font color='green'>rigid</font> <font color='blue' size=+1>body</font> <font color='#c08000' size=+2>by</font> <font color='blue' size=+1>means</font> <font color='#c08000' size=+2>of</font> <font color='blue' size=+1>measurements</font> .<p>\n",
        "[8] <font color='#8080ff' size=+1>We</font> <font color='red'>will</font> not <font color='red' size=+2>speak</font> <font color='#c08000' size=+2>of</font> all <i>[Queequeg]</i> <i>['s]</i> <font color='blue' size=+1>peculiarities</font> here ; how <font color='#8080ff' size=+1>he</font> <font color='red' size=+2>eschewed</font> <font color='blue' size=+1>coffee</font> <font color='purple' size=+1>and</font> <font color='green'>hot</font> <font color='blue' size=+1>rolls</font> , <font color='purple' size=+1>and</font> <font color='red' size=+2>applied</font> <font color='#8080ff' size=+1>his</font> <font color='green'>undivided</font> <font color='blue' size=+1>attention</font> <font color='#c08000' size=+2>to</font> <i>[beefsteaks]</i> , <font color='red' size=+2>done</font> <font color='green'>rare</font> .<p>\n",
        "[9] <font color='blue' size=+1>Voters</font> <font color='#c08000' size=+2>in</font> <i>[Catalonia]</i> <font color='red' size=+2>delivered</font> <font color='blue' size=+1>victory</font> <font color='#c08000' size=+2>to</font> <i>[separatist]</i> <font color='blue' size=+1>parties</font> <font color='#c08000' size=+2>in</font> <font size=-2>a</font> <font color='green'>regional</font> <font color='blue' size=+1>election</font> <font color='#c08000' size=+2>on</font> <font color='blue' size=+1>Sunday</font> , <font color='red' size=+2>raising</font> <font size=-2>the</font> <font color='blue' size=+1>likelihood</font> <font color='purple' size=+1>that</font> <font color='blue' size=+1>Spain</font> <i>['s]</i> most <font color='green'>powerful</font> <font color='green'>economic</font> <font color='blue' size=+1>region</font> <font color='red'>will</font> <font color='red' size=+2>hold</font> <font size=-2>an</font> <font color='blue' size=+1>independence</font> <font color='blue' size=+1>referendum</font> <font color='purple' size=+1>that</font> <font color='blue' size=+1>Madrid</font> has <font color='red' size=+2>vowed</font> to <font color='red' size=+2>block</font> .<p>\n",
        "[10] <font color='blue' size=+1>Alice</font> <font color='red' size=+2>took</font> up <font size=-2>the</font> <font color='blue' size=+1>fan</font> <font color='purple' size=+1>and</font> <font color='blue' size=+1>gloves</font> , <font color='purple' size=+1>and</font> , <font color='purple' size=+1>as</font> <font size=-2>the</font> <font color='blue' size=+1>hall</font> was very <font color='green'>hot</font> , <font color='#8080ff' size=+1>she</font> <font color='red' size=+2>kept</font> <font color='red' size=+2>fanning</font> <font color='#8080ff' size=+1>herself</font> all <font size=-2>the</font> <font color='blue' size=+1>time</font> <font color='#8080ff' size=+1>she</font> <font color='red' size=+2>went</font> <font color='#c08000' size=+2>on</font> <font color='red' size=+2>talking</font> : ' <font color='green'>Dear</font> , <font color='green'>dear</font> !<p>\n",
        "[11] How <font color='green'>queer</font> everything is to <font color='#c08000' size=+2>-</font> <font color='blue' size=+1>day</font> !<p>\n",
        "[12] <font color='purple' size=+1>And</font> <font color='blue' size=+1>yesterday</font> <font color='blue' size=+1>things</font> <font color='red' size=+2>went</font> on just <font color='purple' size=+1>as</font> <font color='green'>usual</font> .<p>\n",
        "[13] <font color='#8080ff' size=+1>I</font> <font color='red' size=+2>wonder</font> <font color='purple' size=+1>if</font> <font color='#8080ff' size=+1>I</font> ' <i>[ve]</i> been <font color='red' size=+2>changed</font> <font color='#c08000' size=+2>in</font> <font size=-2>the</font> <font color='blue' size=+1>night</font> ?<p>\n",
        "[14] <font color='red' size=+2>Let</font> <font color='#8080ff' size=+1>me</font> <font color='red' size=+2>think</font> : was <font color='#8080ff' size=+1>I</font> <font size=-2>the</font> same when <font color='#8080ff' size=+1>I</font> <font color='red' size=+2>got</font> up this <font color='blue' size=+1>morning</font> ?<p>\n",
        "[15] <font color='#8080ff' size=+1>I</font> almost <font color='red' size=+2>think</font> <font color='#8080ff' size=+1>I</font> <font color='red'>can</font> <font color='red' size=+2>remember</font> <font color='red' size=+2>feeling</font> <font size=-2>a</font> little <font color='green'>different</font> .<p>\n",
        "[16] <font color='purple' size=+1>But</font> <font color='purple' size=+1>if</font> <font color='#8080ff' size=+1>I</font> ' <i>[m]</i> not <font size=-2>the</font> same , <font size=-2>the</font> next <font color='blue' size=+1>question</font> is , Who <font color='#c08000' size=+2>in</font> <font size=-2>the</font> <font color='blue' size=+1>world</font> am <font color='#8080ff' size=+1>I</font> ?<p>\n",
        "[17] Ah , <i>[THAT]</i> ' <font color='blue' size=+1>S</font> <font size=-2>the</font> <font color='green'>great</font> <font color='blue' size=+1>puzzle</font> !<p>\n",
        "[18] ' <font color='purple' size=+1>And</font> <font color='#8080ff' size=+1>she</font> <font color='red' size=+2>began</font> <font color='red' size=+2>thinking</font> over all <font size=-2>the</font> <font color='blue' size=+1>children</font> <font color='#8080ff' size=+1>she</font> <font color='red' size=+2>knew</font> <font color='purple' size=+1>that</font> were <font color='#c08000' size=+2>of</font> <font size=-2>the</font> same <font color='blue' size=+1>age</font> <font color='purple' size=+1>as</font> <font color='#8080ff' size=+1>herself</font> , to <font color='red' size=+2>see</font> <font color='purple' size=+1>if</font> <font color='#8080ff' size=+1>she</font> <font color='red'>could</font> have been <font color='red' size=+2>changed</font> <font color='#c08000' size=+2>for</font> any <font color='#c08000' size=+2>of</font> <font color='#8080ff' size=+1>them</font> .<p>\n",
        "[19] ' <font color='#8080ff' size=+1>I</font> ' <i>[m]</i> <font color='green'>sure</font> <font color='#8080ff' size=+1>I</font> ' <i>[m]</i> not <font color='blue' size=+1>Ada</font> <i>[,']</i> <font color='#8080ff' size=+1>she</font> <font color='red' size=+2>said</font> , ' <font color='#c08000' size=+2>for</font> <font color='#8080ff' size=+1>her</font> <font color='blue' size=+1>hair</font> <font color='red' size=+2>goes</font> <font color='#c08000' size=+2>in</font> <font color='green'>such</font> <font color='green'>long</font> <font color='blue' size=+1>ringlets</font> , <font color='purple' size=+1>and</font> <font color='#8080ff' size=+1>mine</font> <i>[doesn]</i> ' <font color='blue' size=+1>t</font> <font color='red' size=+2>go</font> <font color='#c08000' size=+2>in</font> <font color='blue' size=+1>ringlets</font> <font color='#c08000' size=+2>at</font> all ; <font color='purple' size=+1>and</font> <font color='#8080ff' size=+1>I</font> ' <i>[m]</i> <font color='green'>sure</font> <font color='#8080ff' size=+1>I</font> <font color='red'>can</font> ' <font color='blue' size=+1>t</font> be <i>[Mabel]</i> , <font color='purple' size=+1>for</font> <font color='#8080ff' size=+1>I</font> <font color='red' size=+2>know</font> all <font color='blue' size=+1>sorts</font> <font color='#c08000' size=+2>of</font> <font color='blue' size=+1>things</font> , <font color='purple' size=+1>and</font> <font color='#8080ff' size=+1>she</font> , oh !"
       ],
       "output_type": "pyout",
       "prompt_number": 216,
       "text": [
        "<IPython.core.display.HTML at 0x159f0410>"
       ]
      }
     ],
     "prompt_number": 216
    },
    {
     "cell_type": "code",
     "collapsed": false,
     "input": [
      "HTML(\"<p>\\n\".join([\"[%d] \"%i + stags(s) for i,s in enumerate(alltagged)]))"
     ],
     "language": "python",
     "metadata": {},
     "outputs": [
      {
       "html": [
        "[0] <font color='blue' size=+1>John</font> <font color='red' size=+2>loves</font> <font color='blue' size=+1>Jane</font> .<p>\n",
        "[1] <font color='blue' size=+1>Peter</font> <font color='purple' size=+1>and</font> <font color='blue' size=+1>John</font> both <font color='red' size=+2>like</font> <font color='blue' size=+1>Mozart</font> .<p>\n",
        "[2] <font color='blue' size=+1>Peter</font> <font color='red' size=+2>speaks</font> <font color='purple' size=+1>like</font> <font size=-2>a</font> <font color='blue' size=+1>politician</font> .<p>\n",
        "[3] <i>[Banana]</i> <font color='red' size=+2>flies</font> <font color='purple' size=+1>like</font> <font color='blue' size=+1>fruit</font> .<p>\n",
        "[4] Some <font color='blue' size=+1>flies</font> <font color='purple' size=+1>like</font> <font color='blue' size=+1>banana</font> .<p>\n",
        "[5] <font color='red' size=+2>Think</font> <font color='green'>different</font> .<p>\n",
        "[6] <font color='red' size=+2>Think</font> differently .<p>\n",
        "[7] <font color='blue' size=+1>John</font> <font color='red' size=+2>likes</font> <font color='blue' size=+1>ice</font> <font color='blue' size=+1>cream</font> <font color='purple' size=+1>and</font> <font color='blue' size=+1>Peter</font> <font color='red' size=+2>likes</font> to <font color='red' size=+2>sing</font> .<p>\n",
        "[8] <font size=-2>The</font> <font color='blue' size=+1>man</font> <font color='red' size=+2>harvested</font> <font size=-2>a</font> <font color='green'>ripe</font> <font color='blue' size=+1>coconut</font> <font color='#c08000' size=+2>with</font> <font size=-2>a</font> <font color='blue' size=+1>bush</font> <font color='blue' size=+1>knife</font> .<p>\n",
        "[9] <font color='#c08000' size=+2>On</font> <font size=-2>the</font> <font color='blue' size=+1>basis</font> <font color='#c08000' size=+2>of</font> <font size=-2>the</font> <font color='green'>physical</font> <font color='blue' size=+1>interpretation</font> <font color='#c08000' size=+2>of</font> <font color='blue' size=+1>distance</font> which <font color='red'>has</font> been <font color='red' size=+2>indicated</font> , <font color='#8080ff' size=+1>we</font> are also <font color='#c08000' size=+2>in</font> <font size=-2>a</font> <font color='blue' size=+1>position</font> to <font color='red' size=+2>establish</font> <font size=-2>the</font> <font color='blue' size=+1>distance</font> <font color='#c08000' size=+2>between</font> two <font color='blue' size=+1>points</font> <font color='#c08000' size=+2>on</font> <font size=-2>a</font> <font color='green'>rigid</font> <font color='blue' size=+1>body</font> <font color='#c08000' size=+2>by</font> <font color='blue' size=+1>means</font> <font color='#c08000' size=+2>of</font> <font color='blue' size=+1>measurements</font> .<p>\n",
        "[10] <font color='#8080ff' size=+1>We</font> <font color='red'>will</font> not <font color='red' size=+2>speak</font> <font color='#c08000' size=+2>of</font> all <i>[Queequeg]</i> <i>['s]</i> <font color='blue' size=+1>peculiarities</font> here ; how <font color='#8080ff' size=+1>he</font> <font color='red' size=+2>eschewed</font> <font color='blue' size=+1>coffee</font> <font color='purple' size=+1>and</font> <font color='green'>hot</font> <font color='blue' size=+1>rolls</font> , <font color='purple' size=+1>and</font> <font color='red' size=+2>applied</font> <font color='#8080ff' size=+1>his</font> <font color='green'>undivided</font> <font color='blue' size=+1>attention</font> <font color='#c08000' size=+2>to</font> <i>[beefsteaks]</i> , <font color='red' size=+2>done</font> <font color='green'>rare</font> .<p>\n",
        "[11] <font color='blue' size=+1>Voters</font> <font color='#c08000' size=+2>in</font> <i>[Catalonia]</i> <font color='red' size=+2>delivered</font> <font color='blue' size=+1>victory</font> <font color='#c08000' size=+2>to</font> <i>[separatist]</i> <font color='blue' size=+1>parties</font> <font color='#c08000' size=+2>in</font> <font size=-2>a</font> <font color='green'>regional</font> <font color='blue' size=+1>election</font> <font color='#c08000' size=+2>on</font> <font color='blue' size=+1>Sunday</font> , <font color='red' size=+2>raising</font> <font size=-2>the</font> <font color='blue' size=+1>likelihood</font> <font color='purple' size=+1>that</font> <font color='blue' size=+1>Spain</font> <i>['s]</i> most <font color='green'>powerful</font> <font color='green'>economic</font> <font color='blue' size=+1>region</font> <font color='red'>will</font> <font color='red' size=+2>hold</font> <font size=-2>an</font> <font color='blue' size=+1>independence</font> <font color='blue' size=+1>referendum</font> <font color='purple' size=+1>that</font> <font color='blue' size=+1>Madrid</font> <font color='red'>has</font> <font color='red' size=+2>vowed</font> to <font color='red' size=+2>block</font> .<p>\n",
        "[12] <font color='blue' size=+1>Alice</font> <font color='red' size=+2>took</font> up <font size=-2>the</font> <font color='blue' size=+1>fan</font> <font color='purple' size=+1>and</font> <font color='blue' size=+1>gloves</font> , <font color='purple' size=+1>and</font> , <font color='purple' size=+1>as</font> <font size=-2>the</font> <font color='blue' size=+1>hall</font> was very <font color='green'>hot</font> , <font color='#8080ff' size=+1>she</font> <font color='red' size=+2>kept</font> <font color='red' size=+2>fanning</font> <font color='#8080ff' size=+1>herself</font> all <font size=-2>the</font> <font color='blue' size=+1>time</font> <font color='#8080ff' size=+1>she</font> <font color='red' size=+2>went</font> <font color='#c08000' size=+2>on</font> <font color='red' size=+2>talking</font> : ' <font color='green'>Dear</font> , <font color='green'>dear</font> !<p>\n",
        "[13] How <font color='green'>queer</font> everything is to <font color='#c08000' size=+2>-</font> <font color='blue' size=+1>day</font> !<p>\n",
        "[14] <font color='purple' size=+1>And</font> <font color='blue' size=+1>yesterday</font> <font color='blue' size=+1>things</font> <font color='red' size=+2>went</font> on just <font color='purple' size=+1>as</font> <font color='green'>usual</font> .<p>\n",
        "[15] <font color='#8080ff' size=+1>I</font> <font color='red' size=+2>wonder</font> <font color='purple' size=+1>if</font> <font color='#8080ff' size=+1>I</font> ' <i>[ve]</i> been <font color='red' size=+2>changed</font> <font color='#c08000' size=+2>in</font> <font size=-2>the</font> <font color='blue' size=+1>night</font> ?<p>\n",
        "[16] <font color='red' size=+2>Let</font> <font color='#8080ff' size=+1>me</font> <font color='red' size=+2>think</font> : was <font color='#8080ff' size=+1>I</font> <font size=-2>the</font> same when <font color='#8080ff' size=+1>I</font> <font color='red' size=+2>got</font> up this <font color='blue' size=+1>morning</font> ?<p>\n",
        "[17] <font color='#8080ff' size=+1>I</font> almost <font color='red' size=+2>think</font> <font color='#8080ff' size=+1>I</font> <font color='red'>can</font> <font color='red' size=+2>remember</font> <font color='red' size=+2>feeling</font> <font size=-2>a</font> little <font color='green'>different</font> .<p>\n",
        "[18] <font color='purple' size=+1>But</font> <font color='purple' size=+1>if</font> <font color='#8080ff' size=+1>I</font> ' <i>[m]</i> not <font size=-2>the</font> same , <font size=-2>the</font> next <font color='blue' size=+1>question</font> is , Who <font color='#c08000' size=+2>in</font> <font size=-2>the</font> <font color='blue' size=+1>world</font> am <font color='#8080ff' size=+1>I</font> ?<p>\n",
        "[19] Ah , <i>[THAT]</i> ' <font color='blue' size=+1>S</font> <font size=-2>the</font> <font color='green'>great</font> <font color='blue' size=+1>puzzle</font> !<p>\n",
        "[20] ' <font color='purple' size=+1>And</font> <font color='#8080ff' size=+1>she</font> <font color='red' size=+2>began</font> <font color='red' size=+2>thinking</font> over all <font size=-2>the</font> <font color='blue' size=+1>children</font> <font color='#8080ff' size=+1>she</font> <font color='red' size=+2>knew</font> <font color='purple' size=+1>that</font> were <font color='#c08000' size=+2>of</font> <font size=-2>the</font> same <font color='blue' size=+1>age</font> <font color='purple' size=+1>as</font> <font color='#8080ff' size=+1>herself</font> , to <font color='red' size=+2>see</font> <font color='purple' size=+1>if</font> <font color='#8080ff' size=+1>she</font> <font color='red'>could</font> <font color='red'>have</font> been <font color='red' size=+2>changed</font> <font color='#c08000' size=+2>for</font> any <font color='#c08000' size=+2>of</font> <font color='#8080ff' size=+1>them</font> .<p>\n",
        "[21] ' <font color='#8080ff' size=+1>I</font> ' <i>[m]</i> <font color='green'>sure</font> <font color='#8080ff' size=+1>I</font> ' <i>[m]</i> not <font color='blue' size=+1>Ada</font> <i>[,']</i> <font color='#8080ff' size=+1>she</font> <font color='red' size=+2>said</font> , ' <font color='#c08000' size=+2>for</font> <font color='#8080ff' size=+1>her</font> <font color='blue' size=+1>hair</font> <font color='red' size=+2>goes</font> <font color='#c08000' size=+2>in</font> <font color='green'>such</font> <font color='green'>long</font> <font color='blue' size=+1>ringlets</font> , <font color='purple' size=+1>and</font> <font color='#8080ff' size=+1>mine</font> <i>[doesn]</i> ' <font color='blue' size=+1>t</font> <font color='red' size=+2>go</font> <font color='#c08000' size=+2>in</font> <font color='blue' size=+1>ringlets</font> <font color='#c08000' size=+2>at</font> all ; <font color='purple' size=+1>and</font> <font color='#8080ff' size=+1>I</font> ' <i>[m]</i> <font color='green'>sure</font> <font color='#8080ff' size=+1>I</font> <font color='red'>can</font> ' <font color='blue' size=+1>t</font> be <i>[Mabel]</i> , <font color='purple' size=+1>for</font> <font color='#8080ff' size=+1>I</font> <font color='red' size=+2>know</font> all <font color='blue' size=+1>sorts</font> <font color='#c08000' size=+2>of</font> <font color='blue' size=+1>things</font> , <font color='purple' size=+1>and</font> <font color='#8080ff' size=+1>she</font> , oh !"
       ],
       "output_type": "pyout",
       "prompt_number": 223,
       "text": [
        "<IPython.core.display.HTML at 0xf4c5cd0>"
       ]
      }
     ],
     "prompt_number": 223
    },
    {
     "cell_type": "heading",
     "level": 1,
     "metadata": {},
     "source": [
      "The TnT Tagger in Python"
     ]
    },
    {
     "cell_type": "code",
     "collapsed": false,
     "input": [
      "import nltk.tag\n",
      "import os\n",
      "import cPickle"
     ],
     "language": "python",
     "metadata": {},
     "outputs": [],
     "prompt_number": 217
    },
    {
     "cell_type": "markdown",
     "metadata": {},
     "source": [
      "Ordinarily, taggers are *trained* on tagged data.\n",
      "Here is an example of how to do this.\n",
      "\n",
      "The TnT tagger is a tagger based on n-grams.\n",
      "We will see later how that works.\n",
      "\n",
      "Here you see how the tagger is trained using tagged sentences and the `train`\n",
      "method.\n",
      "The trained model is written to disk with `cPickle.dump`.\n",
      "\n",
      "If a dumped, trained model already exists, the time consuming training step\n",
      "is skipped and the saved model is loaded instead."
     ]
    },
    {
     "cell_type": "code",
     "collapsed": false,
     "input": [
      "tntfile = \"brown.tnt.model\"\n",
      "if not os.path.exists(tntfile):\n",
      "    print \"# training and writing\",tntfile\n",
      "    tnt = nltk.tag.TnT()\n",
      "    tnt.train(brown.tagged_sents())\n",
      "    with open(tntfile,\"wb\") as stream: \n",
      "        cPickle.dump(tnt,stream)\n",
      "else:\n",
      "    print \"# loading\",tntfile\n",
      "    with open(tntfile,\"rb\") as stream:\n",
      "        tnt = cPickle.load(stream)"
     ],
     "language": "python",
     "metadata": {},
     "outputs": [
      {
       "output_type": "stream",
       "stream": "stdout",
       "text": [
        "# loading brown.tnt.model\n"
       ]
      }
     ],
     "prompt_number": 218
    },
    {
     "cell_type": "code",
     "collapsed": false,
     "input": [
      "tnt.tag(sents[2])"
     ],
     "language": "python",
     "metadata": {},
     "outputs": [
      {
       "output_type": "pyout",
       "prompt_number": 219,
       "text": [
        "[('Peter', 'NP'),\n",
        " ('speaks', 'VBZ'),\n",
        " ('like', 'CS'),\n",
        " ('a', 'AT'),\n",
        " ('politician', 'NN'),\n",
        " ('.', '.')]"
       ]
      }
     ],
     "prompt_number": 219
    },
    {
     "cell_type": "code",
     "collapsed": false,
     "input": [
      "HTML(stags(tnt.tag(sents[2])))"
     ],
     "language": "python",
     "metadata": {},
     "outputs": [
      {
       "html": [
        "<font color='blue' size=+1>Peter</font> <font color='red' size=+2>speaks</font> <font color='purple' size=+1>like</font> <font size=-2>a</font> <font color='blue' size=+1>politician</font> ."
       ],
       "output_type": "pyout",
       "prompt_number": 220,
       "text": [
        "<IPython.core.display.HTML at 0x5e09650>"
       ]
      }
     ],
     "prompt_number": 220
    },
    {
     "cell_type": "code",
     "collapsed": false,
     "input": [
      "alltagged = [tnt.tag(s) for s in sents]\n",
      "HTML(\"<p>\\n\".join([\"[%d] \"%i + stags(s) for i,s in enumerate(alltagged)]))"
     ],
     "language": "python",
     "metadata": {},
     "outputs": [
      {
       "html": [
        "[0] <font color='blue' size=+1>John</font> <font color='red' size=+2>loves</font> <font color='blue' size=+1>Jane</font> .<p>\n",
        "[1] <font color='blue' size=+1>Peter</font> <font color='purple' size=+1>and</font> <font color='blue' size=+1>John</font> both <font color='red' size=+2>like</font> <font color='blue' size=+1>Mozart</font> .<p>\n",
        "[2] <font color='blue' size=+1>Peter</font> <font color='red' size=+2>speaks</font> <font color='purple' size=+1>like</font> <font size=-2>a</font> <font color='blue' size=+1>politician</font> .<p>\n",
        "[3] <i>[Banana]</i> <font color='red' size=+2>flies</font> <font color='purple' size=+1>like</font> <font color='blue' size=+1>fruit</font> .<p>\n",
        "[4] Some <font color='blue' size=+1>flies</font> <font color='purple' size=+1>like</font> <font color='blue' size=+1>banana</font> .<p>\n",
        "[5] <font color='red' size=+2>Think</font> <font color='green'>different</font> .<p>\n",
        "[6] <font color='red' size=+2>Think</font> differently .<p>\n",
        "[7] <font color='blue' size=+1>John</font> <font color='red' size=+2>likes</font> <font color='blue' size=+1>ice</font> <font color='blue' size=+1>cream</font> <font color='purple' size=+1>and</font> <font color='blue' size=+1>Peter</font> <font color='red' size=+2>likes</font> to <font color='red' size=+2>sing</font> .<p>\n",
        "[8] <font size=-2>The</font> <font color='blue' size=+1>man</font> <font color='red' size=+2>harvested</font> <font size=-2>a</font> <font color='green'>ripe</font> <font color='blue' size=+1>coconut</font> <font color='#c08000' size=+2>with</font> <font size=-2>a</font> <font color='blue' size=+1>bush</font> <font color='blue' size=+1>knife</font> .<p>\n",
        "[9] <font color='#c08000' size=+2>On</font> <font size=-2>the</font> <font color='blue' size=+1>basis</font> <font color='#c08000' size=+2>of</font> <font size=-2>the</font> <font color='green'>physical</font> <font color='blue' size=+1>interpretation</font> <font color='#c08000' size=+2>of</font> <font color='blue' size=+1>distance</font> which has been <font color='red' size=+2>indicated</font> , <font color='#8080ff' size=+1>we</font> are also <font color='#c08000' size=+2>in</font> <font size=-2>a</font> <font color='blue' size=+1>position</font> to <font color='red' size=+2>establish</font> <font size=-2>the</font> <font color='blue' size=+1>distance</font> <font color='#c08000' size=+2>between</font> two <font color='blue' size=+1>points</font> <font color='#c08000' size=+2>on</font> <font size=-2>a</font> <font color='green'>rigid</font> <font color='blue' size=+1>body</font> <font color='#c08000' size=+2>by</font> <font color='blue' size=+1>means</font> <font color='#c08000' size=+2>of</font> <font color='blue' size=+1>measurements</font> .<p>\n",
        "[10] <font color='#8080ff' size=+1>We</font> <font color='red'>will</font> not <font color='red' size=+2>speak</font> <font color='#c08000' size=+2>of</font> all <i>[Queequeg]</i> <i>['s]</i> <font color='blue' size=+1>peculiarities</font> here ; how <font color='#8080ff' size=+1>he</font> <font color='red' size=+2>eschewed</font> <font color='blue' size=+1>coffee</font> <font color='purple' size=+1>and</font> <font color='green'>hot</font> <font color='blue' size=+1>rolls</font> , <font color='purple' size=+1>and</font> <font color='red' size=+2>applied</font> <font color='#8080ff' size=+1>his</font> <font color='green'>undivided</font> <font color='blue' size=+1>attention</font> <font color='#c08000' size=+2>to</font> <i>[beefsteaks]</i> , <font color='red' size=+2>done</font> <font color='green'>rare</font> .<p>\n",
        "[11] <font color='blue' size=+1>Voters</font> <font color='#c08000' size=+2>in</font> <i>[Catalonia]</i> <font color='red' size=+2>delivered</font> <font color='blue' size=+1>victory</font> <font color='#c08000' size=+2>to</font> <i>[separatist]</i> <font color='blue' size=+1>parties</font> <font color='#c08000' size=+2>in</font> <font size=-2>a</font> <font color='green'>regional</font> <font color='blue' size=+1>election</font> <font color='#c08000' size=+2>on</font> <font color='blue' size=+1>Sunday</font> , <font color='red' size=+2>raising</font> <font size=-2>the</font> <font color='blue' size=+1>likelihood</font> <font color='purple' size=+1>that</font> <font color='blue' size=+1>Spain</font> <i>['s]</i> most <font color='green'>powerful</font> <font color='green'>economic</font> <font color='blue' size=+1>region</font> <font color='red'>will</font> <font color='red' size=+2>hold</font> <font size=-2>an</font> <font color='blue' size=+1>independence</font> <font color='blue' size=+1>referendum</font> <font color='purple' size=+1>that</font> <font color='blue' size=+1>Madrid</font> has <font color='red' size=+2>vowed</font> to <font color='red' size=+2>block</font> .<p>\n",
        "[12] <font color='blue' size=+1>Alice</font> <font color='red' size=+2>took</font> up <font size=-2>the</font> <font color='blue' size=+1>fan</font> <font color='purple' size=+1>and</font> <font color='blue' size=+1>gloves</font> , <font color='purple' size=+1>and</font> , <font color='purple' size=+1>as</font> <font size=-2>the</font> <font color='blue' size=+1>hall</font> was very <font color='green'>hot</font> , <font color='#8080ff' size=+1>she</font> <font color='red' size=+2>kept</font> <font color='red' size=+2>fanning</font> <font color='#8080ff' size=+1>herself</font> all <font size=-2>the</font> <font color='blue' size=+1>time</font> <font color='#8080ff' size=+1>she</font> <font color='red' size=+2>went</font> <font color='#c08000' size=+2>on</font> <font color='red' size=+2>talking</font> : ' <font color='green'>Dear</font> , <font color='green'>dear</font> !<p>\n",
        "[13] How <font color='green'>queer</font> everything is to <font color='#c08000' size=+2>-</font> <font color='blue' size=+1>day</font> !<p>\n",
        "[14] <font color='purple' size=+1>And</font> <font color='blue' size=+1>yesterday</font> <font color='blue' size=+1>things</font> <font color='red' size=+2>went</font> on just <font color='purple' size=+1>as</font> <font color='green'>usual</font> .<p>\n",
        "[15] <font color='#8080ff' size=+1>I</font> <font color='red' size=+2>wonder</font> <font color='purple' size=+1>if</font> <font color='#8080ff' size=+1>I</font> ' <i>[ve]</i> been <font color='red' size=+2>changed</font> <font color='#c08000' size=+2>in</font> <font size=-2>the</font> <font color='blue' size=+1>night</font> ?<p>\n",
        "[16] <font color='red' size=+2>Let</font> <font color='#8080ff' size=+1>me</font> <font color='red' size=+2>think</font> : was <font color='#8080ff' size=+1>I</font> <font size=-2>the</font> same when <font color='#8080ff' size=+1>I</font> <font color='red' size=+2>got</font> up this <font color='blue' size=+1>morning</font> ?<p>\n",
        "[17] <font color='#8080ff' size=+1>I</font> almost <font color='red' size=+2>think</font> <font color='#8080ff' size=+1>I</font> <font color='red'>can</font> <font color='red' size=+2>remember</font> <font color='red' size=+2>feeling</font> <font size=-2>a</font> little <font color='green'>different</font> .<p>\n",
        "[18] <font color='purple' size=+1>But</font> <font color='purple' size=+1>if</font> <font color='#8080ff' size=+1>I</font> ' <i>[m]</i> not <font size=-2>the</font> same , <font size=-2>the</font> next <font color='blue' size=+1>question</font> is , Who <font color='#c08000' size=+2>in</font> <font size=-2>the</font> <font color='blue' size=+1>world</font> am <font color='#8080ff' size=+1>I</font> ?<p>\n",
        "[19] Ah , <i>[THAT]</i> ' <font color='blue' size=+1>S</font> <font size=-2>the</font> <font color='green'>great</font> <font color='blue' size=+1>puzzle</font> !<p>\n",
        "[20] ' <font color='purple' size=+1>And</font> <font color='#8080ff' size=+1>she</font> <font color='red' size=+2>began</font> <font color='red' size=+2>thinking</font> over all <font size=-2>the</font> <font color='blue' size=+1>children</font> <font color='#8080ff' size=+1>she</font> <font color='red' size=+2>knew</font> <font color='purple' size=+1>that</font> were <font color='#c08000' size=+2>of</font> <font size=-2>the</font> same <font color='blue' size=+1>age</font> <font color='purple' size=+1>as</font> <font color='#8080ff' size=+1>herself</font> , to <font color='red' size=+2>see</font> <font color='purple' size=+1>if</font> <font color='#8080ff' size=+1>she</font> <font color='red'>could</font> have been <font color='red' size=+2>changed</font> <font color='#c08000' size=+2>for</font> any <font color='#c08000' size=+2>of</font> <font color='#8080ff' size=+1>them</font> .<p>\n",
        "[21] ' <font color='#8080ff' size=+1>I</font> ' <i>[m]</i> <font color='green'>sure</font> <font color='#8080ff' size=+1>I</font> ' <i>[m]</i> not <font color='blue' size=+1>Ada</font> <i>[,']</i> <font color='#8080ff' size=+1>she</font> <font color='red' size=+2>said</font> , ' <font color='#c08000' size=+2>for</font> <font color='#8080ff' size=+1>her</font> <font color='blue' size=+1>hair</font> <font color='red' size=+2>goes</font> <font color='#c08000' size=+2>in</font> <font color='green'>such</font> <font color='green'>long</font> <font color='blue' size=+1>ringlets</font> , <font color='purple' size=+1>and</font> <font color='#8080ff' size=+1>mine</font> <i>[doesn]</i> ' <font color='blue' size=+1>t</font> <font color='red' size=+2>go</font> <font color='#c08000' size=+2>in</font> <font color='blue' size=+1>ringlets</font> <font color='#c08000' size=+2>at</font> all ; <font color='purple' size=+1>and</font> <font color='#8080ff' size=+1>I</font> ' <i>[m]</i> <font color='green'>sure</font> <font color='#8080ff' size=+1>I</font> <font color='red'>can</font> ' <font color='blue' size=+1>t</font> be <i>[Mabel]</i> , <font color='purple' size=+1>for</font> <font color='#8080ff' size=+1>I</font> <font color='red' size=+2>know</font> all <font color='blue' size=+1>sorts</font> <font color='#c08000' size=+2>of</font> <font color='blue' size=+1>things</font> , <font color='purple' size=+1>and</font> <font color='#8080ff' size=+1>she</font> , oh !"
       ],
       "output_type": "pyout",
       "prompt_number": 221,
       "text": [
        "<IPython.core.display.HTML at 0x159f0190>"
       ]
      }
     ],
     "prompt_number": 221
    },
    {
     "cell_type": "heading",
     "level": 1,
     "metadata": {},
     "source": [
      "More Taggers"
     ]
    },
    {
     "cell_type": "markdown",
     "metadata": {},
     "source": [
      "NLTK provides a common, simple interface to a number of different taggers.\n",
      "\n",
      "## Brill Tagger\n",
      "\n",
      "A *Brill Tagger* takes:\n",
      "\n",
      "- an existing tagger\n",
      "- a set of tagged sentences\n",
      "\n",
      "It uses the existing tagger and attempts to learn transformational rules that improve the performance of the existing tagger.\n",
      "\n",
      "## HunposTagger\n",
      "\n",
      "The *HunposTagger* is an HMM-based tagger, a reimplementation of the TnT tagger.\n",
      "It is written in OCAML; NLTK contains a Python interface.\n",
      "\n",
      "## Mallet Tagger\n",
      "\n",
      "Mallet is a machine learning toolkit for statistical natural language processing written\n",
      "in Java.  The Mallet tagger is based on CRF's. We may be able to cover CRF's later in the class."
     ]
    }
   ],
   "metadata": {}
  }
 ]
}