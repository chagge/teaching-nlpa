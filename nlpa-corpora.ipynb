{
 "metadata": {
  "name": "nlpa-corpora"
 },
 "nbformat": 3,
 "nbformat_minor": 0,
 "worksheets": [
  {
   "cells": [
    {
     "cell_type": "heading",
     "level": 1,
     "metadata": {},
     "source": [
      "Properties of Corpora"
     ]
    },
    {
     "cell_type": "code",
     "collapsed": false,
     "input": [
      "from nltk.corpus import brown"
     ],
     "language": "python",
     "metadata": {},
     "outputs": [],
     "prompt_number": 1
    },
    {
     "cell_type": "heading",
     "level": 2,
     "metadata": {},
     "source": [
      "Corpora are Collections of Files"
     ]
    },
    {
     "cell_type": "code",
     "collapsed": false,
     "input": [
      "brown.root"
     ],
     "language": "python",
     "metadata": {},
     "outputs": [
      {
       "output_type": "pyout",
       "prompt_number": 17,
       "text": [
        "FileSystemPathPointer('/home/tmb/nltk_data/corpora/brown')"
       ]
      }
     ],
     "prompt_number": 17
    },
    {
     "cell_type": "code",
     "collapsed": false,
     "input": [
      "brown.readme()"
     ],
     "language": "python",
     "metadata": {},
     "outputs": [
      {
       "output_type": "pyout",
       "prompt_number": 18,
       "text": [
        "'BROWN CORPUS\\n\\nA Standard Corpus of Present-Day Edited American\\nEnglish, for use with Digital Computers.\\n\\nby W. N. Francis and H. Kucera (1964)\\nDepartment of Linguistics, Brown University\\nProvidence, Rhode Island, USA\\n\\nRevised 1971, Revised and Amplified 1979\\n\\nhttp://www.hit.uib.no/icame/brown/bcm.html\\n\\nDistributed with the permission of the copyright holder,\\nredistribution permitted.\\n'"
       ]
      }
     ],
     "prompt_number": 18
    },
    {
     "cell_type": "code",
     "collapsed": false,
     "input": [
      "brown.fileids()[:10]"
     ],
     "language": "python",
     "metadata": {},
     "outputs": [
      {
       "output_type": "pyout",
       "prompt_number": 15,
       "text": [
        "['ca01',\n",
        " 'ca02',\n",
        " 'ca03',\n",
        " 'ca04',\n",
        " 'ca05',\n",
        " 'ca06',\n",
        " 'ca07',\n",
        " 'ca08',\n",
        " 'ca09',\n",
        " 'ca10']"
       ]
      }
     ],
     "prompt_number": 15
    },
    {
     "cell_type": "markdown",
     "metadata": {},
     "source": [
      "Files may have different encodings; the default is ASCII processed as `str`."
     ]
    },
    {
     "cell_type": "code",
     "collapsed": false,
     "input": [
      "brown.encoding(\"ca01\")"
     ],
     "language": "python",
     "metadata": {},
     "outputs": [],
     "prompt_number": 16
    },
    {
     "cell_type": "markdown",
     "metadata": {},
     "source": [
      "Files may also be in different categories."
     ]
    },
    {
     "cell_type": "code",
     "collapsed": false,
     "input": [
      "brown.categories()"
     ],
     "language": "python",
     "metadata": {},
     "outputs": [
      {
       "output_type": "pyout",
       "prompt_number": 19,
       "text": [
        "['adventure',\n",
        " 'belles_lettres',\n",
        " 'editorial',\n",
        " 'fiction',\n",
        " 'government',\n",
        " 'hobbies',\n",
        " 'humor',\n",
        " 'learned',\n",
        " 'lore',\n",
        " 'mystery',\n",
        " 'news',\n",
        " 'religion',\n",
        " 'reviews',\n",
        " 'romance',\n",
        " 'science_fiction']"
       ]
      }
     ],
     "prompt_number": 19
    },
    {
     "cell_type": "heading",
     "level": 2,
     "metadata": {},
     "source": [
      "Accessing Content"
     ]
    },
    {
     "cell_type": "markdown",
     "metadata": {},
     "source": [
      "The corpus abstraction allows you to avoid having to deal with individual files, encodings, etc.\n",
      "\n",
      "That is, you can access all the words, all the text, all the sentences etc. in a corpus from a single object.\n"
     ]
    },
    {
     "cell_type": "code",
     "collapsed": false,
     "input": [
      "brown.raw()[:100]"
     ],
     "language": "python",
     "metadata": {},
     "outputs": [
      {
       "output_type": "pyout",
       "prompt_number": 54,
       "text": [
        "'\\n\\n\\tThe/at Fulton/np-tl County/nn-tl Grand/jj-tl Jury/nn-tl said/vbd Friday/nr an/at investigation/nn'"
       ]
      }
     ],
     "prompt_number": 54
    },
    {
     "cell_type": "code",
     "collapsed": false,
     "input": [
      "brown.words()[:10]"
     ],
     "language": "python",
     "metadata": {},
     "outputs": [
      {
       "output_type": "pyout",
       "prompt_number": 2,
       "text": [
        "['The',\n",
        " 'Fulton',\n",
        " 'County',\n",
        " 'Grand',\n",
        " 'Jury',\n",
        " 'said',\n",
        " 'Friday',\n",
        " 'an',\n",
        " 'investigation',\n",
        " 'of']"
       ]
      }
     ],
     "prompt_number": 2
    },
    {
     "cell_type": "code",
     "collapsed": false,
     "input": [
      "for s in brown.sents()[:10]: print s[:5]"
     ],
     "language": "python",
     "metadata": {},
     "outputs": [
      {
       "output_type": "stream",
       "stream": "stdout",
       "text": [
        "['The', 'Fulton', 'County', 'Grand', 'Jury']\n",
        "['The', 'jury', 'further', 'said', 'in']\n",
        "['The', 'September-October', 'term', 'jury', 'had']\n",
        "['``', 'Only', 'a', 'relative', 'handful']\n",
        "['The', 'jury', 'said', 'it', 'did']\n",
        "['It', 'recommended', 'that', 'Fulton', 'legislators']\n",
        "['The', 'grand', 'jury', 'commented', 'on']\n",
        "['Merger', 'proposed']\n",
        "['However', ',', 'the', 'jury', 'said']\n",
        "['The', 'City', 'Purchasing', 'Department', ',']\n"
       ]
      }
     ],
     "prompt_number": 5
    },
    {
     "cell_type": "code",
     "collapsed": false,
     "input": [
      "brown.tagged_words()[:10]"
     ],
     "language": "python",
     "metadata": {},
     "outputs": [
      {
       "output_type": "pyout",
       "prompt_number": 6,
       "text": [
        "[('The', 'AT'),\n",
        " ('Fulton', 'NP-TL'),\n",
        " ('County', 'NN-TL'),\n",
        " ('Grand', 'JJ-TL'),\n",
        " ('Jury', 'NN-TL'),\n",
        " ('said', 'VBD'),\n",
        " ('Friday', 'NR'),\n",
        " ('an', 'AT'),\n",
        " ('investigation', 'NN'),\n",
        " ('of', 'IN')]"
       ]
      }
     ],
     "prompt_number": 6
    },
    {
     "cell_type": "code",
     "collapsed": false,
     "input": [
      "brown.tagged_sents()[0][:10]"
     ],
     "language": "python",
     "metadata": {},
     "outputs": [
      {
       "output_type": "pyout",
       "prompt_number": 8,
       "text": [
        "[('The', 'AT'),\n",
        " ('Fulton', 'NP-TL'),\n",
        " ('County', 'NN-TL'),\n",
        " ('Grand', 'JJ-TL'),\n",
        " ('Jury', 'NN-TL'),\n",
        " ('said', 'VBD'),\n",
        " ('Friday', 'NR'),\n",
        " ('an', 'AT'),\n",
        " ('investigation', 'NN'),\n",
        " ('of', 'IN')]"
       ]
      }
     ],
     "prompt_number": 8
    },
    {
     "cell_type": "heading",
     "level": 1,
     "metadata": {},
     "source": [
      "Reading New Corpora"
     ]
    },
    {
     "cell_type": "code",
     "collapsed": false,
     "input": [
      "import nltk.corpus.reader"
     ],
     "language": "python",
     "metadata": {},
     "outputs": [],
     "prompt_number": 20
    },
    {
     "cell_type": "code",
     "collapsed": false,
     "input": [
      "corpus = nltk.corpus.reader.plaintext.PlaintextCorpusReader(\".\",r\"[ft].*txt\",encoding=\"utf8\")"
     ],
     "language": "python",
     "metadata": {},
     "outputs": [],
     "prompt_number": 30
    },
    {
     "cell_type": "code",
     "collapsed": false,
     "input": [
      "corpus.fileids()"
     ],
     "language": "python",
     "metadata": {},
     "outputs": [
      {
       "output_type": "pyout",
       "prompt_number": 31,
       "text": [
        "['faust.txt', 'tomsawyer.txt']"
       ]
      }
     ],
     "prompt_number": 31
    },
    {
     "cell_type": "code",
     "collapsed": false,
     "input": [
      "corpus.raw()[:100]"
     ],
     "language": "python",
     "metadata": {},
     "outputs": [
      {
       "output_type": "pyout",
       "prompt_number": 32,
       "text": [
        "u'Faust: Der Trag\\xf6die erster Teil\\n\\nJohann Wolfgang von Goethe\\n\\n\\nZueignung.\\n\\nIhr naht euch wieder, schw'"
       ]
      }
     ],
     "prompt_number": 32
    },
    {
     "cell_type": "code",
     "collapsed": false,
     "input": [
      "corpus.paras()[:2]"
     ],
     "language": "python",
     "metadata": {},
     "outputs": [
      {
       "output_type": "pyout",
       "prompt_number": 33,
       "text": [
        "[[[u'Faust', u':', u'Der', u'Trag\\xf6die', u'erster', u'Teil']],\n",
        " [[u'Johann', u'Wolfgang', u'von', u'Goethe']]]"
       ]
      }
     ],
     "prompt_number": 33
    },
    {
     "cell_type": "code",
     "collapsed": false,
     "input": [
      "print corpus.sents()[500]"
     ],
     "language": "python",
     "metadata": {},
     "outputs": [
      {
       "output_type": "stream",
       "stream": "stdout",
       "text": [
        "[u'FAUST', u':', u'Vor', u'jenem', u'droben', u'steht', u'geb\\xfcckt', u',', u'Der', u'helfen', u'lehrt', u'und', u'H\\xfclfe', u'schickt', u'.']\n"
       ]
      }
     ],
     "prompt_number": 39
    },
    {
     "cell_type": "code",
     "collapsed": false,
     "input": [
      "print corpus.words()[500:510]"
     ],
     "language": "python",
     "metadata": {},
     "outputs": [
      {
       "output_type": "stream",
       "stream": "stdout",
       "text": [
        "[u'heute', u'!', u'DICHTER', u':', u'O', u'sprich', u'mir', u'nicht', u'von', u'jener']\n"
       ]
      }
     ],
     "prompt_number": 40
    },
    {
     "cell_type": "code",
     "collapsed": false,
     "input": [
      "from nltk import Text\n",
      "text = Text(corpus.words(\"tomsawyer.txt\"))"
     ],
     "language": "python",
     "metadata": {},
     "outputs": [],
     "prompt_number": 44
    },
    {
     "cell_type": "code",
     "collapsed": false,
     "input": [
      "text.concordance(\"with\")"
     ],
     "language": "python",
     "metadata": {},
     "outputs": [
      {
       "output_type": "stream",
       "stream": "stdout",
       "text": [
        "Building index...\n",
        "Displaying 25 of 647 matches:"
       ]
      },
      {
       "output_type": "stream",
       "stream": "stdout",
       "text": [
        "\n",
        "\" TOM !\" No answer . \" What ' s gone with that boy , I wonder ? You TOM !\" No \n",
        "ding down and punching under the bed with the broom , and so she needed breath\n",
        "eded breath to punctuate the punches with . She resurrected nothing but the ca\n",
        " - brother ) Sid was already through with his part of the work ( picking up ch\n",
        "et vanity to believe she was endowed with a talent for dark and mysterious dip\n",
        " sewed . \" Bother ! Well , go ' long with you . I ' d made sure you ' d played\n",
        " didn ' t think you sewed his collar with white thread , but it ' s black .\" \"\n",
        "it ' s black .\" \" Why , I did sew it with white ! Tom !\" But Tom did not wait \n",
        " Confound it ! sometimes she sews it with white , and sometimes she sews it wi\n",
        "th white , and sometimes she sews it with black . I wish to geeminy she ' d st\n",
        "f it , and he strode down the street with his mouth full of harmony __________\n",
        "ure is concerned , the advantage was with the boy , not the astronomer . The s\n",
        "art , don ' t you ? I could lick you with one hand tied behind me , if I wante\n",
        "do it .\" \" Well I will , if you fool with me .\" \" Oh yes -- I ' ve seen whole \n",
        "n ' t either .\" So they stood , each with a foot placed at an angle as a brace\n",
        " angle as a brace , and both shoving with might and main , and glowering at ea\n",
        "d main , and glowering at each other with hate . But neither could get an adva\n",
        "nd flushed , each relaxed his strain with watchful caution , and Tom said : \" \n",
        "other on you , and he can thrash you with his little finger , and I ' ll make \n",
        "it so .\" Tom drew a line in the dust with his big toe , and said : \" I dare yo\n",
        " out of his pocket and held them out with derision . Tom struck them to the gr\n",
        "er ' s nose , and covered themselves with dust and glory . Presently the confu\n",
        "tride the new boy , and pounding him with his fists . \" Holler ' nuff !\" said \n",
        "Better look out who you ' re fooling with next time .\" The new boy went off br\n",
        "ht him out .\" To which Tom responded with jeers , and started off in high feat\n"
       ]
      }
     ],
     "prompt_number": 47
    },
    {
     "cell_type": "code",
     "collapsed": false,
     "input": [
      "text.similar(\"with\")"
     ],
     "language": "python",
     "metadata": {},
     "outputs": [
      {
       "output_type": "stream",
       "stream": "stdout",
       "text": [
        "Building word-context index...\n",
        "and in on to for of was at into up s that through but if just upon\n",
        "what as by"
       ]
      },
      {
       "output_type": "stream",
       "stream": "stdout",
       "text": [
        "\n"
       ]
      }
     ],
     "prompt_number": 48
    },
    {
     "cell_type": "code",
     "collapsed": false,
     "input": [
      "text.common_contexts([\"with\",\"as\"])"
     ],
     "language": "python",
     "metadata": {},
     "outputs": [
      {
       "output_type": "stream",
       "stream": "stdout",
       "text": [
        "but_the is_a long_you up_a\n"
       ]
      }
     ],
     "prompt_number": 50
    }
   ],
   "metadata": {}
  }
 ]
}